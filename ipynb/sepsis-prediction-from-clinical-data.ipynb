{
 "cells": [
  {
   "cell_type": "markdown",
   "source": [
    "# Sepsis prediction from clinical data"
   ],
   "metadata": {
    "papermill": {
     "duration": 0.059414,
     "end_time": "2021-05-04T16:39:56.592368",
     "exception": false,
     "start_time": "2021-05-04T16:39:56.532954",
     "status": "completed"
    },
    "tags": []
   }
  },
  {
   "cell_type": "markdown",
   "source": [
    "Sepsis is a life-threatening condition that occurs when the body's response to infection causes tissue damage, organ failure, or death ([source](https://doi.org/10.13026/v64v-d857)). Internationally, an estimated 30 million people develop sepsis and 6 million people die from sepsis each year; an estimated 4.2 million newborns and children are affected ([WHO](https://www.who.int/news-room/fact-sheets/detail/sepsis)). Early detection and antibiotic treatment of sepsis are critical for improving sepsis outcomes, where each hour of delayed treatment has been associated with roughly an 4-8% increase in mortality ([source](https://doi.org/10.13026/v64v-d857))."
   ],
   "metadata": {
    "papermill": {
     "duration": 0.058003,
     "end_time": "2021-05-04T16:39:56.709906",
     "exception": false,
     "start_time": "2021-05-04T16:39:56.651903",
     "status": "completed"
    },
    "tags": []
   }
  },
  {
   "cell_type": "markdown",
   "source": [
    "In this notebook I will do exploratory analysis of clinical data and will try to develop the best model for early prediction of the sepsis among patients."
   ],
   "metadata": {
    "papermill": {
     "duration": 0.059282,
     "end_time": "2021-05-04T16:39:56.827884",
     "exception": false,
     "start_time": "2021-05-04T16:39:56.768602",
     "status": "completed"
    },
    "tags": []
   }
  },
  {
   "cell_type": "markdown",
   "source": [
    "# Contents\n",
    "1. [Exploratory Data Analysis](#EDA)\n",
    "2. [Feature Engineering](#FE)\n",
    "3. [Model Selection](#MS)\n",
    "4. [Tunning the model's hyperparameters](#FTSM)"
   ],
   "metadata": {
    "papermill": {
     "duration": 0.058141,
     "end_time": "2021-05-04T16:39:56.945329",
     "exception": false,
     "start_time": "2021-05-04T16:39:56.887188",
     "status": "completed"
    },
    "tags": []
   }
  },
  {
   "cell_type": "markdown",
   "source": [
    "---"
   ],
   "metadata": {
    "papermill": {
     "duration": 0.058608,
     "end_time": "2021-05-04T16:39:57.062537",
     "exception": false,
     "start_time": "2021-05-04T16:39:57.003929",
     "status": "completed"
    },
    "tags": []
   }
  },
  {
   "cell_type": "markdown",
   "source": [
    "**Import libraries:**"
   ],
   "metadata": {
    "papermill": {
     "duration": 0.061118,
     "end_time": "2021-05-04T16:39:57.184283",
     "exception": false,
     "start_time": "2021-05-04T16:39:57.123165",
     "status": "completed"
    },
    "tags": []
   }
  },
  {
   "cell_type": "code",
   "execution_count": 2,
   "source": [
    "# data manipulation libraries\r\n",
    "import numpy as np # linear algebra\r\n",
    "import pandas as pd # data processing\r\n",
    "\r\n",
    "# data visualization libraries\r\n",
    "import matplotlib.pyplot as plt\r\n",
    "import seaborn as sns\r\n",
    "\r\n",
    "# machine learning methods\r\n",
    "from sklearn.model_selection import train_test_split # data splitting into train and test\r\n",
    "from sklearn.preprocessing import FunctionTransformer\r\n",
    "from sklearn.pipeline import Pipeline\r\n",
    "from sklearn.impute import SimpleImputer\r\n",
    "from sklearn.preprocessing import OneHotEncoder\r\n",
    "from sklearn.compose import ColumnTransformer\r\n",
    "from sklearn.preprocessing import StandardScaler\r\n",
    "from sklearn.preprocessing import OrdinalEncoder\r\n",
    "\r\n",
    "\r\n",
    "from sklearn.linear_model import LogisticRegression\r\n",
    "from sklearn.neural_network import MLPClassifier\r\n",
    "\r\n",
    "from sklearn.model_selection import cross_validate\r\n",
    "from sklearn.metrics import f1_score"
   ],
   "outputs": [],
   "metadata": {
    "_cell_guid": "b1076dfc-b9ad-4769-8c92-a6c4dae69d19",
    "_uuid": "8f2839f25d086af736a60e9eeb907d3b93b6e0e5",
    "execution": {
     "iopub.execute_input": "2021-05-04T16:39:57.309535Z",
     "iopub.status.busy": "2021-05-04T16:39:57.307746Z",
     "iopub.status.idle": "2021-05-04T16:39:58.812265Z",
     "shell.execute_reply": "2021-05-04T16:39:58.812861Z"
    },
    "papermill": {
     "duration": 1.568627,
     "end_time": "2021-05-04T16:39:58.813178",
     "exception": false,
     "start_time": "2021-05-04T16:39:57.244551",
     "status": "completed"
    },
    "tags": []
   }
  },
  {
   "cell_type": "markdown",
   "source": [
    "**Load data:**"
   ],
   "metadata": {
    "papermill": {
     "duration": 0.058217,
     "end_time": "2021-05-04T16:39:58.930182",
     "exception": false,
     "start_time": "2021-05-04T16:39:58.871965",
     "status": "completed"
    },
    "tags": []
   }
  },
  {
   "cell_type": "code",
   "execution_count": 3,
   "source": [
    "dataSepsis = pd.read_csv(\"dataSepsis.csv\", sep=\";\")"
   ],
   "outputs": [],
   "metadata": {
    "execution": {
     "iopub.execute_input": "2021-05-04T16:39:59.050420Z",
     "iopub.status.busy": "2021-05-04T16:39:59.049495Z",
     "iopub.status.idle": "2021-05-04T16:39:59.323980Z",
     "shell.execute_reply": "2021-05-04T16:39:59.324587Z"
    },
    "papermill": {
     "duration": 0.336394,
     "end_time": "2021-05-04T16:39:59.324776",
     "exception": false,
     "start_time": "2021-05-04T16:39:58.988382",
     "status": "completed"
    },
    "tags": []
   }
  },
  {
   "cell_type": "markdown",
   "source": [
    "----"
   ],
   "metadata": {
    "papermill": {
     "duration": 0.05935,
     "end_time": "2021-05-04T16:39:59.442577",
     "exception": false,
     "start_time": "2021-05-04T16:39:59.383227",
     "status": "completed"
    },
    "tags": []
   }
  },
  {
   "cell_type": "markdown",
   "source": [
    "<a id=\"EDA\"></a>\n",
    "# 1. Exploratory Data Analysis"
   ],
   "metadata": {
    "papermill": {
     "duration": 0.060826,
     "end_time": "2021-05-04T16:39:59.561880",
     "exception": false,
     "start_time": "2021-05-04T16:39:59.501054",
     "status": "completed"
    },
    "tags": []
   }
  },
  {
   "cell_type": "markdown",
   "source": [
    "First, let's get a cursory overview of the data with Pandas methods `head()`, `info()`, and `describe()`:"
   ],
   "metadata": {
    "papermill": {
     "duration": 0.062628,
     "end_time": "2021-05-04T16:39:59.699151",
     "exception": false,
     "start_time": "2021-05-04T16:39:59.636523",
     "status": "completed"
    },
    "tags": []
   }
  },
  {
   "cell_type": "code",
   "execution_count": 4,
   "source": [
    "dataSepsis.head(15).T"
   ],
   "outputs": [
    {
     "output_type": "execute_result",
     "data": {
      "text/html": [
       "<div>\n",
       "<style scoped>\n",
       "    .dataframe tbody tr th:only-of-type {\n",
       "        vertical-align: middle;\n",
       "    }\n",
       "\n",
       "    .dataframe tbody tr th {\n",
       "        vertical-align: top;\n",
       "    }\n",
       "\n",
       "    .dataframe thead th {\n",
       "        text-align: right;\n",
       "    }\n",
       "</style>\n",
       "<table border=\"1\" class=\"dataframe\">\n",
       "  <thead>\n",
       "    <tr style=\"text-align: right;\">\n",
       "      <th></th>\n",
       "      <th>0</th>\n",
       "      <th>1</th>\n",
       "      <th>2</th>\n",
       "      <th>3</th>\n",
       "      <th>4</th>\n",
       "      <th>5</th>\n",
       "      <th>6</th>\n",
       "      <th>7</th>\n",
       "      <th>8</th>\n",
       "      <th>9</th>\n",
       "      <th>10</th>\n",
       "      <th>11</th>\n",
       "      <th>12</th>\n",
       "      <th>13</th>\n",
       "      <th>14</th>\n",
       "    </tr>\n",
       "  </thead>\n",
       "  <tbody>\n",
       "    <tr>\n",
       "      <th>HR</th>\n",
       "      <td>103.00</td>\n",
       "      <td>58.00</td>\n",
       "      <td>91.00</td>\n",
       "      <td>92.00</td>\n",
       "      <td>155.50</td>\n",
       "      <td>73.00</td>\n",
       "      <td>NaN</td>\n",
       "      <td>82.00</td>\n",
       "      <td>89.00</td>\n",
       "      <td>100.00</td>\n",
       "      <td>95.00</td>\n",
       "      <td>86.00</td>\n",
       "      <td>88.00</td>\n",
       "      <td>116.00</td>\n",
       "      <td>110.00</td>\n",
       "    </tr>\n",
       "    <tr>\n",
       "      <th>O2Sat</th>\n",
       "      <td>90.00</td>\n",
       "      <td>95.00</td>\n",
       "      <td>94.00</td>\n",
       "      <td>100.00</td>\n",
       "      <td>94.50</td>\n",
       "      <td>99.00</td>\n",
       "      <td>NaN</td>\n",
       "      <td>100.00</td>\n",
       "      <td>100.00</td>\n",
       "      <td>95.00</td>\n",
       "      <td>100.00</td>\n",
       "      <td>96.00</td>\n",
       "      <td>100.00</td>\n",
       "      <td>97.00</td>\n",
       "      <td>99.00</td>\n",
       "    </tr>\n",
       "    <tr>\n",
       "      <th>Temp</th>\n",
       "      <td>NaN</td>\n",
       "      <td>36.11</td>\n",
       "      <td>38.50</td>\n",
       "      <td>NaN</td>\n",
       "      <td>NaN</td>\n",
       "      <td>36.06</td>\n",
       "      <td>NaN</td>\n",
       "      <td>35.50</td>\n",
       "      <td>NaN</td>\n",
       "      <td>37.28</td>\n",
       "      <td>NaN</td>\n",
       "      <td>38.00</td>\n",
       "      <td>36.30</td>\n",
       "      <td>38.28</td>\n",
       "      <td>36.40</td>\n",
       "    </tr>\n",
       "    <tr>\n",
       "      <th>SBP</th>\n",
       "      <td>NaN</td>\n",
       "      <td>143.00</td>\n",
       "      <td>133.00</td>\n",
       "      <td>NaN</td>\n",
       "      <td>147.50</td>\n",
       "      <td>100.00</td>\n",
       "      <td>NaN</td>\n",
       "      <td>112.00</td>\n",
       "      <td>141.00</td>\n",
       "      <td>121.00</td>\n",
       "      <td>89.00</td>\n",
       "      <td>111.00</td>\n",
       "      <td>99.00</td>\n",
       "      <td>200.00</td>\n",
       "      <td>116.00</td>\n",
       "    </tr>\n",
       "    <tr>\n",
       "      <th>MAP</th>\n",
       "      <td>NaN</td>\n",
       "      <td>77.00</td>\n",
       "      <td>74.00</td>\n",
       "      <td>NaN</td>\n",
       "      <td>102.00</td>\n",
       "      <td>67.00</td>\n",
       "      <td>NaN</td>\n",
       "      <td>79.50</td>\n",
       "      <td>85.00</td>\n",
       "      <td>20.00</td>\n",
       "      <td>62.33</td>\n",
       "      <td>66.00</td>\n",
       "      <td>66.00</td>\n",
       "      <td>108.00</td>\n",
       "      <td>219.00</td>\n",
       "    </tr>\n",
       "    <tr>\n",
       "      <th>DBP</th>\n",
       "      <td>NaN</td>\n",
       "      <td>47.00</td>\n",
       "      <td>48.00</td>\n",
       "      <td>NaN</td>\n",
       "      <td>NaN</td>\n",
       "      <td>49.50</td>\n",
       "      <td>NaN</td>\n",
       "      <td>63.00</td>\n",
       "      <td>57.00</td>\n",
       "      <td>NaN</td>\n",
       "      <td>NaN</td>\n",
       "      <td>49.00</td>\n",
       "      <td>52.00</td>\n",
       "      <td>90.00</td>\n",
       "      <td>66.00</td>\n",
       "    </tr>\n",
       "    <tr>\n",
       "      <th>Resp</th>\n",
       "      <td>30.00</td>\n",
       "      <td>11.00</td>\n",
       "      <td>34.00</td>\n",
       "      <td>NaN</td>\n",
       "      <td>33.00</td>\n",
       "      <td>16.50</td>\n",
       "      <td>NaN</td>\n",
       "      <td>14.00</td>\n",
       "      <td>17.00</td>\n",
       "      <td>NaN</td>\n",
       "      <td>18.00</td>\n",
       "      <td>17.00</td>\n",
       "      <td>16.00</td>\n",
       "      <td>24.00</td>\n",
       "      <td>19.00</td>\n",
       "    </tr>\n",
       "    <tr>\n",
       "      <th>EtCO2</th>\n",
       "      <td>NaN</td>\n",
       "      <td>NaN</td>\n",
       "      <td>NaN</td>\n",
       "      <td>NaN</td>\n",
       "      <td>NaN</td>\n",
       "      <td>NaN</td>\n",
       "      <td>NaN</td>\n",
       "      <td>NaN</td>\n",
       "      <td>NaN</td>\n",
       "      <td>NaN</td>\n",
       "      <td>NaN</td>\n",
       "      <td>NaN</td>\n",
       "      <td>NaN</td>\n",
       "      <td>NaN</td>\n",
       "      <td>NaN</td>\n",
       "    </tr>\n",
       "    <tr>\n",
       "      <th>BaseExcess</th>\n",
       "      <td>21.00</td>\n",
       "      <td>NaN</td>\n",
       "      <td>NaN</td>\n",
       "      <td>NaN</td>\n",
       "      <td>-12.00</td>\n",
       "      <td>-8.00</td>\n",
       "      <td>0.00</td>\n",
       "      <td>0.00</td>\n",
       "      <td>1.00</td>\n",
       "      <td>NaN</td>\n",
       "      <td>NaN</td>\n",
       "      <td>1.00</td>\n",
       "      <td>-3.00</td>\n",
       "      <td>6.00</td>\n",
       "      <td>-8.00</td>\n",
       "    </tr>\n",
       "    <tr>\n",
       "      <th>HCO3</th>\n",
       "      <td>45.00</td>\n",
       "      <td>22.00</td>\n",
       "      <td>31.00</td>\n",
       "      <td>29.00</td>\n",
       "      <td>13.00</td>\n",
       "      <td>16.00</td>\n",
       "      <td>25.00</td>\n",
       "      <td>23.00</td>\n",
       "      <td>25.00</td>\n",
       "      <td>22.00</td>\n",
       "      <td>22.00</td>\n",
       "      <td>27.00</td>\n",
       "      <td>20.00</td>\n",
       "      <td>NaN</td>\n",
       "      <td>19.00</td>\n",
       "    </tr>\n",
       "    <tr>\n",
       "      <th>FiO2</th>\n",
       "      <td>NaN</td>\n",
       "      <td>NaN</td>\n",
       "      <td>0.80</td>\n",
       "      <td>NaN</td>\n",
       "      <td>1.00</td>\n",
       "      <td>NaN</td>\n",
       "      <td>NaN</td>\n",
       "      <td>1.00</td>\n",
       "      <td>NaN</td>\n",
       "      <td>NaN</td>\n",
       "      <td>NaN</td>\n",
       "      <td>NaN</td>\n",
       "      <td>1.00</td>\n",
       "      <td>0.70</td>\n",
       "      <td>NaN</td>\n",
       "    </tr>\n",
       "    <tr>\n",
       "      <th>pH</th>\n",
       "      <td>7.37</td>\n",
       "      <td>NaN</td>\n",
       "      <td>NaN</td>\n",
       "      <td>NaN</td>\n",
       "      <td>7.22</td>\n",
       "      <td>7.27</td>\n",
       "      <td>7.35</td>\n",
       "      <td>7.42</td>\n",
       "      <td>7.43</td>\n",
       "      <td>NaN</td>\n",
       "      <td>NaN</td>\n",
       "      <td>7.39</td>\n",
       "      <td>7.35</td>\n",
       "      <td>7.51</td>\n",
       "      <td>7.22</td>\n",
       "    </tr>\n",
       "    <tr>\n",
       "      <th>PaCO2</th>\n",
       "      <td>90.00</td>\n",
       "      <td>NaN</td>\n",
       "      <td>NaN</td>\n",
       "      <td>NaN</td>\n",
       "      <td>36.00</td>\n",
       "      <td>37.00</td>\n",
       "      <td>48.00</td>\n",
       "      <td>37.00</td>\n",
       "      <td>37.00</td>\n",
       "      <td>NaN</td>\n",
       "      <td>NaN</td>\n",
       "      <td>45.00</td>\n",
       "      <td>39.00</td>\n",
       "      <td>39.00</td>\n",
       "      <td>46.00</td>\n",
       "    </tr>\n",
       "    <tr>\n",
       "      <th>SaO2</th>\n",
       "      <td>91.00</td>\n",
       "      <td>NaN</td>\n",
       "      <td>NaN</td>\n",
       "      <td>NaN</td>\n",
       "      <td>NaN</td>\n",
       "      <td>NaN</td>\n",
       "      <td>NaN</td>\n",
       "      <td>NaN</td>\n",
       "      <td>NaN</td>\n",
       "      <td>NaN</td>\n",
       "      <td>NaN</td>\n",
       "      <td>95.00</td>\n",
       "      <td>NaN</td>\n",
       "      <td>NaN</td>\n",
       "      <td>96.00</td>\n",
       "    </tr>\n",
       "    <tr>\n",
       "      <th>AST</th>\n",
       "      <td>16.00</td>\n",
       "      <td>NaN</td>\n",
       "      <td>NaN</td>\n",
       "      <td>NaN</td>\n",
       "      <td>452.00</td>\n",
       "      <td>NaN</td>\n",
       "      <td>NaN</td>\n",
       "      <td>NaN</td>\n",
       "      <td>NaN</td>\n",
       "      <td>NaN</td>\n",
       "      <td>8.00</td>\n",
       "      <td>NaN</td>\n",
       "      <td>NaN</td>\n",
       "      <td>NaN</td>\n",
       "      <td>NaN</td>\n",
       "    </tr>\n",
       "    <tr>\n",
       "      <th>BUN</th>\n",
       "      <td>14.00</td>\n",
       "      <td>100.00</td>\n",
       "      <td>30.00</td>\n",
       "      <td>9.00</td>\n",
       "      <td>68.00</td>\n",
       "      <td>28.00</td>\n",
       "      <td>NaN</td>\n",
       "      <td>18.00</td>\n",
       "      <td>9.00</td>\n",
       "      <td>32.00</td>\n",
       "      <td>19.00</td>\n",
       "      <td>16.00</td>\n",
       "      <td>14.00</td>\n",
       "      <td>NaN</td>\n",
       "      <td>85.00</td>\n",
       "    </tr>\n",
       "    <tr>\n",
       "      <th>Alkalinephos</th>\n",
       "      <td>98.00</td>\n",
       "      <td>NaN</td>\n",
       "      <td>NaN</td>\n",
       "      <td>NaN</td>\n",
       "      <td>88.00</td>\n",
       "      <td>NaN</td>\n",
       "      <td>NaN</td>\n",
       "      <td>NaN</td>\n",
       "      <td>NaN</td>\n",
       "      <td>NaN</td>\n",
       "      <td>70.00</td>\n",
       "      <td>NaN</td>\n",
       "      <td>NaN</td>\n",
       "      <td>NaN</td>\n",
       "      <td>NaN</td>\n",
       "    </tr>\n",
       "    <tr>\n",
       "      <th>Calcium</th>\n",
       "      <td>9.30</td>\n",
       "      <td>7.90</td>\n",
       "      <td>10.90</td>\n",
       "      <td>NaN</td>\n",
       "      <td>5.90</td>\n",
       "      <td>7.40</td>\n",
       "      <td>NaN</td>\n",
       "      <td>NaN</td>\n",
       "      <td>8.40</td>\n",
       "      <td>7.80</td>\n",
       "      <td>7.30</td>\n",
       "      <td>NaN</td>\n",
       "      <td>NaN</td>\n",
       "      <td>NaN</td>\n",
       "      <td>NaN</td>\n",
       "    </tr>\n",
       "    <tr>\n",
       "      <th>Chloride</th>\n",
       "      <td>85.00</td>\n",
       "      <td>113.00</td>\n",
       "      <td>98.00</td>\n",
       "      <td>111.00</td>\n",
       "      <td>113.00</td>\n",
       "      <td>105.00</td>\n",
       "      <td>NaN</td>\n",
       "      <td>109.00</td>\n",
       "      <td>110.00</td>\n",
       "      <td>115.00</td>\n",
       "      <td>103.00</td>\n",
       "      <td>108.00</td>\n",
       "      <td>116.00</td>\n",
       "      <td>NaN</td>\n",
       "      <td>96.00</td>\n",
       "    </tr>\n",
       "    <tr>\n",
       "      <th>Creatinine</th>\n",
       "      <td>0.70</td>\n",
       "      <td>2.50</td>\n",
       "      <td>0.90</td>\n",
       "      <td>0.70</td>\n",
       "      <td>3.80</td>\n",
       "      <td>1.20</td>\n",
       "      <td>NaN</td>\n",
       "      <td>0.90</td>\n",
       "      <td>0.70</td>\n",
       "      <td>0.90</td>\n",
       "      <td>0.80</td>\n",
       "      <td>1.10</td>\n",
       "      <td>1.20</td>\n",
       "      <td>NaN</td>\n",
       "      <td>8.70</td>\n",
       "    </tr>\n",
       "    <tr>\n",
       "      <th>Bilirubin_direct</th>\n",
       "      <td>NaN</td>\n",
       "      <td>NaN</td>\n",
       "      <td>NaN</td>\n",
       "      <td>NaN</td>\n",
       "      <td>NaN</td>\n",
       "      <td>NaN</td>\n",
       "      <td>NaN</td>\n",
       "      <td>NaN</td>\n",
       "      <td>NaN</td>\n",
       "      <td>NaN</td>\n",
       "      <td>NaN</td>\n",
       "      <td>NaN</td>\n",
       "      <td>NaN</td>\n",
       "      <td>NaN</td>\n",
       "      <td>NaN</td>\n",
       "    </tr>\n",
       "    <tr>\n",
       "      <th>Glucose</th>\n",
       "      <td>193.00</td>\n",
       "      <td>78.00</td>\n",
       "      <td>113.00</td>\n",
       "      <td>73.00</td>\n",
       "      <td>263.00</td>\n",
       "      <td>129.00</td>\n",
       "      <td>119.00</td>\n",
       "      <td>116.00</td>\n",
       "      <td>137.00</td>\n",
       "      <td>88.00</td>\n",
       "      <td>65.00</td>\n",
       "      <td>100.00</td>\n",
       "      <td>168.00</td>\n",
       "      <td>NaN</td>\n",
       "      <td>74.00</td>\n",
       "    </tr>\n",
       "    <tr>\n",
       "      <th>Lactate</th>\n",
       "      <td>NaN</td>\n",
       "      <td>NaN</td>\n",
       "      <td>NaN</td>\n",
       "      <td>NaN</td>\n",
       "      <td>2.20</td>\n",
       "      <td>1.80</td>\n",
       "      <td>2.70</td>\n",
       "      <td>NaN</td>\n",
       "      <td>1.00</td>\n",
       "      <td>NaN</td>\n",
       "      <td>NaN</td>\n",
       "      <td>NaN</td>\n",
       "      <td>NaN</td>\n",
       "      <td>NaN</td>\n",
       "      <td>NaN</td>\n",
       "    </tr>\n",
       "    <tr>\n",
       "      <th>Magnesium</th>\n",
       "      <td>2.00</td>\n",
       "      <td>2.50</td>\n",
       "      <td>2.40</td>\n",
       "      <td>NaN</td>\n",
       "      <td>1.90</td>\n",
       "      <td>1.80</td>\n",
       "      <td>NaN</td>\n",
       "      <td>NaN</td>\n",
       "      <td>2.50</td>\n",
       "      <td>1.90</td>\n",
       "      <td>1.40</td>\n",
       "      <td>2.00</td>\n",
       "      <td>NaN</td>\n",
       "      <td>NaN</td>\n",
       "      <td>1.90</td>\n",
       "    </tr>\n",
       "    <tr>\n",
       "      <th>Phosphate</th>\n",
       "      <td>3.30</td>\n",
       "      <td>4.40</td>\n",
       "      <td>2.30</td>\n",
       "      <td>NaN</td>\n",
       "      <td>3.80</td>\n",
       "      <td>3.50</td>\n",
       "      <td>NaN</td>\n",
       "      <td>NaN</td>\n",
       "      <td>2.20</td>\n",
       "      <td>2.90</td>\n",
       "      <td>2.40</td>\n",
       "      <td>2.80</td>\n",
       "      <td>NaN</td>\n",
       "      <td>NaN</td>\n",
       "      <td>NaN</td>\n",
       "    </tr>\n",
       "    <tr>\n",
       "      <th>Potassium</th>\n",
       "      <td>3.80</td>\n",
       "      <td>5.10</td>\n",
       "      <td>3.80</td>\n",
       "      <td>3.80</td>\n",
       "      <td>4.60</td>\n",
       "      <td>4.50</td>\n",
       "      <td>4.00</td>\n",
       "      <td>3.90</td>\n",
       "      <td>3.50</td>\n",
       "      <td>3.90</td>\n",
       "      <td>4.10</td>\n",
       "      <td>4.30</td>\n",
       "      <td>4.60</td>\n",
       "      <td>NaN</td>\n",
       "      <td>4.90</td>\n",
       "    </tr>\n",
       "    <tr>\n",
       "      <th>Bilirubin_total</th>\n",
       "      <td>0.30</td>\n",
       "      <td>NaN</td>\n",
       "      <td>NaN</td>\n",
       "      <td>NaN</td>\n",
       "      <td>1.40</td>\n",
       "      <td>NaN</td>\n",
       "      <td>NaN</td>\n",
       "      <td>NaN</td>\n",
       "      <td>NaN</td>\n",
       "      <td>NaN</td>\n",
       "      <td>0.50</td>\n",
       "      <td>NaN</td>\n",
       "      <td>NaN</td>\n",
       "      <td>NaN</td>\n",
       "      <td>NaN</td>\n",
       "    </tr>\n",
       "    <tr>\n",
       "      <th>TroponinI</th>\n",
       "      <td>NaN</td>\n",
       "      <td>NaN</td>\n",
       "      <td>NaN</td>\n",
       "      <td>NaN</td>\n",
       "      <td>NaN</td>\n",
       "      <td>NaN</td>\n",
       "      <td>NaN</td>\n",
       "      <td>NaN</td>\n",
       "      <td>NaN</td>\n",
       "      <td>NaN</td>\n",
       "      <td>NaN</td>\n",
       "      <td>NaN</td>\n",
       "      <td>NaN</td>\n",
       "      <td>NaN</td>\n",
       "      <td>0.30</td>\n",
       "    </tr>\n",
       "    <tr>\n",
       "      <th>Hct</th>\n",
       "      <td>37.20</td>\n",
       "      <td>27.80</td>\n",
       "      <td>26.20</td>\n",
       "      <td>36.90</td>\n",
       "      <td>45.00</td>\n",
       "      <td>32.90</td>\n",
       "      <td>30.00</td>\n",
       "      <td>27.90</td>\n",
       "      <td>32.20</td>\n",
       "      <td>26.50</td>\n",
       "      <td>31.00</td>\n",
       "      <td>32.50</td>\n",
       "      <td>29.70</td>\n",
       "      <td>NaN</td>\n",
       "      <td>30.00</td>\n",
       "    </tr>\n",
       "    <tr>\n",
       "      <th>Hgb</th>\n",
       "      <td>12.50</td>\n",
       "      <td>9.70</td>\n",
       "      <td>8.80</td>\n",
       "      <td>12.20</td>\n",
       "      <td>15.80</td>\n",
       "      <td>11.40</td>\n",
       "      <td>9.90</td>\n",
       "      <td>9.50</td>\n",
       "      <td>11.20</td>\n",
       "      <td>9.00</td>\n",
       "      <td>10.50</td>\n",
       "      <td>11.40</td>\n",
       "      <td>10.50</td>\n",
       "      <td>NaN</td>\n",
       "      <td>10.10</td>\n",
       "    </tr>\n",
       "    <tr>\n",
       "      <th>PTT</th>\n",
       "      <td>NaN</td>\n",
       "      <td>NaN</td>\n",
       "      <td>30.50</td>\n",
       "      <td>NaN</td>\n",
       "      <td>26.60</td>\n",
       "      <td>NaN</td>\n",
       "      <td>NaN</td>\n",
       "      <td>29.90</td>\n",
       "      <td>NaN</td>\n",
       "      <td>25.80</td>\n",
       "      <td>37.70</td>\n",
       "      <td>34.00</td>\n",
       "      <td>32.50</td>\n",
       "      <td>NaN</td>\n",
       "      <td>NaN</td>\n",
       "    </tr>\n",
       "    <tr>\n",
       "      <th>WBC</th>\n",
       "      <td>5.70</td>\n",
       "      <td>11.00</td>\n",
       "      <td>8.30</td>\n",
       "      <td>12.00</td>\n",
       "      <td>9.30</td>\n",
       "      <td>11.40</td>\n",
       "      <td>NaN</td>\n",
       "      <td>8.70</td>\n",
       "      <td>10.60</td>\n",
       "      <td>7.30</td>\n",
       "      <td>12.70</td>\n",
       "      <td>14.70</td>\n",
       "      <td>12.10</td>\n",
       "      <td>NaN</td>\n",
       "      <td>NaN</td>\n",
       "    </tr>\n",
       "    <tr>\n",
       "      <th>Fibrinogen</th>\n",
       "      <td>NaN</td>\n",
       "      <td>NaN</td>\n",
       "      <td>NaN</td>\n",
       "      <td>NaN</td>\n",
       "      <td>NaN</td>\n",
       "      <td>NaN</td>\n",
       "      <td>NaN</td>\n",
       "      <td>NaN</td>\n",
       "      <td>NaN</td>\n",
       "      <td>NaN</td>\n",
       "      <td>NaN</td>\n",
       "      <td>NaN</td>\n",
       "      <td>NaN</td>\n",
       "      <td>NaN</td>\n",
       "      <td>NaN</td>\n",
       "    </tr>\n",
       "    <tr>\n",
       "      <th>Platelets</th>\n",
       "      <td>317.00</td>\n",
       "      <td>158.00</td>\n",
       "      <td>465.00</td>\n",
       "      <td>298.00</td>\n",
       "      <td>26.00</td>\n",
       "      <td>357.00</td>\n",
       "      <td>NaN</td>\n",
       "      <td>115.00</td>\n",
       "      <td>184.00</td>\n",
       "      <td>127.00</td>\n",
       "      <td>315.00</td>\n",
       "      <td>140.00</td>\n",
       "      <td>202.00</td>\n",
       "      <td>NaN</td>\n",
       "      <td>NaN</td>\n",
       "    </tr>\n",
       "    <tr>\n",
       "      <th>Age</th>\n",
       "      <td>83.14</td>\n",
       "      <td>75.91</td>\n",
       "      <td>45.82</td>\n",
       "      <td>52.01</td>\n",
       "      <td>64.24</td>\n",
       "      <td>87.08</td>\n",
       "      <td>27.92</td>\n",
       "      <td>76.71</td>\n",
       "      <td>65.79</td>\n",
       "      <td>81.64</td>\n",
       "      <td>59.73</td>\n",
       "      <td>73.43</td>\n",
       "      <td>58.00</td>\n",
       "      <td>39.28</td>\n",
       "      <td>46.42</td>\n",
       "    </tr>\n",
       "    <tr>\n",
       "      <th>Gender</th>\n",
       "      <td>0.00</td>\n",
       "      <td>0.00</td>\n",
       "      <td>0.00</td>\n",
       "      <td>1.00</td>\n",
       "      <td>1.00</td>\n",
       "      <td>1.00</td>\n",
       "      <td>1.00</td>\n",
       "      <td>0.00</td>\n",
       "      <td>1.00</td>\n",
       "      <td>1.00</td>\n",
       "      <td>1.00</td>\n",
       "      <td>1.00</td>\n",
       "      <td>1.00</td>\n",
       "      <td>1.00</td>\n",
       "      <td>1.00</td>\n",
       "    </tr>\n",
       "    <tr>\n",
       "      <th>Unit1</th>\n",
       "      <td>NaN</td>\n",
       "      <td>0.00</td>\n",
       "      <td>1.00</td>\n",
       "      <td>1.00</td>\n",
       "      <td>1.00</td>\n",
       "      <td>NaN</td>\n",
       "      <td>NaN</td>\n",
       "      <td>0.00</td>\n",
       "      <td>NaN</td>\n",
       "      <td>1.00</td>\n",
       "      <td>NaN</td>\n",
       "      <td>0.00</td>\n",
       "      <td>0.00</td>\n",
       "      <td>1.00</td>\n",
       "      <td>NaN</td>\n",
       "    </tr>\n",
       "    <tr>\n",
       "      <th>Unit2</th>\n",
       "      <td>NaN</td>\n",
       "      <td>1.00</td>\n",
       "      <td>0.00</td>\n",
       "      <td>0.00</td>\n",
       "      <td>0.00</td>\n",
       "      <td>NaN</td>\n",
       "      <td>NaN</td>\n",
       "      <td>1.00</td>\n",
       "      <td>NaN</td>\n",
       "      <td>0.00</td>\n",
       "      <td>NaN</td>\n",
       "      <td>1.00</td>\n",
       "      <td>1.00</td>\n",
       "      <td>0.00</td>\n",
       "      <td>NaN</td>\n",
       "    </tr>\n",
       "    <tr>\n",
       "      <th>HospAdmTime</th>\n",
       "      <td>-0.03</td>\n",
       "      <td>-98.60</td>\n",
       "      <td>-1195.71</td>\n",
       "      <td>-0.03</td>\n",
       "      <td>-0.05</td>\n",
       "      <td>-2.23</td>\n",
       "      <td>-0.03</td>\n",
       "      <td>-2.36</td>\n",
       "      <td>-0.02</td>\n",
       "      <td>-0.03</td>\n",
       "      <td>-0.03</td>\n",
       "      <td>-7.05</td>\n",
       "      <td>0.94</td>\n",
       "      <td>-0.02</td>\n",
       "      <td>-15.87</td>\n",
       "    </tr>\n",
       "    <tr>\n",
       "      <th>ICULOS</th>\n",
       "      <td>17.00</td>\n",
       "      <td>10.00</td>\n",
       "      <td>11.00</td>\n",
       "      <td>13.00</td>\n",
       "      <td>2.00</td>\n",
       "      <td>2.00</td>\n",
       "      <td>257.00</td>\n",
       "      <td>3.00</td>\n",
       "      <td>35.00</td>\n",
       "      <td>16.00</td>\n",
       "      <td>17.00</td>\n",
       "      <td>30.00</td>\n",
       "      <td>3.00</td>\n",
       "      <td>134.00</td>\n",
       "      <td>36.00</td>\n",
       "    </tr>\n",
       "    <tr>\n",
       "      <th>isSepsis</th>\n",
       "      <td>0.00</td>\n",
       "      <td>0.00</td>\n",
       "      <td>0.00</td>\n",
       "      <td>0.00</td>\n",
       "      <td>0.00</td>\n",
       "      <td>0.00</td>\n",
       "      <td>1.00</td>\n",
       "      <td>0.00</td>\n",
       "      <td>1.00</td>\n",
       "      <td>0.00</td>\n",
       "      <td>0.00</td>\n",
       "      <td>0.00</td>\n",
       "      <td>0.00</td>\n",
       "      <td>1.00</td>\n",
       "      <td>0.00</td>\n",
       "    </tr>\n",
       "  </tbody>\n",
       "</table>\n",
       "</div>"
      ],
      "text/plain": [
       "                      0       1        2       3       4       5       6   \\\n",
       "HR                103.00   58.00    91.00   92.00  155.50   73.00     NaN   \n",
       "O2Sat              90.00   95.00    94.00  100.00   94.50   99.00     NaN   \n",
       "Temp                 NaN   36.11    38.50     NaN     NaN   36.06     NaN   \n",
       "SBP                  NaN  143.00   133.00     NaN  147.50  100.00     NaN   \n",
       "MAP                  NaN   77.00    74.00     NaN  102.00   67.00     NaN   \n",
       "DBP                  NaN   47.00    48.00     NaN     NaN   49.50     NaN   \n",
       "Resp               30.00   11.00    34.00     NaN   33.00   16.50     NaN   \n",
       "EtCO2                NaN     NaN      NaN     NaN     NaN     NaN     NaN   \n",
       "BaseExcess         21.00     NaN      NaN     NaN  -12.00   -8.00    0.00   \n",
       "HCO3               45.00   22.00    31.00   29.00   13.00   16.00   25.00   \n",
       "FiO2                 NaN     NaN     0.80     NaN    1.00     NaN     NaN   \n",
       "pH                  7.37     NaN      NaN     NaN    7.22    7.27    7.35   \n",
       "PaCO2              90.00     NaN      NaN     NaN   36.00   37.00   48.00   \n",
       "SaO2               91.00     NaN      NaN     NaN     NaN     NaN     NaN   \n",
       "AST                16.00     NaN      NaN     NaN  452.00     NaN     NaN   \n",
       "BUN                14.00  100.00    30.00    9.00   68.00   28.00     NaN   \n",
       "Alkalinephos       98.00     NaN      NaN     NaN   88.00     NaN     NaN   \n",
       "Calcium             9.30    7.90    10.90     NaN    5.90    7.40     NaN   \n",
       "Chloride           85.00  113.00    98.00  111.00  113.00  105.00     NaN   \n",
       "Creatinine          0.70    2.50     0.90    0.70    3.80    1.20     NaN   \n",
       "Bilirubin_direct     NaN     NaN      NaN     NaN     NaN     NaN     NaN   \n",
       "Glucose           193.00   78.00   113.00   73.00  263.00  129.00  119.00   \n",
       "Lactate              NaN     NaN      NaN     NaN    2.20    1.80    2.70   \n",
       "Magnesium           2.00    2.50     2.40     NaN    1.90    1.80     NaN   \n",
       "Phosphate           3.30    4.40     2.30     NaN    3.80    3.50     NaN   \n",
       "Potassium           3.80    5.10     3.80    3.80    4.60    4.50    4.00   \n",
       "Bilirubin_total     0.30     NaN      NaN     NaN    1.40     NaN     NaN   \n",
       "TroponinI            NaN     NaN      NaN     NaN     NaN     NaN     NaN   \n",
       "Hct                37.20   27.80    26.20   36.90   45.00   32.90   30.00   \n",
       "Hgb                12.50    9.70     8.80   12.20   15.80   11.40    9.90   \n",
       "PTT                  NaN     NaN    30.50     NaN   26.60     NaN     NaN   \n",
       "WBC                 5.70   11.00     8.30   12.00    9.30   11.40     NaN   \n",
       "Fibrinogen           NaN     NaN      NaN     NaN     NaN     NaN     NaN   \n",
       "Platelets         317.00  158.00   465.00  298.00   26.00  357.00     NaN   \n",
       "Age                83.14   75.91    45.82   52.01   64.24   87.08   27.92   \n",
       "Gender              0.00    0.00     0.00    1.00    1.00    1.00    1.00   \n",
       "Unit1                NaN    0.00     1.00    1.00    1.00     NaN     NaN   \n",
       "Unit2                NaN    1.00     0.00    0.00    0.00     NaN     NaN   \n",
       "HospAdmTime        -0.03  -98.60 -1195.71   -0.03   -0.05   -2.23   -0.03   \n",
       "ICULOS             17.00   10.00    11.00   13.00    2.00    2.00  257.00   \n",
       "isSepsis            0.00    0.00     0.00    0.00    0.00    0.00    1.00   \n",
       "\n",
       "                      7       8       9       10      11      12      13  \\\n",
       "HR                 82.00   89.00  100.00   95.00   86.00   88.00  116.00   \n",
       "O2Sat             100.00  100.00   95.00  100.00   96.00  100.00   97.00   \n",
       "Temp               35.50     NaN   37.28     NaN   38.00   36.30   38.28   \n",
       "SBP               112.00  141.00  121.00   89.00  111.00   99.00  200.00   \n",
       "MAP                79.50   85.00   20.00   62.33   66.00   66.00  108.00   \n",
       "DBP                63.00   57.00     NaN     NaN   49.00   52.00   90.00   \n",
       "Resp               14.00   17.00     NaN   18.00   17.00   16.00   24.00   \n",
       "EtCO2                NaN     NaN     NaN     NaN     NaN     NaN     NaN   \n",
       "BaseExcess          0.00    1.00     NaN     NaN    1.00   -3.00    6.00   \n",
       "HCO3               23.00   25.00   22.00   22.00   27.00   20.00     NaN   \n",
       "FiO2                1.00     NaN     NaN     NaN     NaN    1.00    0.70   \n",
       "pH                  7.42    7.43     NaN     NaN    7.39    7.35    7.51   \n",
       "PaCO2              37.00   37.00     NaN     NaN   45.00   39.00   39.00   \n",
       "SaO2                 NaN     NaN     NaN     NaN   95.00     NaN     NaN   \n",
       "AST                  NaN     NaN     NaN    8.00     NaN     NaN     NaN   \n",
       "BUN                18.00    9.00   32.00   19.00   16.00   14.00     NaN   \n",
       "Alkalinephos         NaN     NaN     NaN   70.00     NaN     NaN     NaN   \n",
       "Calcium              NaN    8.40    7.80    7.30     NaN     NaN     NaN   \n",
       "Chloride          109.00  110.00  115.00  103.00  108.00  116.00     NaN   \n",
       "Creatinine          0.90    0.70    0.90    0.80    1.10    1.20     NaN   \n",
       "Bilirubin_direct     NaN     NaN     NaN     NaN     NaN     NaN     NaN   \n",
       "Glucose           116.00  137.00   88.00   65.00  100.00  168.00     NaN   \n",
       "Lactate              NaN    1.00     NaN     NaN     NaN     NaN     NaN   \n",
       "Magnesium            NaN    2.50    1.90    1.40    2.00     NaN     NaN   \n",
       "Phosphate            NaN    2.20    2.90    2.40    2.80     NaN     NaN   \n",
       "Potassium           3.90    3.50    3.90    4.10    4.30    4.60     NaN   \n",
       "Bilirubin_total      NaN     NaN     NaN    0.50     NaN     NaN     NaN   \n",
       "TroponinI            NaN     NaN     NaN     NaN     NaN     NaN     NaN   \n",
       "Hct                27.90   32.20   26.50   31.00   32.50   29.70     NaN   \n",
       "Hgb                 9.50   11.20    9.00   10.50   11.40   10.50     NaN   \n",
       "PTT                29.90     NaN   25.80   37.70   34.00   32.50     NaN   \n",
       "WBC                 8.70   10.60    7.30   12.70   14.70   12.10     NaN   \n",
       "Fibrinogen           NaN     NaN     NaN     NaN     NaN     NaN     NaN   \n",
       "Platelets         115.00  184.00  127.00  315.00  140.00  202.00     NaN   \n",
       "Age                76.71   65.79   81.64   59.73   73.43   58.00   39.28   \n",
       "Gender              0.00    1.00    1.00    1.00    1.00    1.00    1.00   \n",
       "Unit1               0.00     NaN    1.00     NaN    0.00    0.00    1.00   \n",
       "Unit2               1.00     NaN    0.00     NaN    1.00    1.00    0.00   \n",
       "HospAdmTime        -2.36   -0.02   -0.03   -0.03   -7.05    0.94   -0.02   \n",
       "ICULOS              3.00   35.00   16.00   17.00   30.00    3.00  134.00   \n",
       "isSepsis            0.00    1.00    0.00    0.00    0.00    0.00    1.00   \n",
       "\n",
       "                      14  \n",
       "HR                110.00  \n",
       "O2Sat              99.00  \n",
       "Temp               36.40  \n",
       "SBP               116.00  \n",
       "MAP               219.00  \n",
       "DBP                66.00  \n",
       "Resp               19.00  \n",
       "EtCO2                NaN  \n",
       "BaseExcess         -8.00  \n",
       "HCO3               19.00  \n",
       "FiO2                 NaN  \n",
       "pH                  7.22  \n",
       "PaCO2              46.00  \n",
       "SaO2               96.00  \n",
       "AST                  NaN  \n",
       "BUN                85.00  \n",
       "Alkalinephos         NaN  \n",
       "Calcium              NaN  \n",
       "Chloride           96.00  \n",
       "Creatinine          8.70  \n",
       "Bilirubin_direct     NaN  \n",
       "Glucose            74.00  \n",
       "Lactate              NaN  \n",
       "Magnesium           1.90  \n",
       "Phosphate            NaN  \n",
       "Potassium           4.90  \n",
       "Bilirubin_total      NaN  \n",
       "TroponinI           0.30  \n",
       "Hct                30.00  \n",
       "Hgb                10.10  \n",
       "PTT                  NaN  \n",
       "WBC                  NaN  \n",
       "Fibrinogen           NaN  \n",
       "Platelets            NaN  \n",
       "Age                46.42  \n",
       "Gender              1.00  \n",
       "Unit1                NaN  \n",
       "Unit2                NaN  \n",
       "HospAdmTime       -15.87  \n",
       "ICULOS             36.00  \n",
       "isSepsis            0.00  "
      ]
     },
     "metadata": {},
     "execution_count": 4
    }
   ],
   "metadata": {
    "execution": {
     "iopub.execute_input": "2021-05-04T16:39:59.829421Z",
     "iopub.status.busy": "2021-05-04T16:39:59.828646Z",
     "iopub.status.idle": "2021-05-04T16:39:59.916044Z",
     "shell.execute_reply": "2021-05-04T16:39:59.916678Z"
    },
    "papermill": {
     "duration": 0.158572,
     "end_time": "2021-05-04T16:39:59.916892",
     "exception": false,
     "start_time": "2021-05-04T16:39:59.758320",
     "status": "completed"
    },
    "tags": []
   }
  },
  {
   "cell_type": "markdown",
   "source": [
    "Dataset contains data of 36 thousand patients. Each patient is represented by 41 features."
   ],
   "metadata": {
    "papermill": {
     "duration": 0.060775,
     "end_time": "2021-05-04T16:40:00.045049",
     "exception": false,
     "start_time": "2021-05-04T16:39:59.984274",
     "status": "completed"
    },
    "tags": []
   }
  },
  {
   "cell_type": "code",
   "execution_count": 5,
   "source": [
    "dataSepsis.info()"
   ],
   "outputs": [
    {
     "output_type": "stream",
     "name": "stdout",
     "text": [
      "<class 'pandas.core.frame.DataFrame'>\n",
      "RangeIndex: 36302 entries, 0 to 36301\n",
      "Data columns (total 41 columns):\n",
      " #   Column            Non-Null Count  Dtype  \n",
      "---  ------            --------------  -----  \n",
      " 0   HR                35506 non-null  float64\n",
      " 1   O2Sat             34736 non-null  float64\n",
      " 2   Temp              17101 non-null  float64\n",
      " 3   SBP               34617 non-null  float64\n",
      " 4   MAP               34846 non-null  float64\n",
      " 5   DBP               27917 non-null  float64\n",
      " 6   Resp              33890 non-null  float64\n",
      " 7   EtCO2             1613 non-null   float64\n",
      " 8   BaseExcess        7184 non-null   float64\n",
      " 9   HCO3              16984 non-null  float64\n",
      " 10  FiO2              6427 non-null   float64\n",
      " 11  pH                9221 non-null   float64\n",
      " 12  PaCO2             8430 non-null   float64\n",
      " 13  SaO2              4335 non-null   float64\n",
      " 14  AST               10391 non-null  float64\n",
      " 15  BUN               32526 non-null  float64\n",
      " 16  Alkalinephos      10269 non-null  float64\n",
      " 17  Calcium           28623 non-null  float64\n",
      " 18  Chloride          17365 non-null  float64\n",
      " 19  Creatinine        32260 non-null  float64\n",
      " 20  Bilirubin_direct  1132 non-null   float64\n",
      " 21  Glucose           33257 non-null  float64\n",
      " 22  Lactate           4134 non-null   float64\n",
      " 23  Magnesium         27671 non-null  float64\n",
      " 24  Phosphate         21768 non-null  float64\n",
      " 25  Potassium         32709 non-null  float64\n",
      " 26  Bilirubin_total   10313 non-null  float64\n",
      " 27  TroponinI         3746 non-null   float64\n",
      " 28  Hct               32180 non-null  float64\n",
      " 29  Hgb               31816 non-null  float64\n",
      " 30  PTT               13875 non-null  float64\n",
      " 31  WBC               31460 non-null  float64\n",
      " 32  Fibrinogen        2141 non-null   float64\n",
      " 33  Platelets         31469 non-null  float64\n",
      " 34  Age               36302 non-null  float64\n",
      " 35  Gender            36302 non-null  int64  \n",
      " 36  Unit1             22221 non-null  float64\n",
      " 37  Unit2             22221 non-null  float64\n",
      " 38  HospAdmTime       36302 non-null  float64\n",
      " 39  ICULOS            36302 non-null  int64  \n",
      " 40  isSepsis          36302 non-null  int64  \n",
      "dtypes: float64(38), int64(3)\n",
      "memory usage: 11.4 MB\n"
     ]
    }
   ],
   "metadata": {
    "execution": {
     "iopub.execute_input": "2021-05-04T16:40:00.174765Z",
     "iopub.status.busy": "2021-05-04T16:40:00.173595Z",
     "iopub.status.idle": "2021-05-04T16:40:00.202754Z",
     "shell.execute_reply": "2021-05-04T16:40:00.201327Z"
    },
    "papermill": {
     "duration": 0.095405,
     "end_time": "2021-05-04T16:40:00.202987",
     "exception": false,
     "start_time": "2021-05-04T16:40:00.107582",
     "status": "completed"
    },
    "tags": []
   }
  },
  {
   "cell_type": "code",
   "execution_count": 6,
   "source": [
    "dataSepsis.isna().sum(axis = 0).sort_values(ascending=False) / len(dataSepsis) * 100"
   ],
   "outputs": [
    {
     "output_type": "execute_result",
     "data": {
      "text/plain": [
       "Bilirubin_direct    96.881715\n",
       "EtCO2               95.556719\n",
       "Fibrinogen          94.102253\n",
       "TroponinI           89.681009\n",
       "Lactate             88.612198\n",
       "SaO2                88.058509\n",
       "FiO2                82.295741\n",
       "BaseExcess          80.210457\n",
       "PaCO2               76.778139\n",
       "pH                  74.599196\n",
       "Alkalinephos        71.712302\n",
       "Bilirubin_total     71.591097\n",
       "AST                 71.376233\n",
       "PTT                 61.778965\n",
       "HCO3                53.214699\n",
       "Temp                52.892403\n",
       "Chloride            52.165170\n",
       "Phosphate           40.036362\n",
       "Unit2               38.788497\n",
       "Unit1               38.788497\n",
       "Magnesium           23.775550\n",
       "DBP                 23.097901\n",
       "Calcium             21.153105\n",
       "WBC                 13.338108\n",
       "Platelets           13.313316\n",
       "Hgb                 12.357446\n",
       "Hct                 11.354746\n",
       "Creatinine          11.134373\n",
       "BUN                 10.401631\n",
       "Potassium            9.897526\n",
       "Glucose              8.387968\n",
       "Resp                 6.644262\n",
       "SBP                  4.641618\n",
       "O2Sat                4.313812\n",
       "MAP                  4.010798\n",
       "HR                   2.192717\n",
       "Gender               0.000000\n",
       "Age                  0.000000\n",
       "HospAdmTime          0.000000\n",
       "ICULOS               0.000000\n",
       "isSepsis             0.000000\n",
       "dtype: float64"
      ]
     },
     "metadata": {},
     "execution_count": 6
    }
   ],
   "metadata": {
    "execution": {
     "iopub.execute_input": "2021-05-04T16:40:00.339151Z",
     "iopub.status.busy": "2021-05-04T16:40:00.338156Z",
     "iopub.status.idle": "2021-05-04T16:40:00.367658Z",
     "shell.execute_reply": "2021-05-04T16:40:00.368172Z"
    },
    "papermill": {
     "duration": 0.101191,
     "end_time": "2021-05-04T16:40:00.368378",
     "exception": false,
     "start_time": "2021-05-04T16:40:00.267187",
     "status": "completed"
    },
    "tags": []
   }
  },
  {
   "cell_type": "code",
   "execution_count": 7,
   "source": [
    "dataSepsis.nunique()"
   ],
   "outputs": [
    {
     "output_type": "execute_result",
     "data": {
      "text/plain": [
       "HR                    248\n",
       "O2Sat                  69\n",
       "Temp                  292\n",
       "SBP                   427\n",
       "MAP                   537\n",
       "DBP                   253\n",
       "Resp                  132\n",
       "EtCO2                  91\n",
       "BaseExcess            134\n",
       "HCO3                  118\n",
       "FiO2                   57\n",
       "pH                     80\n",
       "PaCO2                 269\n",
       "SaO2                  216\n",
       "AST                   916\n",
       "BUN                   200\n",
       "Alkalinephos          547\n",
       "Calcium               408\n",
       "Chloride               69\n",
       "Creatinine           1072\n",
       "Bilirubin_direct      165\n",
       "Glucose               751\n",
       "Lactate               585\n",
       "Magnesium              69\n",
       "Phosphate             149\n",
       "Potassium             243\n",
       "Bilirubin_total       252\n",
       "TroponinI             871\n",
       "Hct                   552\n",
       "Hgb                   248\n",
       "PTT                   938\n",
       "WBC                   576\n",
       "Fibrinogen            580\n",
       "Platelets             788\n",
       "Age                  5835\n",
       "Gender                  2\n",
       "Unit1                   2\n",
       "Unit2                   2\n",
       "HospAdmTime         11345\n",
       "ICULOS                264\n",
       "isSepsis                2\n",
       "dtype: int64"
      ]
     },
     "metadata": {},
     "execution_count": 7
    }
   ],
   "metadata": {
    "execution": {
     "iopub.execute_input": "2021-05-04T16:40:00.501567Z",
     "iopub.status.busy": "2021-05-04T16:40:00.500618Z",
     "iopub.status.idle": "2021-05-04T16:40:00.544124Z",
     "shell.execute_reply": "2021-05-04T16:40:00.544607Z"
    },
    "papermill": {
     "duration": 0.108889,
     "end_time": "2021-05-04T16:40:00.544792",
     "exception": false,
     "start_time": "2021-05-04T16:40:00.435903",
     "status": "completed"
    },
    "tags": []
   }
  },
  {
   "cell_type": "markdown",
   "source": [
    "---"
   ],
   "metadata": {
    "papermill": {
     "duration": 0.062308,
     "end_time": "2021-05-04T16:40:00.670537",
     "exception": false,
     "start_time": "2021-05-04T16:40:00.608229",
     "status": "completed"
    },
    "tags": []
   }
  },
  {
   "cell_type": "markdown",
   "source": [
    "### Attributes:\n",
    "List all the attributes in the dataset. Label continuous attributes with *c* and discrete with *d*"
   ],
   "metadata": {
    "papermill": {
     "duration": 0.063721,
     "end_time": "2021-05-04T16:40:00.796229",
     "exception": false,
     "start_time": "2021-05-04T16:40:00.732508",
     "status": "completed"
    },
    "tags": []
   }
  },
  {
   "cell_type": "markdown",
   "source": [
    "**Vital signs (columns 1-8)** <br>\r\n",
    "HR - Heart rate (beats per minute); <br>\r\n",
    "O2Sat - Pulse oximetry (%); <br>\r\n",
    "Temp - Temperature (Deg C)<br>\r\n",
    "SBP - Systolic BP (mm Hg)<br>\r\n",
    "MAP - Mean arterial pressure (mm Hg)<br>\r\n",
    "DBP - Diastolic BP (mm Hg)<br>\r\n",
    "Resp - Respiration rate (breaths per minute)<br>\r\n",
    "EtCO2 - End tidal carbon dioxide (mm Hg)<br><br>\r\n",
    "**Laboratory values (columns 9-34)**<br>\r\n",
    "BaseExcess - Measure of excess bicarbonate (mmol/L)<br>\r\n",
    "HCO3 - Bicarbonate (mmol/L)<br>\r\n",
    "FiO2 - Fraction of inspired oxygen (%)<br>\r\n",
    "pH - N/A<br>\r\n",
    "PaCO2 - Partial pressure of carbon dioxide from arterial blood (mm Hg)<br>\r\n",
    "SaO2 - Oxygen saturation from arterial blood (%)<br>\r\n",
    "AST - Aspartate transaminase (IU/L)<br>\r\n",
    "BUN - Blood urea nitrogen (mg/dL)<br>\r\n",
    "Alkalinephos - Alkaline phosphatase (IU/L)<br>\r\n",
    "Calcium - (mg/dL)<br>\r\n",
    "Chloride - (mmol/L)<br>\r\n",
    "Creatinine - (mg/dL)<br>\r\n",
    "Bilirubin_direct - Bilirubin direct (mg/dL)<br>\r\n",
    "Glucose - Serum glucose (mg/dL)<br>\r\n",
    "Lactate - Lactic acid (mg/dL)<br>\r\n",
    "Magnesium - (mmol/dL)<br>\r\n",
    "Phosphate - (mg/dL)<br>\r\n",
    "Potassium - (mmol/L)<br>\r\n",
    "Bilirubin_total - Total bilirubin (mg/dL)<br>\r\n",
    "TroponinI - Troponin I (ng/mL)<br>\r\n",
    "Hct - Hematocrit (%)<br>\r\n",
    "Hgb - Hemoglobin (g/dL)<br>\r\n",
    "PTT - partial thromboplastin time (seconds)<br>\r\n",
    "WBC - Leukocyte count (count*10^3/µL)<br>\r\n",
    "Fibrinogen - (mg/dL)<br>\r\n",
    "Platelets - (count*10^3/µL)<br><br>\r\n",
    "**Demographics (columns 35-40)**<br>\r\n",
    "Age - Years (100 for patients 90 or above)<br>\r\n",
    "Gender - Female (0) or Male (1)<br>\r\n",
    "Unit1 - Administrative identifier for ICU unit (MICU)<br>\r\n",
    "Unit2 - Administrative identifier for ICU unit (SICU)<br>\r\n",
    "HospAdmTime - Hours between hospital admit and ICU admit<br>\r\n",
    "ICULOS - ICU length-of-stay (hours since ICU admit)<br><br>\r\n",
    "**Outcome (column 41)** <br>\r\n",
    "SepsisLabel - For sepsis patients, `SepsisLabel` is $1$ if $t≥t_{sepsis}-6$ and $0$ if $t<t_{sepsis}−6$. <br>\r\n",
    "For non-sepsis patients, `SepsisLabel` is $0$."
   ],
   "metadata": {
    "papermill": {
     "duration": 0.062155,
     "end_time": "2021-05-04T16:40:00.920513",
     "exception": false,
     "start_time": "2021-05-04T16:40:00.858358",
     "status": "completed"
    },
    "tags": []
   }
  },
  {
   "cell_type": "markdown",
   "source": [
    "---"
   ],
   "metadata": {
    "papermill": {
     "duration": 0.062743,
     "end_time": "2021-05-04T16:40:01.045375",
     "exception": false,
     "start_time": "2021-05-04T16:40:00.982632",
     "status": "completed"
    },
    "tags": []
   }
  },
  {
   "cell_type": "code",
   "execution_count": 8,
   "source": [
    "dataSepsis.describe(include=\"all\").T"
   ],
   "outputs": [
    {
     "output_type": "execute_result",
     "data": {
      "text/html": [
       "<div>\n",
       "<style scoped>\n",
       "    .dataframe tbody tr th:only-of-type {\n",
       "        vertical-align: middle;\n",
       "    }\n",
       "\n",
       "    .dataframe tbody tr th {\n",
       "        vertical-align: top;\n",
       "    }\n",
       "\n",
       "    .dataframe thead th {\n",
       "        text-align: right;\n",
       "    }\n",
       "</style>\n",
       "<table border=\"1\" class=\"dataframe\">\n",
       "  <thead>\n",
       "    <tr style=\"text-align: right;\">\n",
       "      <th></th>\n",
       "      <th>count</th>\n",
       "      <th>mean</th>\n",
       "      <th>std</th>\n",
       "      <th>min</th>\n",
       "      <th>25%</th>\n",
       "      <th>50%</th>\n",
       "      <th>75%</th>\n",
       "      <th>max</th>\n",
       "    </tr>\n",
       "  </thead>\n",
       "  <tbody>\n",
       "    <tr>\n",
       "      <th>HR</th>\n",
       "      <td>35506.0</td>\n",
       "      <td>83.547246</td>\n",
       "      <td>17.486670</td>\n",
       "      <td>26.00</td>\n",
       "      <td>71.00</td>\n",
       "      <td>82.000</td>\n",
       "      <td>94.0000</td>\n",
       "      <td>184.00</td>\n",
       "    </tr>\n",
       "    <tr>\n",
       "      <th>O2Sat</th>\n",
       "      <td>34736.0</td>\n",
       "      <td>97.444337</td>\n",
       "      <td>2.827282</td>\n",
       "      <td>27.00</td>\n",
       "      <td>96.00</td>\n",
       "      <td>98.000</td>\n",
       "      <td>100.0000</td>\n",
       "      <td>100.00</td>\n",
       "    </tr>\n",
       "    <tr>\n",
       "      <th>Temp</th>\n",
       "      <td>17101.0</td>\n",
       "      <td>36.824187</td>\n",
       "      <td>0.855630</td>\n",
       "      <td>26.67</td>\n",
       "      <td>36.30</td>\n",
       "      <td>36.800</td>\n",
       "      <td>37.3900</td>\n",
       "      <td>41.80</td>\n",
       "    </tr>\n",
       "    <tr>\n",
       "      <th>SBP</th>\n",
       "      <td>34617.0</td>\n",
       "      <td>122.625064</td>\n",
       "      <td>23.092558</td>\n",
       "      <td>32.00</td>\n",
       "      <td>106.00</td>\n",
       "      <td>120.000</td>\n",
       "      <td>137.0000</td>\n",
       "      <td>281.00</td>\n",
       "    </tr>\n",
       "    <tr>\n",
       "      <th>MAP</th>\n",
       "      <td>34846.0</td>\n",
       "      <td>82.263649</td>\n",
       "      <td>16.876642</td>\n",
       "      <td>20.00</td>\n",
       "      <td>71.00</td>\n",
       "      <td>80.000</td>\n",
       "      <td>91.3300</td>\n",
       "      <td>291.00</td>\n",
       "    </tr>\n",
       "    <tr>\n",
       "      <th>DBP</th>\n",
       "      <td>27917.0</td>\n",
       "      <td>63.793506</td>\n",
       "      <td>14.130816</td>\n",
       "      <td>22.00</td>\n",
       "      <td>54.00</td>\n",
       "      <td>62.000</td>\n",
       "      <td>72.0000</td>\n",
       "      <td>281.00</td>\n",
       "    </tr>\n",
       "    <tr>\n",
       "      <th>Resp</th>\n",
       "      <td>33890.0</td>\n",
       "      <td>18.041841</td>\n",
       "      <td>5.020912</td>\n",
       "      <td>1.00</td>\n",
       "      <td>15.00</td>\n",
       "      <td>18.000</td>\n",
       "      <td>20.5000</td>\n",
       "      <td>59.00</td>\n",
       "    </tr>\n",
       "    <tr>\n",
       "      <th>EtCO2</th>\n",
       "      <td>1613.0</td>\n",
       "      <td>32.402046</td>\n",
       "      <td>7.947214</td>\n",
       "      <td>10.00</td>\n",
       "      <td>28.00</td>\n",
       "      <td>33.000</td>\n",
       "      <td>37.5000</td>\n",
       "      <td>97.00</td>\n",
       "    </tr>\n",
       "    <tr>\n",
       "      <th>BaseExcess</th>\n",
       "      <td>7184.0</td>\n",
       "      <td>-0.306508</td>\n",
       "      <td>4.151943</td>\n",
       "      <td>-29.00</td>\n",
       "      <td>-2.00</td>\n",
       "      <td>0.000</td>\n",
       "      <td>2.0000</td>\n",
       "      <td>36.00</td>\n",
       "    </tr>\n",
       "    <tr>\n",
       "      <th>HCO3</th>\n",
       "      <td>16984.0</td>\n",
       "      <td>24.255841</td>\n",
       "      <td>4.150083</td>\n",
       "      <td>5.00</td>\n",
       "      <td>22.00</td>\n",
       "      <td>24.000</td>\n",
       "      <td>26.0000</td>\n",
       "      <td>55.00</td>\n",
       "    </tr>\n",
       "    <tr>\n",
       "      <th>FiO2</th>\n",
       "      <td>6427.0</td>\n",
       "      <td>0.603910</td>\n",
       "      <td>0.250574</td>\n",
       "      <td>0.02</td>\n",
       "      <td>0.40</td>\n",
       "      <td>0.500</td>\n",
       "      <td>0.8000</td>\n",
       "      <td>2.00</td>\n",
       "    </tr>\n",
       "    <tr>\n",
       "      <th>pH</th>\n",
       "      <td>9221.0</td>\n",
       "      <td>7.378896</td>\n",
       "      <td>0.075184</td>\n",
       "      <td>6.65</td>\n",
       "      <td>7.34</td>\n",
       "      <td>7.390</td>\n",
       "      <td>7.4300</td>\n",
       "      <td>7.67</td>\n",
       "    </tr>\n",
       "    <tr>\n",
       "      <th>PaCO2</th>\n",
       "      <td>8430.0</td>\n",
       "      <td>41.412426</td>\n",
       "      <td>8.670286</td>\n",
       "      <td>12.00</td>\n",
       "      <td>36.00</td>\n",
       "      <td>41.000</td>\n",
       "      <td>45.0000</td>\n",
       "      <td>100.00</td>\n",
       "    </tr>\n",
       "    <tr>\n",
       "      <th>SaO2</th>\n",
       "      <td>4335.0</td>\n",
       "      <td>92.056390</td>\n",
       "      <td>10.928623</td>\n",
       "      <td>29.00</td>\n",
       "      <td>93.00</td>\n",
       "      <td>97.000</td>\n",
       "      <td>98.0000</td>\n",
       "      <td>100.00</td>\n",
       "    </tr>\n",
       "    <tr>\n",
       "      <th>AST</th>\n",
       "      <td>10391.0</td>\n",
       "      <td>149.227216</td>\n",
       "      <td>596.716359</td>\n",
       "      <td>3.00</td>\n",
       "      <td>20.00</td>\n",
       "      <td>32.000</td>\n",
       "      <td>68.0000</td>\n",
       "      <td>9961.00</td>\n",
       "    </tr>\n",
       "    <tr>\n",
       "      <th>BUN</th>\n",
       "      <td>32526.0</td>\n",
       "      <td>21.954652</td>\n",
       "      <td>18.321756</td>\n",
       "      <td>1.00</td>\n",
       "      <td>11.00</td>\n",
       "      <td>16.000</td>\n",
       "      <td>25.0000</td>\n",
       "      <td>200.00</td>\n",
       "    </tr>\n",
       "    <tr>\n",
       "      <th>Alkalinephos</th>\n",
       "      <td>10269.0</td>\n",
       "      <td>99.423362</td>\n",
       "      <td>113.129266</td>\n",
       "      <td>11.00</td>\n",
       "      <td>54.00</td>\n",
       "      <td>72.000</td>\n",
       "      <td>105.0000</td>\n",
       "      <td>3619.00</td>\n",
       "    </tr>\n",
       "    <tr>\n",
       "      <th>Calcium</th>\n",
       "      <td>28623.0</td>\n",
       "      <td>8.261179</td>\n",
       "      <td>1.326658</td>\n",
       "      <td>1.01</td>\n",
       "      <td>7.90</td>\n",
       "      <td>8.400</td>\n",
       "      <td>8.8000</td>\n",
       "      <td>27.00</td>\n",
       "    </tr>\n",
       "    <tr>\n",
       "      <th>Chloride</th>\n",
       "      <td>17365.0</td>\n",
       "      <td>105.732162</td>\n",
       "      <td>5.528326</td>\n",
       "      <td>38.00</td>\n",
       "      <td>102.00</td>\n",
       "      <td>106.000</td>\n",
       "      <td>109.0000</td>\n",
       "      <td>139.00</td>\n",
       "    </tr>\n",
       "    <tr>\n",
       "      <th>Creatinine</th>\n",
       "      <td>32260.0</td>\n",
       "      <td>1.432355</td>\n",
       "      <td>1.816595</td>\n",
       "      <td>0.10</td>\n",
       "      <td>0.70</td>\n",
       "      <td>0.900</td>\n",
       "      <td>1.3000</td>\n",
       "      <td>29.86</td>\n",
       "    </tr>\n",
       "    <tr>\n",
       "      <th>Bilirubin_direct</th>\n",
       "      <td>1132.0</td>\n",
       "      <td>1.207774</td>\n",
       "      <td>3.084845</td>\n",
       "      <td>0.01</td>\n",
       "      <td>0.10</td>\n",
       "      <td>0.295</td>\n",
       "      <td>0.8000</td>\n",
       "      <td>35.00</td>\n",
       "    </tr>\n",
       "    <tr>\n",
       "      <th>Glucose</th>\n",
       "      <td>33257.0</td>\n",
       "      <td>132.383308</td>\n",
       "      <td>49.920809</td>\n",
       "      <td>17.00</td>\n",
       "      <td>102.00</td>\n",
       "      <td>122.000</td>\n",
       "      <td>148.5000</td>\n",
       "      <td>896.00</td>\n",
       "    </tr>\n",
       "    <tr>\n",
       "      <th>Lactate</th>\n",
       "      <td>4134.0</td>\n",
       "      <td>2.536635</td>\n",
       "      <td>2.395838</td>\n",
       "      <td>0.30</td>\n",
       "      <td>1.20</td>\n",
       "      <td>1.800</td>\n",
       "      <td>2.8975</td>\n",
       "      <td>27.00</td>\n",
       "    </tr>\n",
       "    <tr>\n",
       "      <th>Magnesium</th>\n",
       "      <td>27671.0</td>\n",
       "      <td>1.997901</td>\n",
       "      <td>0.377347</td>\n",
       "      <td>0.50</td>\n",
       "      <td>1.80</td>\n",
       "      <td>2.000</td>\n",
       "      <td>2.2000</td>\n",
       "      <td>9.70</td>\n",
       "    </tr>\n",
       "    <tr>\n",
       "      <th>Phosphate</th>\n",
       "      <td>21768.0</td>\n",
       "      <td>3.584946</td>\n",
       "      <td>1.304377</td>\n",
       "      <td>0.40</td>\n",
       "      <td>2.80</td>\n",
       "      <td>3.400</td>\n",
       "      <td>4.1000</td>\n",
       "      <td>15.60</td>\n",
       "    </tr>\n",
       "    <tr>\n",
       "      <th>Potassium</th>\n",
       "      <td>32709.0</td>\n",
       "      <td>4.098726</td>\n",
       "      <td>0.624660</td>\n",
       "      <td>1.45</td>\n",
       "      <td>3.70</td>\n",
       "      <td>4.000</td>\n",
       "      <td>4.4000</td>\n",
       "      <td>11.80</td>\n",
       "    </tr>\n",
       "    <tr>\n",
       "      <th>Bilirubin_total</th>\n",
       "      <td>10313.0</td>\n",
       "      <td>1.519858</td>\n",
       "      <td>3.207031</td>\n",
       "      <td>0.10</td>\n",
       "      <td>0.50</td>\n",
       "      <td>0.800</td>\n",
       "      <td>1.3000</td>\n",
       "      <td>46.60</td>\n",
       "    </tr>\n",
       "    <tr>\n",
       "      <th>TroponinI</th>\n",
       "      <td>3746.0</td>\n",
       "      <td>6.115625</td>\n",
       "      <td>20.257106</td>\n",
       "      <td>0.01</td>\n",
       "      <td>0.03</td>\n",
       "      <td>0.140</td>\n",
       "      <td>1.9000</td>\n",
       "      <td>440.00</td>\n",
       "    </tr>\n",
       "    <tr>\n",
       "      <th>Hct</th>\n",
       "      <td>32180.0</td>\n",
       "      <td>32.139831</td>\n",
       "      <td>5.736317</td>\n",
       "      <td>9.10</td>\n",
       "      <td>28.10</td>\n",
       "      <td>31.800</td>\n",
       "      <td>35.9000</td>\n",
       "      <td>71.70</td>\n",
       "    </tr>\n",
       "    <tr>\n",
       "      <th>Hgb</th>\n",
       "      <td>31816.0</td>\n",
       "      <td>10.771654</td>\n",
       "      <td>2.003137</td>\n",
       "      <td>2.60</td>\n",
       "      <td>9.40</td>\n",
       "      <td>10.700</td>\n",
       "      <td>12.1000</td>\n",
       "      <td>30.00</td>\n",
       "    </tr>\n",
       "    <tr>\n",
       "      <th>PTT</th>\n",
       "      <td>13875.0</td>\n",
       "      <td>36.909250</td>\n",
       "      <td>21.865922</td>\n",
       "      <td>16.60</td>\n",
       "      <td>27.00</td>\n",
       "      <td>30.700</td>\n",
       "      <td>37.2000</td>\n",
       "      <td>250.00</td>\n",
       "    </tr>\n",
       "    <tr>\n",
       "      <th>WBC</th>\n",
       "      <td>31460.0</td>\n",
       "      <td>11.094782</td>\n",
       "      <td>6.939193</td>\n",
       "      <td>0.10</td>\n",
       "      <td>7.40</td>\n",
       "      <td>10.050</td>\n",
       "      <td>13.4000</td>\n",
       "      <td>387.00</td>\n",
       "    </tr>\n",
       "    <tr>\n",
       "      <th>Fibrinogen</th>\n",
       "      <td>2141.0</td>\n",
       "      <td>294.154367</td>\n",
       "      <td>154.603297</td>\n",
       "      <td>34.00</td>\n",
       "      <td>188.00</td>\n",
       "      <td>252.000</td>\n",
       "      <td>364.0000</td>\n",
       "      <td>1051.00</td>\n",
       "    </tr>\n",
       "    <tr>\n",
       "      <th>Platelets</th>\n",
       "      <td>31469.0</td>\n",
       "      <td>208.785297</td>\n",
       "      <td>101.953073</td>\n",
       "      <td>2.00</td>\n",
       "      <td>143.00</td>\n",
       "      <td>193.000</td>\n",
       "      <td>255.0000</td>\n",
       "      <td>2322.00</td>\n",
       "    </tr>\n",
       "    <tr>\n",
       "      <th>Age</th>\n",
       "      <td>36302.0</td>\n",
       "      <td>61.676240</td>\n",
       "      <td>16.454453</td>\n",
       "      <td>14.00</td>\n",
       "      <td>51.00</td>\n",
       "      <td>63.150</td>\n",
       "      <td>74.0000</td>\n",
       "      <td>100.00</td>\n",
       "    </tr>\n",
       "    <tr>\n",
       "      <th>Gender</th>\n",
       "      <td>36302.0</td>\n",
       "      <td>0.559363</td>\n",
       "      <td>0.496470</td>\n",
       "      <td>0.00</td>\n",
       "      <td>0.00</td>\n",
       "      <td>1.000</td>\n",
       "      <td>1.0000</td>\n",
       "      <td>1.00</td>\n",
       "    </tr>\n",
       "    <tr>\n",
       "      <th>Unit1</th>\n",
       "      <td>22221.0</td>\n",
       "      <td>0.495072</td>\n",
       "      <td>0.499987</td>\n",
       "      <td>0.00</td>\n",
       "      <td>0.00</td>\n",
       "      <td>0.000</td>\n",
       "      <td>1.0000</td>\n",
       "      <td>1.00</td>\n",
       "    </tr>\n",
       "    <tr>\n",
       "      <th>Unit2</th>\n",
       "      <td>22221.0</td>\n",
       "      <td>0.504928</td>\n",
       "      <td>0.499987</td>\n",
       "      <td>0.00</td>\n",
       "      <td>0.00</td>\n",
       "      <td>1.000</td>\n",
       "      <td>1.0000</td>\n",
       "      <td>1.00</td>\n",
       "    </tr>\n",
       "    <tr>\n",
       "      <th>HospAdmTime</th>\n",
       "      <td>36302.0</td>\n",
       "      <td>-51.437230</td>\n",
       "      <td>136.981879</td>\n",
       "      <td>-5366.86</td>\n",
       "      <td>-43.51</td>\n",
       "      <td>-6.060</td>\n",
       "      <td>-0.0400</td>\n",
       "      <td>23.99</td>\n",
       "    </tr>\n",
       "    <tr>\n",
       "      <th>ICULOS</th>\n",
       "      <td>36302.0</td>\n",
       "      <td>16.982315</td>\n",
       "      <td>22.731072</td>\n",
       "      <td>1.00</td>\n",
       "      <td>6.00</td>\n",
       "      <td>11.000</td>\n",
       "      <td>20.0000</td>\n",
       "      <td>336.00</td>\n",
       "    </tr>\n",
       "    <tr>\n",
       "      <th>isSepsis</th>\n",
       "      <td>36302.0</td>\n",
       "      <td>0.072916</td>\n",
       "      <td>0.260002</td>\n",
       "      <td>0.00</td>\n",
       "      <td>0.00</td>\n",
       "      <td>0.000</td>\n",
       "      <td>0.0000</td>\n",
       "      <td>1.00</td>\n",
       "    </tr>\n",
       "  </tbody>\n",
       "</table>\n",
       "</div>"
      ],
      "text/plain": [
       "                    count        mean         std      min     25%      50%  \\\n",
       "HR                35506.0   83.547246   17.486670    26.00   71.00   82.000   \n",
       "O2Sat             34736.0   97.444337    2.827282    27.00   96.00   98.000   \n",
       "Temp              17101.0   36.824187    0.855630    26.67   36.30   36.800   \n",
       "SBP               34617.0  122.625064   23.092558    32.00  106.00  120.000   \n",
       "MAP               34846.0   82.263649   16.876642    20.00   71.00   80.000   \n",
       "DBP               27917.0   63.793506   14.130816    22.00   54.00   62.000   \n",
       "Resp              33890.0   18.041841    5.020912     1.00   15.00   18.000   \n",
       "EtCO2              1613.0   32.402046    7.947214    10.00   28.00   33.000   \n",
       "BaseExcess         7184.0   -0.306508    4.151943   -29.00   -2.00    0.000   \n",
       "HCO3              16984.0   24.255841    4.150083     5.00   22.00   24.000   \n",
       "FiO2               6427.0    0.603910    0.250574     0.02    0.40    0.500   \n",
       "pH                 9221.0    7.378896    0.075184     6.65    7.34    7.390   \n",
       "PaCO2              8430.0   41.412426    8.670286    12.00   36.00   41.000   \n",
       "SaO2               4335.0   92.056390   10.928623    29.00   93.00   97.000   \n",
       "AST               10391.0  149.227216  596.716359     3.00   20.00   32.000   \n",
       "BUN               32526.0   21.954652   18.321756     1.00   11.00   16.000   \n",
       "Alkalinephos      10269.0   99.423362  113.129266    11.00   54.00   72.000   \n",
       "Calcium           28623.0    8.261179    1.326658     1.01    7.90    8.400   \n",
       "Chloride          17365.0  105.732162    5.528326    38.00  102.00  106.000   \n",
       "Creatinine        32260.0    1.432355    1.816595     0.10    0.70    0.900   \n",
       "Bilirubin_direct   1132.0    1.207774    3.084845     0.01    0.10    0.295   \n",
       "Glucose           33257.0  132.383308   49.920809    17.00  102.00  122.000   \n",
       "Lactate            4134.0    2.536635    2.395838     0.30    1.20    1.800   \n",
       "Magnesium         27671.0    1.997901    0.377347     0.50    1.80    2.000   \n",
       "Phosphate         21768.0    3.584946    1.304377     0.40    2.80    3.400   \n",
       "Potassium         32709.0    4.098726    0.624660     1.45    3.70    4.000   \n",
       "Bilirubin_total   10313.0    1.519858    3.207031     0.10    0.50    0.800   \n",
       "TroponinI          3746.0    6.115625   20.257106     0.01    0.03    0.140   \n",
       "Hct               32180.0   32.139831    5.736317     9.10   28.10   31.800   \n",
       "Hgb               31816.0   10.771654    2.003137     2.60    9.40   10.700   \n",
       "PTT               13875.0   36.909250   21.865922    16.60   27.00   30.700   \n",
       "WBC               31460.0   11.094782    6.939193     0.10    7.40   10.050   \n",
       "Fibrinogen         2141.0  294.154367  154.603297    34.00  188.00  252.000   \n",
       "Platelets         31469.0  208.785297  101.953073     2.00  143.00  193.000   \n",
       "Age               36302.0   61.676240   16.454453    14.00   51.00   63.150   \n",
       "Gender            36302.0    0.559363    0.496470     0.00    0.00    1.000   \n",
       "Unit1             22221.0    0.495072    0.499987     0.00    0.00    0.000   \n",
       "Unit2             22221.0    0.504928    0.499987     0.00    0.00    1.000   \n",
       "HospAdmTime       36302.0  -51.437230  136.981879 -5366.86  -43.51   -6.060   \n",
       "ICULOS            36302.0   16.982315   22.731072     1.00    6.00   11.000   \n",
       "isSepsis          36302.0    0.072916    0.260002     0.00    0.00    0.000   \n",
       "\n",
       "                       75%      max  \n",
       "HR                 94.0000   184.00  \n",
       "O2Sat             100.0000   100.00  \n",
       "Temp               37.3900    41.80  \n",
       "SBP               137.0000   281.00  \n",
       "MAP                91.3300   291.00  \n",
       "DBP                72.0000   281.00  \n",
       "Resp               20.5000    59.00  \n",
       "EtCO2              37.5000    97.00  \n",
       "BaseExcess          2.0000    36.00  \n",
       "HCO3               26.0000    55.00  \n",
       "FiO2                0.8000     2.00  \n",
       "pH                  7.4300     7.67  \n",
       "PaCO2              45.0000   100.00  \n",
       "SaO2               98.0000   100.00  \n",
       "AST                68.0000  9961.00  \n",
       "BUN                25.0000   200.00  \n",
       "Alkalinephos      105.0000  3619.00  \n",
       "Calcium             8.8000    27.00  \n",
       "Chloride          109.0000   139.00  \n",
       "Creatinine          1.3000    29.86  \n",
       "Bilirubin_direct    0.8000    35.00  \n",
       "Glucose           148.5000   896.00  \n",
       "Lactate             2.8975    27.00  \n",
       "Magnesium           2.2000     9.70  \n",
       "Phosphate           4.1000    15.60  \n",
       "Potassium           4.4000    11.80  \n",
       "Bilirubin_total     1.3000    46.60  \n",
       "TroponinI           1.9000   440.00  \n",
       "Hct                35.9000    71.70  \n",
       "Hgb                12.1000    30.00  \n",
       "PTT                37.2000   250.00  \n",
       "WBC                13.4000   387.00  \n",
       "Fibrinogen        364.0000  1051.00  \n",
       "Platelets         255.0000  2322.00  \n",
       "Age                74.0000   100.00  \n",
       "Gender              1.0000     1.00  \n",
       "Unit1               1.0000     1.00  \n",
       "Unit2               1.0000     1.00  \n",
       "HospAdmTime        -0.0400    23.99  \n",
       "ICULOS             20.0000   336.00  \n",
       "isSepsis            0.0000     1.00  "
      ]
     },
     "metadata": {},
     "execution_count": 8
    }
   ],
   "metadata": {
    "execution": {
     "iopub.execute_input": "2021-05-04T16:40:01.174180Z",
     "iopub.status.busy": "2021-05-04T16:40:01.173213Z",
     "iopub.status.idle": "2021-05-04T16:40:01.359052Z",
     "shell.execute_reply": "2021-05-04T16:40:01.359566Z"
    },
    "papermill": {
     "duration": 0.25138,
     "end_time": "2021-05-04T16:40:01.359740",
     "exception": false,
     "start_time": "2021-05-04T16:40:01.108360",
     "status": "completed"
    },
    "tags": []
   }
  },
  {
   "cell_type": "markdown",
   "source": [
    "Compute share of missing values for each feature (%):"
   ],
   "metadata": {
    "papermill": {
     "duration": 0.063432,
     "end_time": "2021-05-04T16:40:01.486254",
     "exception": false,
     "start_time": "2021-05-04T16:40:01.422822",
     "status": "completed"
    },
    "tags": []
   }
  },
  {
   "cell_type": "code",
   "execution_count": 9,
   "source": [
    "dataSepsis[\"isSepsis\"].value_counts()"
   ],
   "outputs": [
    {
     "output_type": "execute_result",
     "data": {
      "text/plain": [
       "0    33655\n",
       "1     2647\n",
       "Name: isSepsis, dtype: int64"
      ]
     },
     "metadata": {},
     "execution_count": 9
    }
   ],
   "metadata": {
    "execution": {
     "iopub.execute_input": "2021-05-04T16:40:01.617496Z",
     "iopub.status.busy": "2021-05-04T16:40:01.616816Z",
     "iopub.status.idle": "2021-05-04T16:40:01.624415Z",
     "shell.execute_reply": "2021-05-04T16:40:01.625164Z"
    },
    "papermill": {
     "duration": 0.076237,
     "end_time": "2021-05-04T16:40:01.625369",
     "exception": false,
     "start_time": "2021-05-04T16:40:01.549132",
     "status": "completed"
    },
    "tags": []
   }
  },
  {
   "cell_type": "markdown",
   "source": [
    "### Early summary:\r\n",
    "+ Most of the features are continuous with only **gender**, **Unit1**, **Unit2**, and target **isSepsis** represented by discrete values. In total 39 continuous features, 2 categorical.\r\n",
    "+ A lot of features miss more than half of values, with **Bilirubin_direct** missing as much as 97%. We may expect that these rare values were measured because some kind of abnormality was expected hence non-missing values may be non-representative of the total population.\r\n",
    "+ A lot of negative values in **HospAdmTime** which probably means that the patient was first delivered to ICU and some time later released from ICU to a hospital. Positive values mean that the patient has gotten to ICU after spending some time in a hospital. This is just an assumption, however, an should be checked.\r\n",
    "+ **Unit1** and **Unit2** stand for ICU units. Based on them we can find out, whether that person has had to be put in MICU (medical intensive care unit) or SICU (surgical intensive care unit).\r\n",
    "+ Septic patients constitute only 7% of the total dataset we have to take this into account when selecting a model"
   ],
   "metadata": {
    "papermill": {
     "duration": 0.062896,
     "end_time": "2021-05-04T16:40:01.751979",
     "exception": false,
     "start_time": "2021-05-04T16:40:01.689083",
     "status": "completed"
    },
    "tags": []
   }
  },
  {
   "cell_type": "code",
   "execution_count": 40,
   "source": [
    "udS=dataSepsis.drop(['BaseExcess','HCO3','FiO2','pH','PaCO2','SaO2','AST','BUN','Alkalinephos','Calcium','Chloride','Creatinine','Bilirubin_direct','Glucose','Lactate','Magnesium','Phosphate','Potassium','Bilirubin_total','TroponinI','Hct','Hgb','PTT','WBC','Fibrinogen','Platelets','Age','Gender','Unit1','Unit2','HospAdmTime','ICULOS'],axis=1)"
   ],
   "outputs": [],
   "metadata": {}
  },
  {
   "cell_type": "code",
   "execution_count": 41,
   "source": [
    "udS.head(15).T"
   ],
   "outputs": [
    {
     "output_type": "execute_result",
     "data": {
      "text/html": [
       "<div>\n",
       "<style scoped>\n",
       "    .dataframe tbody tr th:only-of-type {\n",
       "        vertical-align: middle;\n",
       "    }\n",
       "\n",
       "    .dataframe tbody tr th {\n",
       "        vertical-align: top;\n",
       "    }\n",
       "\n",
       "    .dataframe thead th {\n",
       "        text-align: right;\n",
       "    }\n",
       "</style>\n",
       "<table border=\"1\" class=\"dataframe\">\n",
       "  <thead>\n",
       "    <tr style=\"text-align: right;\">\n",
       "      <th></th>\n",
       "      <th>2</th>\n",
       "      <th>3</th>\n",
       "      <th>4</th>\n",
       "      <th>5</th>\n",
       "      <th>6</th>\n",
       "      <th>8</th>\n",
       "      <th>9</th>\n",
       "      <th>10</th>\n",
       "      <th>11</th>\n",
       "      <th>12</th>\n",
       "      <th>13</th>\n",
       "      <th>14</th>\n",
       "      <th>15</th>\n",
       "      <th>16</th>\n",
       "      <th>17</th>\n",
       "    </tr>\n",
       "  </thead>\n",
       "  <tbody>\n",
       "    <tr>\n",
       "      <th>HR</th>\n",
       "      <td>91.0</td>\n",
       "      <td>92.0</td>\n",
       "      <td>155.5</td>\n",
       "      <td>73.00</td>\n",
       "      <td>NaN</td>\n",
       "      <td>89.0</td>\n",
       "      <td>100.00</td>\n",
       "      <td>95.00</td>\n",
       "      <td>86.0</td>\n",
       "      <td>88.0</td>\n",
       "      <td>116.00</td>\n",
       "      <td>110.0</td>\n",
       "      <td>54.0</td>\n",
       "      <td>98.0</td>\n",
       "      <td>72.0</td>\n",
       "    </tr>\n",
       "    <tr>\n",
       "      <th>O2Sat</th>\n",
       "      <td>94.0</td>\n",
       "      <td>100.0</td>\n",
       "      <td>94.5</td>\n",
       "      <td>99.00</td>\n",
       "      <td>NaN</td>\n",
       "      <td>100.0</td>\n",
       "      <td>95.00</td>\n",
       "      <td>100.00</td>\n",
       "      <td>96.0</td>\n",
       "      <td>100.0</td>\n",
       "      <td>97.00</td>\n",
       "      <td>99.0</td>\n",
       "      <td>95.0</td>\n",
       "      <td>94.0</td>\n",
       "      <td>96.0</td>\n",
       "    </tr>\n",
       "    <tr>\n",
       "      <th>Temp</th>\n",
       "      <td>38.5</td>\n",
       "      <td>NaN</td>\n",
       "      <td>NaN</td>\n",
       "      <td>36.06</td>\n",
       "      <td>NaN</td>\n",
       "      <td>NaN</td>\n",
       "      <td>37.28</td>\n",
       "      <td>NaN</td>\n",
       "      <td>38.0</td>\n",
       "      <td>36.3</td>\n",
       "      <td>38.28</td>\n",
       "      <td>36.4</td>\n",
       "      <td>NaN</td>\n",
       "      <td>NaN</td>\n",
       "      <td>NaN</td>\n",
       "    </tr>\n",
       "    <tr>\n",
       "      <th>SBP</th>\n",
       "      <td>133.0</td>\n",
       "      <td>NaN</td>\n",
       "      <td>147.5</td>\n",
       "      <td>100.00</td>\n",
       "      <td>NaN</td>\n",
       "      <td>141.0</td>\n",
       "      <td>121.00</td>\n",
       "      <td>89.00</td>\n",
       "      <td>111.0</td>\n",
       "      <td>99.0</td>\n",
       "      <td>200.00</td>\n",
       "      <td>116.0</td>\n",
       "      <td>103.0</td>\n",
       "      <td>95.0</td>\n",
       "      <td>103.0</td>\n",
       "    </tr>\n",
       "    <tr>\n",
       "      <th>MAP</th>\n",
       "      <td>74.0</td>\n",
       "      <td>NaN</td>\n",
       "      <td>102.0</td>\n",
       "      <td>67.00</td>\n",
       "      <td>NaN</td>\n",
       "      <td>85.0</td>\n",
       "      <td>20.00</td>\n",
       "      <td>62.33</td>\n",
       "      <td>66.0</td>\n",
       "      <td>66.0</td>\n",
       "      <td>108.00</td>\n",
       "      <td>219.0</td>\n",
       "      <td>63.0</td>\n",
       "      <td>62.0</td>\n",
       "      <td>62.0</td>\n",
       "    </tr>\n",
       "    <tr>\n",
       "      <th>DBP</th>\n",
       "      <td>48.0</td>\n",
       "      <td>NaN</td>\n",
       "      <td>NaN</td>\n",
       "      <td>49.50</td>\n",
       "      <td>NaN</td>\n",
       "      <td>57.0</td>\n",
       "      <td>NaN</td>\n",
       "      <td>NaN</td>\n",
       "      <td>49.0</td>\n",
       "      <td>52.0</td>\n",
       "      <td>90.00</td>\n",
       "      <td>66.0</td>\n",
       "      <td>NaN</td>\n",
       "      <td>45.0</td>\n",
       "      <td>45.0</td>\n",
       "    </tr>\n",
       "    <tr>\n",
       "      <th>Resp</th>\n",
       "      <td>34.0</td>\n",
       "      <td>NaN</td>\n",
       "      <td>33.0</td>\n",
       "      <td>16.50</td>\n",
       "      <td>NaN</td>\n",
       "      <td>17.0</td>\n",
       "      <td>NaN</td>\n",
       "      <td>18.00</td>\n",
       "      <td>17.0</td>\n",
       "      <td>16.0</td>\n",
       "      <td>24.00</td>\n",
       "      <td>19.0</td>\n",
       "      <td>11.0</td>\n",
       "      <td>15.0</td>\n",
       "      <td>20.0</td>\n",
       "    </tr>\n",
       "    <tr>\n",
       "      <th>EtCO2</th>\n",
       "      <td>NaN</td>\n",
       "      <td>NaN</td>\n",
       "      <td>NaN</td>\n",
       "      <td>NaN</td>\n",
       "      <td>NaN</td>\n",
       "      <td>NaN</td>\n",
       "      <td>NaN</td>\n",
       "      <td>NaN</td>\n",
       "      <td>NaN</td>\n",
       "      <td>NaN</td>\n",
       "      <td>NaN</td>\n",
       "      <td>NaN</td>\n",
       "      <td>NaN</td>\n",
       "      <td>NaN</td>\n",
       "      <td>NaN</td>\n",
       "    </tr>\n",
       "    <tr>\n",
       "      <th>isSepsis</th>\n",
       "      <td>0.0</td>\n",
       "      <td>0.0</td>\n",
       "      <td>0.0</td>\n",
       "      <td>0.00</td>\n",
       "      <td>1.0</td>\n",
       "      <td>1.0</td>\n",
       "      <td>0.00</td>\n",
       "      <td>0.00</td>\n",
       "      <td>0.0</td>\n",
       "      <td>0.0</td>\n",
       "      <td>1.00</td>\n",
       "      <td>0.0</td>\n",
       "      <td>0.0</td>\n",
       "      <td>0.0</td>\n",
       "      <td>1.0</td>\n",
       "    </tr>\n",
       "  </tbody>\n",
       "</table>\n",
       "</div>"
      ],
      "text/plain": [
       "             2      3      4       5    6      8       9       10     11  \\\n",
       "HR         91.0   92.0  155.5   73.00  NaN   89.0  100.00   95.00   86.0   \n",
       "O2Sat      94.0  100.0   94.5   99.00  NaN  100.0   95.00  100.00   96.0   \n",
       "Temp       38.5    NaN    NaN   36.06  NaN    NaN   37.28     NaN   38.0   \n",
       "SBP       133.0    NaN  147.5  100.00  NaN  141.0  121.00   89.00  111.0   \n",
       "MAP        74.0    NaN  102.0   67.00  NaN   85.0   20.00   62.33   66.0   \n",
       "DBP        48.0    NaN    NaN   49.50  NaN   57.0     NaN     NaN   49.0   \n",
       "Resp       34.0    NaN   33.0   16.50  NaN   17.0     NaN   18.00   17.0   \n",
       "EtCO2       NaN    NaN    NaN     NaN  NaN    NaN     NaN     NaN    NaN   \n",
       "isSepsis    0.0    0.0    0.0    0.00  1.0    1.0    0.00    0.00    0.0   \n",
       "\n",
       "             12      13     14     15    16     17  \n",
       "HR         88.0  116.00  110.0   54.0  98.0   72.0  \n",
       "O2Sat     100.0   97.00   99.0   95.0  94.0   96.0  \n",
       "Temp       36.3   38.28   36.4    NaN   NaN    NaN  \n",
       "SBP        99.0  200.00  116.0  103.0  95.0  103.0  \n",
       "MAP        66.0  108.00  219.0   63.0  62.0   62.0  \n",
       "DBP        52.0   90.00   66.0    NaN  45.0   45.0  \n",
       "Resp       16.0   24.00   19.0   11.0  15.0   20.0  \n",
       "EtCO2       NaN     NaN    NaN    NaN   NaN    NaN  \n",
       "isSepsis    0.0    1.00    0.0    0.0   0.0    1.0  "
      ]
     },
     "metadata": {},
     "execution_count": 41
    }
   ],
   "metadata": {}
  },
  {
   "cell_type": "markdown",
   "source": [
    "---"
   ],
   "metadata": {
    "papermill": {
     "duration": 0.063261,
     "end_time": "2021-05-04T16:40:01.880560",
     "exception": false,
     "start_time": "2021-05-04T16:40:01.817299",
     "status": "completed"
    },
    "tags": []
   }
  },
  {
   "cell_type": "markdown",
   "source": [
    "Now we should split the data into train and test data and put test data aside until we have a trained model."
   ],
   "metadata": {
    "papermill": {
     "duration": 0.06454,
     "end_time": "2021-05-04T16:40:02.008577",
     "exception": false,
     "start_time": "2021-05-04T16:40:01.944037",
     "status": "completed"
    },
    "tags": []
   }
  },
  {
   "cell_type": "code",
   "execution_count": 44,
   "source": [
    "X_train, X_test, y_train, y_test = train_test_split(udS.drop(\"isSepsis\", axis=1), udS[\"isSepsis\"], test_size=0.1, random_state=42)"
   ],
   "outputs": [],
   "metadata": {
    "execution": {
     "iopub.execute_input": "2021-05-04T16:40:02.148610Z",
     "iopub.status.busy": "2021-05-04T16:40:02.147635Z",
     "iopub.status.idle": "2021-05-04T16:40:02.164125Z",
     "shell.execute_reply": "2021-05-04T16:40:02.163457Z"
    },
    "papermill": {
     "duration": 0.091302,
     "end_time": "2021-05-04T16:40:02.164266",
     "exception": false,
     "start_time": "2021-05-04T16:40:02.072964",
     "status": "completed"
    },
    "tags": []
   }
  },
  {
   "cell_type": "markdown",
   "source": [
    "---"
   ],
   "metadata": {
    "papermill": {
     "duration": 0.063078,
     "end_time": "2021-05-04T16:40:02.291141",
     "exception": false,
     "start_time": "2021-05-04T16:40:02.228063",
     "status": "completed"
    },
    "tags": []
   }
  },
  {
   "cell_type": "markdown",
   "source": [
    "## Visualise the data"
   ],
   "metadata": {
    "papermill": {
     "duration": 0.063215,
     "end_time": "2021-05-04T16:40:02.417877",
     "exception": false,
     "start_time": "2021-05-04T16:40:02.354662",
     "status": "completed"
    },
    "tags": []
   }
  },
  {
   "cell_type": "code",
   "execution_count": 11,
   "source": [
    "# set plots style\r\n",
    "sns.set_theme(context=\"notebook\", style=\"whitegrid\", palette=\"tab10\")"
   ],
   "outputs": [
    {
     "output_type": "error",
     "ename": "AttributeError",
     "evalue": "module 'seaborn' has no attribute 'set_theme'",
     "traceback": [
      "\u001b[1;31m---------------------------------------------------------------------------\u001b[0m",
      "\u001b[1;31mAttributeError\u001b[0m                            Traceback (most recent call last)",
      "\u001b[1;32mC:\\Users\\MUDITC~1\\AppData\\Local\\Temp/ipykernel_19900/2273016851.py\u001b[0m in \u001b[0;36m<module>\u001b[1;34m\u001b[0m\n\u001b[0;32m      1\u001b[0m \u001b[1;31m# set plots style\u001b[0m\u001b[1;33m\u001b[0m\u001b[1;33m\u001b[0m\u001b[1;33m\u001b[0m\u001b[0m\n\u001b[1;32m----> 2\u001b[1;33m \u001b[0msns\u001b[0m\u001b[1;33m.\u001b[0m\u001b[0mset_theme\u001b[0m\u001b[1;33m(\u001b[0m\u001b[0mcontext\u001b[0m\u001b[1;33m=\u001b[0m\u001b[1;34m\"notebook\"\u001b[0m\u001b[1;33m,\u001b[0m \u001b[0mstyle\u001b[0m\u001b[1;33m=\u001b[0m\u001b[1;34m\"whitegrid\"\u001b[0m\u001b[1;33m,\u001b[0m \u001b[0mpalette\u001b[0m\u001b[1;33m=\u001b[0m\u001b[1;34m\"tab10\"\u001b[0m\u001b[1;33m)\u001b[0m\u001b[1;33m\u001b[0m\u001b[1;33m\u001b[0m\u001b[0m\n\u001b[0m",
      "\u001b[1;31mAttributeError\u001b[0m: module 'seaborn' has no attribute 'set_theme'"
     ]
    }
   ],
   "metadata": {
    "execution": {
     "iopub.execute_input": "2021-05-04T16:40:02.551472Z",
     "iopub.status.busy": "2021-05-04T16:40:02.550839Z",
     "iopub.status.idle": "2021-05-04T16:40:02.554285Z",
     "shell.execute_reply": "2021-05-04T16:40:02.553679Z"
    },
    "papermill": {
     "duration": 0.073003,
     "end_time": "2021-05-04T16:40:02.554419",
     "exception": false,
     "start_time": "2021-05-04T16:40:02.481416",
     "status": "completed"
    },
    "tags": []
   }
  },
  {
   "cell_type": "markdown",
   "source": [
    "### Visualise **vital signs**:"
   ],
   "metadata": {
    "papermill": {
     "duration": 0.063168,
     "end_time": "2021-05-04T16:40:02.681847",
     "exception": false,
     "start_time": "2021-05-04T16:40:02.618679",
     "status": "completed"
    },
    "tags": []
   }
  },
  {
   "cell_type": "code",
   "execution_count": 45,
   "source": [
    "#X_train.columns\r\n",
    "\r\n",
    "vital_signs = [\"HR\", \"O2Sat\", \"Temp\", \"SBP\", \"MAP\", \"DBP\", \"Resp\", \"EtCO2\"]\r\n",
    "\r\n",
    "plt.figure(figsize=(18,12))\r\n",
    "plt.subplots_adjust(hspace = .3)\r\n",
    "for i, column in enumerate(vital_signs, 1):\r\n",
    "    plt.subplot(4,2,i)\r\n",
    "    sns.histplot(data=X_train, x=column, hue=y_train, stat=\"density\", common_norm=False, bins=60, kde=True)\r\n",
    "    \r\n",
    "#plt.savefig(\"vital_signs.png\", dpi=400)"
   ],
   "outputs": [
    {
     "output_type": "error",
     "ename": "AttributeError",
     "evalue": "module 'seaborn' has no attribute 'histplot'",
     "traceback": [
      "\u001b[1;31m---------------------------------------------------------------------------\u001b[0m",
      "\u001b[1;31mAttributeError\u001b[0m                            Traceback (most recent call last)",
      "\u001b[1;32mC:\\Users\\MUDITC~1\\AppData\\Local\\Temp/ipykernel_19900/2376749614.py\u001b[0m in \u001b[0;36m<module>\u001b[1;34m\u001b[0m\n\u001b[0;32m      7\u001b[0m \u001b[1;32mfor\u001b[0m \u001b[0mi\u001b[0m\u001b[1;33m,\u001b[0m \u001b[0mcolumn\u001b[0m \u001b[1;32min\u001b[0m \u001b[0menumerate\u001b[0m\u001b[1;33m(\u001b[0m\u001b[0mvital_signs\u001b[0m\u001b[1;33m,\u001b[0m \u001b[1;36m1\u001b[0m\u001b[1;33m)\u001b[0m\u001b[1;33m:\u001b[0m\u001b[1;33m\u001b[0m\u001b[1;33m\u001b[0m\u001b[0m\n\u001b[0;32m      8\u001b[0m     \u001b[0mplt\u001b[0m\u001b[1;33m.\u001b[0m\u001b[0msubplot\u001b[0m\u001b[1;33m(\u001b[0m\u001b[1;36m4\u001b[0m\u001b[1;33m,\u001b[0m\u001b[1;36m2\u001b[0m\u001b[1;33m,\u001b[0m\u001b[0mi\u001b[0m\u001b[1;33m)\u001b[0m\u001b[1;33m\u001b[0m\u001b[1;33m\u001b[0m\u001b[0m\n\u001b[1;32m----> 9\u001b[1;33m     \u001b[0msns\u001b[0m\u001b[1;33m.\u001b[0m\u001b[0mhistplot\u001b[0m\u001b[1;33m(\u001b[0m\u001b[0mdata\u001b[0m\u001b[1;33m=\u001b[0m\u001b[0mX_train\u001b[0m\u001b[1;33m,\u001b[0m \u001b[0mx\u001b[0m\u001b[1;33m=\u001b[0m\u001b[0mcolumn\u001b[0m\u001b[1;33m,\u001b[0m \u001b[0mhue\u001b[0m\u001b[1;33m=\u001b[0m\u001b[0my_train\u001b[0m\u001b[1;33m,\u001b[0m \u001b[0mstat\u001b[0m\u001b[1;33m=\u001b[0m\u001b[1;34m\"density\"\u001b[0m\u001b[1;33m,\u001b[0m \u001b[0mcommon_norm\u001b[0m\u001b[1;33m=\u001b[0m\u001b[1;32mFalse\u001b[0m\u001b[1;33m,\u001b[0m \u001b[0mbins\u001b[0m\u001b[1;33m=\u001b[0m\u001b[1;36m60\u001b[0m\u001b[1;33m,\u001b[0m \u001b[0mkde\u001b[0m\u001b[1;33m=\u001b[0m\u001b[1;32mTrue\u001b[0m\u001b[1;33m)\u001b[0m\u001b[1;33m\u001b[0m\u001b[1;33m\u001b[0m\u001b[0m\n\u001b[0m\u001b[0;32m     10\u001b[0m \u001b[1;33m\u001b[0m\u001b[0m\n\u001b[0;32m     11\u001b[0m \u001b[1;31m#plt.savefig(\"vital_signs.png\", dpi=400)\u001b[0m\u001b[1;33m\u001b[0m\u001b[1;33m\u001b[0m\u001b[1;33m\u001b[0m\u001b[0m\n",
      "\u001b[1;31mAttributeError\u001b[0m: module 'seaborn' has no attribute 'histplot'"
     ]
    },
    {
     "output_type": "display_data",
     "data": {
      "image/png": "[encoded data removed]",
      "text/plain": [
       "<Figure size 1296x864 with 1 Axes>"
      ]
     },
     "metadata": {
      "needs_background": "light"
     }
    }
   ],
   "metadata": {
    "execution": {
     "iopub.execute_input": "2021-05-04T16:40:02.824155Z",
     "iopub.status.busy": "2021-05-04T16:40:02.818643Z",
     "iopub.status.idle": "2021-05-04T16:40:09.293627Z",
     "shell.execute_reply": "2021-05-04T16:40:09.294142Z"
    },
    "papermill": {
     "duration": 6.548826,
     "end_time": "2021-05-04T16:40:09.294319",
     "exception": false,
     "start_time": "2021-05-04T16:40:02.745493",
     "status": "completed"
    },
    "tags": []
   }
  },
  {
   "cell_type": "markdown",
   "source": [
    "### Visualize **laboratory values**:"
   ],
   "metadata": {
    "papermill": {
     "duration": 0.067192,
     "end_time": "2021-05-04T16:40:09.430007",
     "exception": false,
     "start_time": "2021-05-04T16:40:09.362815",
     "status": "completed"
    },
    "tags": []
   }
  },
  {
   "cell_type": "code",
   "execution_count": null,
   "source": [
    "#X_train.columns\r\n",
    "\r\n",
    "lab_values = ['BaseExcess', 'HCO3', 'FiO2', 'pH', 'PaCO2', 'SaO2', 'AST', 'BUN',\r\n",
    "       'Alkalinephos', 'Calcium', 'Chloride', 'Creatinine', 'Bilirubin_direct',\r\n",
    "       'Glucose', 'Lactate', 'Magnesium', 'Phosphate', 'Potassium',\r\n",
    "       'Bilirubin_total', 'TroponinI', 'Hct', 'Hgb', 'PTT', 'WBC',\r\n",
    "       'Fibrinogen', 'Platelets']\r\n",
    "\r\n",
    "plt.figure(figsize=(18,42))\r\n",
    "plt.subplots_adjust(hspace = .3)\r\n",
    "for i, column in enumerate(lab_values, 1):\r\n",
    "    plt.subplot(13,2,i)\r\n",
    "    sns.histplot(data=X_train, x=column, hue=y_train, stat=\"density\", bins=60, common_norm=False, kde=True)\r\n",
    "    \r\n",
    "#plt.savefig(\"lab_values.png\", dpi=400)"
   ],
   "outputs": [
    {
     "output_type": "display_data",
     "data": {
      "image/png": "[encoded data removed]",
      "text/plain": [
       "<Figure size 1296x3024 with 26 Axes>"
      ]
     },
     "metadata": {}
    }
   ],
   "metadata": {
    "execution": {
     "iopub.execute_input": "2021-05-04T16:40:09.572127Z",
     "iopub.status.busy": "2021-05-04T16:40:09.571488Z",
     "iopub.status.idle": "2021-05-04T16:40:29.009627Z",
     "shell.execute_reply": "2021-05-04T16:40:29.010127Z"
    },
    "papermill": {
     "duration": 19.512689,
     "end_time": "2021-05-04T16:40:29.010316",
     "exception": false,
     "start_time": "2021-05-04T16:40:09.497627",
     "status": "completed"
    },
    "tags": []
   }
  },
  {
   "cell_type": "markdown",
   "source": [
    "### Visualise **demographics:**"
   ],
   "metadata": {
    "papermill": {
     "duration": 0.079998,
     "end_time": "2021-05-04T16:40:29.171701",
     "exception": false,
     "start_time": "2021-05-04T16:40:29.091703",
     "status": "completed"
    },
    "tags": []
   }
  },
  {
   "cell_type": "code",
   "execution_count": 43,
   "source": [
    "#X_train.columns\r\n",
    "\r\n",
    "demographics = [\"Age\", \"HospAdmTime\", \"ICULOS\"]\r\n",
    "\r\n",
    "plt.figure(figsize=(18,8))\r\n",
    "plt.subplots_adjust(hspace = .3)\r\n",
    "for i, column in enumerate(demographics, 1):\r\n",
    "    plt.subplot(2,2,i)\r\n",
    "    sns.histplot(data=X_train, x=column, hue=y_train, stat=\"density\", bins=60, common_norm=False, kde=True)\r\n",
    "    \r\n",
    "#plt.savefig(\"demographics.png\", dpi=400)"
   ],
   "outputs": [
    {
     "output_type": "error",
     "ename": "AttributeError",
     "evalue": "module 'seaborn' has no attribute 'histplot'",
     "traceback": [
      "\u001b[1;31m---------------------------------------------------------------------------\u001b[0m",
      "\u001b[1;31mAttributeError\u001b[0m                            Traceback (most recent call last)",
      "\u001b[1;32mC:\\Users\\MUDITC~1\\AppData\\Local\\Temp/ipykernel_19900/1170456552.py\u001b[0m in \u001b[0;36m<module>\u001b[1;34m\u001b[0m\n\u001b[0;32m      7\u001b[0m \u001b[1;32mfor\u001b[0m \u001b[0mi\u001b[0m\u001b[1;33m,\u001b[0m \u001b[0mcolumn\u001b[0m \u001b[1;32min\u001b[0m \u001b[0menumerate\u001b[0m\u001b[1;33m(\u001b[0m\u001b[0mdemographics\u001b[0m\u001b[1;33m,\u001b[0m \u001b[1;36m1\u001b[0m\u001b[1;33m)\u001b[0m\u001b[1;33m:\u001b[0m\u001b[1;33m\u001b[0m\u001b[1;33m\u001b[0m\u001b[0m\n\u001b[0;32m      8\u001b[0m     \u001b[0mplt\u001b[0m\u001b[1;33m.\u001b[0m\u001b[0msubplot\u001b[0m\u001b[1;33m(\u001b[0m\u001b[1;36m2\u001b[0m\u001b[1;33m,\u001b[0m\u001b[1;36m2\u001b[0m\u001b[1;33m,\u001b[0m\u001b[0mi\u001b[0m\u001b[1;33m)\u001b[0m\u001b[1;33m\u001b[0m\u001b[1;33m\u001b[0m\u001b[0m\n\u001b[1;32m----> 9\u001b[1;33m     \u001b[0msns\u001b[0m\u001b[1;33m.\u001b[0m\u001b[0mhistplot\u001b[0m\u001b[1;33m(\u001b[0m\u001b[0mdata\u001b[0m\u001b[1;33m=\u001b[0m\u001b[0mX_train\u001b[0m\u001b[1;33m,\u001b[0m \u001b[0mx\u001b[0m\u001b[1;33m=\u001b[0m\u001b[0mcolumn\u001b[0m\u001b[1;33m,\u001b[0m \u001b[0mhue\u001b[0m\u001b[1;33m=\u001b[0m\u001b[0my_train\u001b[0m\u001b[1;33m,\u001b[0m \u001b[0mstat\u001b[0m\u001b[1;33m=\u001b[0m\u001b[1;34m\"density\"\u001b[0m\u001b[1;33m,\u001b[0m \u001b[0mbins\u001b[0m\u001b[1;33m=\u001b[0m\u001b[1;36m60\u001b[0m\u001b[1;33m,\u001b[0m \u001b[0mcommon_norm\u001b[0m\u001b[1;33m=\u001b[0m\u001b[1;32mFalse\u001b[0m\u001b[1;33m,\u001b[0m \u001b[0mkde\u001b[0m\u001b[1;33m=\u001b[0m\u001b[1;32mTrue\u001b[0m\u001b[1;33m)\u001b[0m\u001b[1;33m\u001b[0m\u001b[1;33m\u001b[0m\u001b[0m\n\u001b[0m\u001b[0;32m     10\u001b[0m \u001b[1;33m\u001b[0m\u001b[0m\n\u001b[0;32m     11\u001b[0m \u001b[1;31m#plt.savefig(\"demographics.png\", dpi=400)\u001b[0m\u001b[1;33m\u001b[0m\u001b[1;33m\u001b[0m\u001b[1;33m\u001b[0m\u001b[0m\n",
      "\u001b[1;31mAttributeError\u001b[0m: module 'seaborn' has no attribute 'histplot'"
     ]
    },
    {
     "output_type": "display_data",
     "data": {
      "image/png": "[encoded data removed]",
      "text/plain": [
       "<Figure size 1296x576 with 1 Axes>"
      ]
     },
     "metadata": {
      "needs_background": "light"
     }
    }
   ],
   "metadata": {
    "execution": {
     "iopub.execute_input": "2021-05-04T16:40:29.335399Z",
     "iopub.status.busy": "2021-05-04T16:40:29.334748Z",
     "iopub.status.idle": "2021-05-04T16:40:32.184453Z",
     "shell.execute_reply": "2021-05-04T16:40:32.183961Z"
    },
    "papermill": {
     "duration": 2.933028,
     "end_time": "2021-05-04T16:40:32.184603",
     "exception": false,
     "start_time": "2021-05-04T16:40:29.251575",
     "status": "completed"
    },
    "tags": []
   }
  },
  {
   "cell_type": "code",
   "execution_count": 46,
   "source": [
    "def plotGender(data):\r\n",
    "    gender = data\r\n",
    "    gender[gender==0] = \"female\"\r\n",
    "    gender[gender==1] = \"male\"\r\n",
    "    \r\n",
    "    sns.countplot(x=gender, hue=y_train, dodge=False)    \r\n",
    "\r\n",
    "    \r\n",
    "def plotUnit(data):\r\n",
    "    Unit1 = data[\"Unit1\"][data[\"Unit1\"]==1].count() # patients in Unit1\r\n",
    "    Unit2 = data[\"Unit2\"][data[\"Unit2\"]==1].count() # patients in Unit2\r\n",
    "    totalNa = len(data[\"Unit1\"][(data[\"Unit1\"].isna()) & (data[\"Unit2\"].isna())])\r\n",
    "    \r\n",
    "    sns.barplot(x=[\"Medical ICU\",\"Surgical ICU\",\"Not Given\"] ,y=[Unit1, Unit2, totalNa])"
   ],
   "outputs": [],
   "metadata": {
    "execution": {
     "iopub.execute_input": "2021-05-04T16:40:32.357904Z",
     "iopub.status.busy": "2021-05-04T16:40:32.357245Z",
     "iopub.status.idle": "2021-05-04T16:40:32.360611Z",
     "shell.execute_reply": "2021-05-04T16:40:32.359952Z"
    },
    "jupyter": {
     "source_hidden": true
    },
    "papermill": {
     "duration": 0.09322,
     "end_time": "2021-05-04T16:40:32.360770",
     "exception": false,
     "start_time": "2021-05-04T16:40:32.267550",
     "status": "completed"
    },
    "tags": []
   }
  },
  {
   "cell_type": "code",
   "execution_count": 47,
   "source": [
    "plt.figure(figsize=(18,5))\r\n",
    "plt.subplot(1,2,1)\r\n",
    "plt.title(\"Gender Distribution\")\r\n",
    "plotGender(X_train[\"Gender\"])   \r\n",
    "plt.subplot(1,2,2)\r\n",
    "plt.title(\"ICU distribution\")\r\n",
    "plotUnit(X_train)\r\n",
    "\r\n",
    "#plt.savefig(\"additional.png\", dpi=400)"
   ],
   "outputs": [
    {
     "output_type": "error",
     "ename": "KeyError",
     "evalue": "'Gender'",
     "traceback": [
      "\u001b[1;31m---------------------------------------------------------------------------\u001b[0m",
      "\u001b[1;31mKeyError\u001b[0m                                  Traceback (most recent call last)",
      "\u001b[1;32mC:\\ProgramData\\Miniconda3\\envs\\dash_env\\lib\\site-packages\\pandas\\core\\indexes\\base.py\u001b[0m in \u001b[0;36mget_loc\u001b[1;34m(self, key, method, tolerance)\u001b[0m\n\u001b[0;32m   3079\u001b[0m             \u001b[1;32mtry\u001b[0m\u001b[1;33m:\u001b[0m\u001b[1;33m\u001b[0m\u001b[1;33m\u001b[0m\u001b[0m\n\u001b[1;32m-> 3080\u001b[1;33m                 \u001b[1;32mreturn\u001b[0m \u001b[0mself\u001b[0m\u001b[1;33m.\u001b[0m\u001b[0m_engine\u001b[0m\u001b[1;33m.\u001b[0m\u001b[0mget_loc\u001b[0m\u001b[1;33m(\u001b[0m\u001b[0mcasted_key\u001b[0m\u001b[1;33m)\u001b[0m\u001b[1;33m\u001b[0m\u001b[1;33m\u001b[0m\u001b[0m\n\u001b[0m\u001b[0;32m   3081\u001b[0m             \u001b[1;32mexcept\u001b[0m \u001b[0mKeyError\u001b[0m \u001b[1;32mas\u001b[0m \u001b[0merr\u001b[0m\u001b[1;33m:\u001b[0m\u001b[1;33m\u001b[0m\u001b[1;33m\u001b[0m\u001b[0m\n",
      "\u001b[1;32mpandas\\_libs\\index.pyx\u001b[0m in \u001b[0;36mpandas._libs.index.IndexEngine.get_loc\u001b[1;34m()\u001b[0m\n",
      "\u001b[1;32mpandas\\_libs\\index.pyx\u001b[0m in \u001b[0;36mpandas._libs.index.IndexEngine.get_loc\u001b[1;34m()\u001b[0m\n",
      "\u001b[1;32mpandas\\_libs\\hashtable_class_helper.pxi\u001b[0m in \u001b[0;36mpandas._libs.hashtable.PyObjectHashTable.get_item\u001b[1;34m()\u001b[0m\n",
      "\u001b[1;32mpandas\\_libs\\hashtable_class_helper.pxi\u001b[0m in \u001b[0;36mpandas._libs.hashtable.PyObjectHashTable.get_item\u001b[1;34m()\u001b[0m\n",
      "\u001b[1;31mKeyError\u001b[0m: 'Gender'",
      "\nThe above exception was the direct cause of the following exception:\n",
      "\u001b[1;31mKeyError\u001b[0m                                  Traceback (most recent call last)",
      "\u001b[1;32mC:\\Users\\MUDITC~1\\AppData\\Local\\Temp/ipykernel_19900/4190229092.py\u001b[0m in \u001b[0;36m<module>\u001b[1;34m\u001b[0m\n\u001b[0;32m      2\u001b[0m \u001b[0mplt\u001b[0m\u001b[1;33m.\u001b[0m\u001b[0msubplot\u001b[0m\u001b[1;33m(\u001b[0m\u001b[1;36m1\u001b[0m\u001b[1;33m,\u001b[0m\u001b[1;36m2\u001b[0m\u001b[1;33m,\u001b[0m\u001b[1;36m1\u001b[0m\u001b[1;33m)\u001b[0m\u001b[1;33m\u001b[0m\u001b[1;33m\u001b[0m\u001b[0m\n\u001b[0;32m      3\u001b[0m \u001b[0mplt\u001b[0m\u001b[1;33m.\u001b[0m\u001b[0mtitle\u001b[0m\u001b[1;33m(\u001b[0m\u001b[1;34m\"Gender Distribution\"\u001b[0m\u001b[1;33m)\u001b[0m\u001b[1;33m\u001b[0m\u001b[1;33m\u001b[0m\u001b[0m\n\u001b[1;32m----> 4\u001b[1;33m \u001b[0mplotGender\u001b[0m\u001b[1;33m(\u001b[0m\u001b[0mX_train\u001b[0m\u001b[1;33m[\u001b[0m\u001b[1;34m\"Gender\"\u001b[0m\u001b[1;33m]\u001b[0m\u001b[1;33m)\u001b[0m\u001b[1;33m\u001b[0m\u001b[1;33m\u001b[0m\u001b[0m\n\u001b[0m\u001b[0;32m      5\u001b[0m \u001b[0mplt\u001b[0m\u001b[1;33m.\u001b[0m\u001b[0msubplot\u001b[0m\u001b[1;33m(\u001b[0m\u001b[1;36m1\u001b[0m\u001b[1;33m,\u001b[0m\u001b[1;36m2\u001b[0m\u001b[1;33m,\u001b[0m\u001b[1;36m2\u001b[0m\u001b[1;33m)\u001b[0m\u001b[1;33m\u001b[0m\u001b[1;33m\u001b[0m\u001b[0m\n\u001b[0;32m      6\u001b[0m \u001b[0mplt\u001b[0m\u001b[1;33m.\u001b[0m\u001b[0mtitle\u001b[0m\u001b[1;33m(\u001b[0m\u001b[1;34m\"ICU distribution\"\u001b[0m\u001b[1;33m)\u001b[0m\u001b[1;33m\u001b[0m\u001b[1;33m\u001b[0m\u001b[0m\n",
      "\u001b[1;32mC:\\ProgramData\\Miniconda3\\envs\\dash_env\\lib\\site-packages\\pandas\\core\\frame.py\u001b[0m in \u001b[0;36m__getitem__\u001b[1;34m(self, key)\u001b[0m\n\u001b[0;32m   3022\u001b[0m             \u001b[1;32mif\u001b[0m \u001b[0mself\u001b[0m\u001b[1;33m.\u001b[0m\u001b[0mcolumns\u001b[0m\u001b[1;33m.\u001b[0m\u001b[0mnlevels\u001b[0m \u001b[1;33m>\u001b[0m \u001b[1;36m1\u001b[0m\u001b[1;33m:\u001b[0m\u001b[1;33m\u001b[0m\u001b[1;33m\u001b[0m\u001b[0m\n\u001b[0;32m   3023\u001b[0m                 \u001b[1;32mreturn\u001b[0m \u001b[0mself\u001b[0m\u001b[1;33m.\u001b[0m\u001b[0m_getitem_multilevel\u001b[0m\u001b[1;33m(\u001b[0m\u001b[0mkey\u001b[0m\u001b[1;33m)\u001b[0m\u001b[1;33m\u001b[0m\u001b[1;33m\u001b[0m\u001b[0m\n\u001b[1;32m-> 3024\u001b[1;33m             \u001b[0mindexer\u001b[0m \u001b[1;33m=\u001b[0m \u001b[0mself\u001b[0m\u001b[1;33m.\u001b[0m\u001b[0mcolumns\u001b[0m\u001b[1;33m.\u001b[0m\u001b[0mget_loc\u001b[0m\u001b[1;33m(\u001b[0m\u001b[0mkey\u001b[0m\u001b[1;33m)\u001b[0m\u001b[1;33m\u001b[0m\u001b[1;33m\u001b[0m\u001b[0m\n\u001b[0m\u001b[0;32m   3025\u001b[0m             \u001b[1;32mif\u001b[0m \u001b[0mis_integer\u001b[0m\u001b[1;33m(\u001b[0m\u001b[0mindexer\u001b[0m\u001b[1;33m)\u001b[0m\u001b[1;33m:\u001b[0m\u001b[1;33m\u001b[0m\u001b[1;33m\u001b[0m\u001b[0m\n\u001b[0;32m   3026\u001b[0m                 \u001b[0mindexer\u001b[0m \u001b[1;33m=\u001b[0m \u001b[1;33m[\u001b[0m\u001b[0mindexer\u001b[0m\u001b[1;33m]\u001b[0m\u001b[1;33m\u001b[0m\u001b[1;33m\u001b[0m\u001b[0m\n",
      "\u001b[1;32mC:\\ProgramData\\Miniconda3\\envs\\dash_env\\lib\\site-packages\\pandas\\core\\indexes\\base.py\u001b[0m in \u001b[0;36mget_loc\u001b[1;34m(self, key, method, tolerance)\u001b[0m\n\u001b[0;32m   3080\u001b[0m                 \u001b[1;32mreturn\u001b[0m \u001b[0mself\u001b[0m\u001b[1;33m.\u001b[0m\u001b[0m_engine\u001b[0m\u001b[1;33m.\u001b[0m\u001b[0mget_loc\u001b[0m\u001b[1;33m(\u001b[0m\u001b[0mcasted_key\u001b[0m\u001b[1;33m)\u001b[0m\u001b[1;33m\u001b[0m\u001b[1;33m\u001b[0m\u001b[0m\n\u001b[0;32m   3081\u001b[0m             \u001b[1;32mexcept\u001b[0m \u001b[0mKeyError\u001b[0m \u001b[1;32mas\u001b[0m \u001b[0merr\u001b[0m\u001b[1;33m:\u001b[0m\u001b[1;33m\u001b[0m\u001b[1;33m\u001b[0m\u001b[0m\n\u001b[1;32m-> 3082\u001b[1;33m                 \u001b[1;32mraise\u001b[0m \u001b[0mKeyError\u001b[0m\u001b[1;33m(\u001b[0m\u001b[0mkey\u001b[0m\u001b[1;33m)\u001b[0m \u001b[1;32mfrom\u001b[0m \u001b[0merr\u001b[0m\u001b[1;33m\u001b[0m\u001b[1;33m\u001b[0m\u001b[0m\n\u001b[0m\u001b[0;32m   3083\u001b[0m \u001b[1;33m\u001b[0m\u001b[0m\n\u001b[0;32m   3084\u001b[0m         \u001b[1;32mif\u001b[0m \u001b[0mtolerance\u001b[0m \u001b[1;32mis\u001b[0m \u001b[1;32mnot\u001b[0m \u001b[1;32mNone\u001b[0m\u001b[1;33m:\u001b[0m\u001b[1;33m\u001b[0m\u001b[1;33m\u001b[0m\u001b[0m\n",
      "\u001b[1;31mKeyError\u001b[0m: 'Gender'"
     ]
    },
    {
     "output_type": "display_data",
     "data": {
      "image/png": "[encoded data removed]",
      "text/plain": [
       "<Figure size 1296x360 with 1 Axes>"
      ]
     },
     "metadata": {
      "needs_background": "light"
     }
    }
   ],
   "metadata": {
    "execution": {
     "iopub.execute_input": "2021-05-04T16:40:32.562766Z",
     "iopub.status.busy": "2021-05-04T16:40:32.558186Z",
     "iopub.status.idle": "2021-05-04T16:40:32.957405Z",
     "shell.execute_reply": "2021-05-04T16:40:32.956423Z"
    },
    "papermill": {
     "duration": 0.513348,
     "end_time": "2021-05-04T16:40:32.957632",
     "exception": false,
     "start_time": "2021-05-04T16:40:32.444284",
     "status": "completed"
    },
    "tags": []
   }
  },
  {
   "cell_type": "markdown",
   "source": [
    "### Observations\n",
    "**Vital signs:**\n",
    "+ **HR**, **Temp**, and **Resp** seem to differ between septic and non-septic patients\n",
    "+ The rest of the attributes don't differ and may be irrelevant in terms of sepsis prediction <br>\n",
    "\n",
    "**Laboratory values:**\n",
    "+ Despite having similar mean, feature **BaseExcess** appears to deviate higher from the mean for septic patients, it is possible that abnormal concentration of excess bicarbonate is inherent to septic patients\n",
    "+ **FiO2** is represented by somewhat discrete values with bimodal distribution. This and the fact that just about 20% of the patients have record of this value makes this features likely to be diregarded as non-representative\n",
    "+ **pH** of septic patients appears to be higher (more basic pH)\n",
    "+ **BUN** also appears to be higher in concentrations for sepsis-positive patients\n",
    "+ **Calcium** concentration, although similar for septic and non-septic patients, has outliers for septic patients at very low concentrations. We may want to investigate this further\n",
    "+ **Bilirubin_direct** looks to be higher for septic patients, but we have to keep in mind that more than 96% of the patients lack this attribute. Nontheless, it is possible though that bilirubin concentration was measured only if doctors suspected this attribute to be abnormal and we there are indeed some very high concentration for septic patients\n",
    "+ **Bilirubin_total** is higher for septic patients as well. Worth noting, that total bilirubin concentration is defined as the sum of **Bilirubin_direct** and indirect bilirubin. Therefore we may expect this feature to be strongly correlated with **Bilirubin_direct** \n",
    "+ **Hct** and **Hgb** values seem to be slightly lower in concentrations for septic patients\n",
    "+ Septic patients appear to have slightly higher **PTT** sometime\n",
    "+ **Fibrinogen** of septic patient appears to be bimodal and slightly higher in concentration than that of non-septic patients. About 95% of patients miss this feature thus we might expect that fibrinogen was measured for some specific reason\n",
    "+ Septic patients may have slightly lower concantrations of **Platelets**\n",
    "\n",
    "**Demographics:**\n",
    "+ No differnce in **Age** between septic and non-septic patients. It is unlikely that one or few years of diffence in age may lead to higher chance of developing sepsis. However, in many biochmical signs tend to change with age, therefore it may be benefitial to include age in our model but to divide it into some discrete, more representative values. A lot of age values are 100, which are for patients older than 90.\n",
    "+ **HospAdmTime** is quite similar for all patients\n",
    "+ Patients that stayed at ICU longer have had higher chances of eventually developing sepsis\n",
    "+ Patients that didn't have a record of ICU unit were likely assigned to other ICU than SICU and MICU (e.g. Cardiac ICU, Trauma ICU etc.) as all the patients have a record of time spent in ICU (**ICULOS** attributte)."
   ],
   "metadata": {
    "papermill": {
     "duration": 0.084393,
     "end_time": "2021-05-04T16:40:33.126556",
     "exception": false,
     "start_time": "2021-05-04T16:40:33.042163",
     "status": "completed"
    },
    "tags": []
   }
  },
  {
   "cell_type": "markdown",
   "source": [
    "---"
   ],
   "metadata": {
    "papermill": {
     "duration": 0.083073,
     "end_time": "2021-05-04T16:40:33.293292",
     "exception": false,
     "start_time": "2021-05-04T16:40:33.210219",
     "status": "completed"
    },
    "tags": []
   }
  },
  {
   "cell_type": "markdown",
   "source": [
    "Let's see if the type of **ICU** that a patient is treated in is related to chances of developing a sepsis:"
   ],
   "metadata": {
    "papermill": {
     "duration": 0.083531,
     "end_time": "2021-05-04T16:40:33.460659",
     "exception": false,
     "start_time": "2021-05-04T16:40:33.377128",
     "status": "completed"
    },
    "tags": []
   }
  },
  {
   "cell_type": "code",
   "execution_count": 48,
   "source": [
    "def CombineUnits(units_cols):\r\n",
    "    data = units_cols.copy()\r\n",
    "    data[\"Unit\"] = pd.Series(np.zeros((len(data))))\r\n",
    "    data.loc[data[\"Unit1\"] == 1, \"Unit\"] = \"MICU\"\r\n",
    "    data.loc[data[\"Unit2\"] == 1, \"Unit\"] = \"SICU\"\r\n",
    "    data.loc[(data[\"Unit1\"].isna()) & (data[\"Unit2\"].isna()), \"Unit\"] = \"Other ICU\"\r\n",
    "    return data[[\"Unit\"]]\r\n",
    "\r\n",
    "\r\n",
    "def ShareSepticByUnit(UnitCol, y):\r\n",
    "    shares = {}\r\n",
    "    \r\n",
    "    IsSepsis_micu = y.loc[UnitCol[\"Unit\"] == \"MICU\"]\r\n",
    "    IsSepsis_sicu = y.loc[UnitCol[\"Unit\"] == \"SICU\"]\r\n",
    "    IsSepsis_other = y.loc[UnitCol[\"Unit\"] == \"Other ICU\"]\r\n",
    "    \r\n",
    "    shares[\"MICU\"] = IsSepsis_micu[IsSepsis_micu == 1].count() / len(IsSepsis_micu) * 100\r\n",
    "    shares[\"SICU\"] = IsSepsis_sicu[IsSepsis_sicu == 1].count() / len(IsSepsis_sicu) * 100\r\n",
    "    shares[\"Other\"] = IsSepsis_other[IsSepsis_other == 1].count() / len(IsSepsis_other) * 100\r\n",
    "        \r\n",
    "    return shares\r\n",
    "\r\n",
    "\r\n",
    "IsSeptic_shares = ShareSepticByUnit(CombineUnits(X_train.copy()), y_train)"
   ],
   "outputs": [
    {
     "output_type": "error",
     "ename": "KeyError",
     "evalue": "'Unit1'",
     "traceback": [
      "\u001b[1;31m---------------------------------------------------------------------------\u001b[0m",
      "\u001b[1;31mKeyError\u001b[0m                                  Traceback (most recent call last)",
      "\u001b[1;32mC:\\ProgramData\\Miniconda3\\envs\\dash_env\\lib\\site-packages\\pandas\\core\\indexes\\base.py\u001b[0m in \u001b[0;36mget_loc\u001b[1;34m(self, key, method, tolerance)\u001b[0m\n\u001b[0;32m   3079\u001b[0m             \u001b[1;32mtry\u001b[0m\u001b[1;33m:\u001b[0m\u001b[1;33m\u001b[0m\u001b[1;33m\u001b[0m\u001b[0m\n\u001b[1;32m-> 3080\u001b[1;33m                 \u001b[1;32mreturn\u001b[0m \u001b[0mself\u001b[0m\u001b[1;33m.\u001b[0m\u001b[0m_engine\u001b[0m\u001b[1;33m.\u001b[0m\u001b[0mget_loc\u001b[0m\u001b[1;33m(\u001b[0m\u001b[0mcasted_key\u001b[0m\u001b[1;33m)\u001b[0m\u001b[1;33m\u001b[0m\u001b[1;33m\u001b[0m\u001b[0m\n\u001b[0m\u001b[0;32m   3081\u001b[0m             \u001b[1;32mexcept\u001b[0m \u001b[0mKeyError\u001b[0m \u001b[1;32mas\u001b[0m \u001b[0merr\u001b[0m\u001b[1;33m:\u001b[0m\u001b[1;33m\u001b[0m\u001b[1;33m\u001b[0m\u001b[0m\n",
      "\u001b[1;32mpandas\\_libs\\index.pyx\u001b[0m in \u001b[0;36mpandas._libs.index.IndexEngine.get_loc\u001b[1;34m()\u001b[0m\n",
      "\u001b[1;32mpandas\\_libs\\index.pyx\u001b[0m in \u001b[0;36mpandas._libs.index.IndexEngine.get_loc\u001b[1;34m()\u001b[0m\n",
      "\u001b[1;32mpandas\\_libs\\hashtable_class_helper.pxi\u001b[0m in \u001b[0;36mpandas._libs.hashtable.PyObjectHashTable.get_item\u001b[1;34m()\u001b[0m\n",
      "\u001b[1;32mpandas\\_libs\\hashtable_class_helper.pxi\u001b[0m in \u001b[0;36mpandas._libs.hashtable.PyObjectHashTable.get_item\u001b[1;34m()\u001b[0m\n",
      "\u001b[1;31mKeyError\u001b[0m: 'Unit1'",
      "\nThe above exception was the direct cause of the following exception:\n",
      "\u001b[1;31mKeyError\u001b[0m                                  Traceback (most recent call last)",
      "\u001b[1;32mC:\\Users\\MUDITC~1\\AppData\\Local\\Temp/ipykernel_19900/3145066109.py\u001b[0m in \u001b[0;36m<module>\u001b[1;34m\u001b[0m\n\u001b[0;32m     22\u001b[0m \u001b[1;33m\u001b[0m\u001b[0m\n\u001b[0;32m     23\u001b[0m \u001b[1;33m\u001b[0m\u001b[0m\n\u001b[1;32m---> 24\u001b[1;33m \u001b[0mIsSeptic_shares\u001b[0m \u001b[1;33m=\u001b[0m \u001b[0mShareSepticByUnit\u001b[0m\u001b[1;33m(\u001b[0m\u001b[0mCombineUnits\u001b[0m\u001b[1;33m(\u001b[0m\u001b[0mX_train\u001b[0m\u001b[1;33m.\u001b[0m\u001b[0mcopy\u001b[0m\u001b[1;33m(\u001b[0m\u001b[1;33m)\u001b[0m\u001b[1;33m)\u001b[0m\u001b[1;33m,\u001b[0m \u001b[0my_train\u001b[0m\u001b[1;33m)\u001b[0m\u001b[1;33m\u001b[0m\u001b[1;33m\u001b[0m\u001b[0m\n\u001b[0m",
      "\u001b[1;32mC:\\Users\\MUDITC~1\\AppData\\Local\\Temp/ipykernel_19900/3145066109.py\u001b[0m in \u001b[0;36mCombineUnits\u001b[1;34m(units_cols)\u001b[0m\n\u001b[0;32m      2\u001b[0m     \u001b[0mdata\u001b[0m \u001b[1;33m=\u001b[0m \u001b[0munits_cols\u001b[0m\u001b[1;33m.\u001b[0m\u001b[0mcopy\u001b[0m\u001b[1;33m(\u001b[0m\u001b[1;33m)\u001b[0m\u001b[1;33m\u001b[0m\u001b[1;33m\u001b[0m\u001b[0m\n\u001b[0;32m      3\u001b[0m     \u001b[0mdata\u001b[0m\u001b[1;33m[\u001b[0m\u001b[1;34m\"Unit\"\u001b[0m\u001b[1;33m]\u001b[0m \u001b[1;33m=\u001b[0m \u001b[0mpd\u001b[0m\u001b[1;33m.\u001b[0m\u001b[0mSeries\u001b[0m\u001b[1;33m(\u001b[0m\u001b[0mnp\u001b[0m\u001b[1;33m.\u001b[0m\u001b[0mzeros\u001b[0m\u001b[1;33m(\u001b[0m\u001b[1;33m(\u001b[0m\u001b[0mlen\u001b[0m\u001b[1;33m(\u001b[0m\u001b[0mdata\u001b[0m\u001b[1;33m)\u001b[0m\u001b[1;33m)\u001b[0m\u001b[1;33m)\u001b[0m\u001b[1;33m)\u001b[0m\u001b[1;33m\u001b[0m\u001b[1;33m\u001b[0m\u001b[0m\n\u001b[1;32m----> 4\u001b[1;33m     \u001b[0mdata\u001b[0m\u001b[1;33m.\u001b[0m\u001b[0mloc\u001b[0m\u001b[1;33m[\u001b[0m\u001b[0mdata\u001b[0m\u001b[1;33m[\u001b[0m\u001b[1;34m\"Unit1\"\u001b[0m\u001b[1;33m]\u001b[0m \u001b[1;33m==\u001b[0m \u001b[1;36m1\u001b[0m\u001b[1;33m,\u001b[0m \u001b[1;34m\"Unit\"\u001b[0m\u001b[1;33m]\u001b[0m \u001b[1;33m=\u001b[0m \u001b[1;34m\"MICU\"\u001b[0m\u001b[1;33m\u001b[0m\u001b[1;33m\u001b[0m\u001b[0m\n\u001b[0m\u001b[0;32m      5\u001b[0m     \u001b[0mdata\u001b[0m\u001b[1;33m.\u001b[0m\u001b[0mloc\u001b[0m\u001b[1;33m[\u001b[0m\u001b[0mdata\u001b[0m\u001b[1;33m[\u001b[0m\u001b[1;34m\"Unit2\"\u001b[0m\u001b[1;33m]\u001b[0m \u001b[1;33m==\u001b[0m \u001b[1;36m1\u001b[0m\u001b[1;33m,\u001b[0m \u001b[1;34m\"Unit\"\u001b[0m\u001b[1;33m]\u001b[0m \u001b[1;33m=\u001b[0m \u001b[1;34m\"SICU\"\u001b[0m\u001b[1;33m\u001b[0m\u001b[1;33m\u001b[0m\u001b[0m\n\u001b[0;32m      6\u001b[0m     \u001b[0mdata\u001b[0m\u001b[1;33m.\u001b[0m\u001b[0mloc\u001b[0m\u001b[1;33m[\u001b[0m\u001b[1;33m(\u001b[0m\u001b[0mdata\u001b[0m\u001b[1;33m[\u001b[0m\u001b[1;34m\"Unit1\"\u001b[0m\u001b[1;33m]\u001b[0m\u001b[1;33m.\u001b[0m\u001b[0misna\u001b[0m\u001b[1;33m(\u001b[0m\u001b[1;33m)\u001b[0m\u001b[1;33m)\u001b[0m \u001b[1;33m&\u001b[0m \u001b[1;33m(\u001b[0m\u001b[0mdata\u001b[0m\u001b[1;33m[\u001b[0m\u001b[1;34m\"Unit2\"\u001b[0m\u001b[1;33m]\u001b[0m\u001b[1;33m.\u001b[0m\u001b[0misna\u001b[0m\u001b[1;33m(\u001b[0m\u001b[1;33m)\u001b[0m\u001b[1;33m)\u001b[0m\u001b[1;33m,\u001b[0m \u001b[1;34m\"Unit\"\u001b[0m\u001b[1;33m]\u001b[0m \u001b[1;33m=\u001b[0m \u001b[1;34m\"Other ICU\"\u001b[0m\u001b[1;33m\u001b[0m\u001b[1;33m\u001b[0m\u001b[0m\n",
      "\u001b[1;32mC:\\ProgramData\\Miniconda3\\envs\\dash_env\\lib\\site-packages\\pandas\\core\\frame.py\u001b[0m in \u001b[0;36m__getitem__\u001b[1;34m(self, key)\u001b[0m\n\u001b[0;32m   3022\u001b[0m             \u001b[1;32mif\u001b[0m \u001b[0mself\u001b[0m\u001b[1;33m.\u001b[0m\u001b[0mcolumns\u001b[0m\u001b[1;33m.\u001b[0m\u001b[0mnlevels\u001b[0m \u001b[1;33m>\u001b[0m \u001b[1;36m1\u001b[0m\u001b[1;33m:\u001b[0m\u001b[1;33m\u001b[0m\u001b[1;33m\u001b[0m\u001b[0m\n\u001b[0;32m   3023\u001b[0m                 \u001b[1;32mreturn\u001b[0m \u001b[0mself\u001b[0m\u001b[1;33m.\u001b[0m\u001b[0m_getitem_multilevel\u001b[0m\u001b[1;33m(\u001b[0m\u001b[0mkey\u001b[0m\u001b[1;33m)\u001b[0m\u001b[1;33m\u001b[0m\u001b[1;33m\u001b[0m\u001b[0m\n\u001b[1;32m-> 3024\u001b[1;33m             \u001b[0mindexer\u001b[0m \u001b[1;33m=\u001b[0m \u001b[0mself\u001b[0m\u001b[1;33m.\u001b[0m\u001b[0mcolumns\u001b[0m\u001b[1;33m.\u001b[0m\u001b[0mget_loc\u001b[0m\u001b[1;33m(\u001b[0m\u001b[0mkey\u001b[0m\u001b[1;33m)\u001b[0m\u001b[1;33m\u001b[0m\u001b[1;33m\u001b[0m\u001b[0m\n\u001b[0m\u001b[0;32m   3025\u001b[0m             \u001b[1;32mif\u001b[0m \u001b[0mis_integer\u001b[0m\u001b[1;33m(\u001b[0m\u001b[0mindexer\u001b[0m\u001b[1;33m)\u001b[0m\u001b[1;33m:\u001b[0m\u001b[1;33m\u001b[0m\u001b[1;33m\u001b[0m\u001b[0m\n\u001b[0;32m   3026\u001b[0m                 \u001b[0mindexer\u001b[0m \u001b[1;33m=\u001b[0m \u001b[1;33m[\u001b[0m\u001b[0mindexer\u001b[0m\u001b[1;33m]\u001b[0m\u001b[1;33m\u001b[0m\u001b[1;33m\u001b[0m\u001b[0m\n",
      "\u001b[1;32mC:\\ProgramData\\Miniconda3\\envs\\dash_env\\lib\\site-packages\\pandas\\core\\indexes\\base.py\u001b[0m in \u001b[0;36mget_loc\u001b[1;34m(self, key, method, tolerance)\u001b[0m\n\u001b[0;32m   3080\u001b[0m                 \u001b[1;32mreturn\u001b[0m \u001b[0mself\u001b[0m\u001b[1;33m.\u001b[0m\u001b[0m_engine\u001b[0m\u001b[1;33m.\u001b[0m\u001b[0mget_loc\u001b[0m\u001b[1;33m(\u001b[0m\u001b[0mcasted_key\u001b[0m\u001b[1;33m)\u001b[0m\u001b[1;33m\u001b[0m\u001b[1;33m\u001b[0m\u001b[0m\n\u001b[0;32m   3081\u001b[0m             \u001b[1;32mexcept\u001b[0m \u001b[0mKeyError\u001b[0m \u001b[1;32mas\u001b[0m \u001b[0merr\u001b[0m\u001b[1;33m:\u001b[0m\u001b[1;33m\u001b[0m\u001b[1;33m\u001b[0m\u001b[0m\n\u001b[1;32m-> 3082\u001b[1;33m                 \u001b[1;32mraise\u001b[0m \u001b[0mKeyError\u001b[0m\u001b[1;33m(\u001b[0m\u001b[0mkey\u001b[0m\u001b[1;33m)\u001b[0m \u001b[1;32mfrom\u001b[0m \u001b[0merr\u001b[0m\u001b[1;33m\u001b[0m\u001b[1;33m\u001b[0m\u001b[0m\n\u001b[0m\u001b[0;32m   3083\u001b[0m \u001b[1;33m\u001b[0m\u001b[0m\n\u001b[0;32m   3084\u001b[0m         \u001b[1;32mif\u001b[0m \u001b[0mtolerance\u001b[0m \u001b[1;32mis\u001b[0m \u001b[1;32mnot\u001b[0m \u001b[1;32mNone\u001b[0m\u001b[1;33m:\u001b[0m\u001b[1;33m\u001b[0m\u001b[1;33m\u001b[0m\u001b[0m\n",
      "\u001b[1;31mKeyError\u001b[0m: 'Unit1'"
     ]
    }
   ],
   "metadata": {
    "execution": {
     "iopub.execute_input": "2021-05-04T16:40:33.639760Z",
     "iopub.status.busy": "2021-05-04T16:40:33.638271Z",
     "iopub.status.idle": "2021-05-04T16:40:33.683769Z",
     "shell.execute_reply": "2021-05-04T16:40:33.683173Z"
    },
    "papermill": {
     "duration": 0.139598,
     "end_time": "2021-05-04T16:40:33.683916",
     "exception": false,
     "start_time": "2021-05-04T16:40:33.544318",
     "status": "completed"
    },
    "tags": []
   }
  },
  {
   "cell_type": "code",
   "execution_count": null,
   "source": [
    "plt.figure(figsize=(18,5))\r\n",
    "plt.subplot(1,2,1)\r\n",
    "sns.countplot(data=CombineUnits(X_train.copy()), x=\"Unit\", hue=y_train)\r\n",
    "plt.subplot(1,2,2)\r\n",
    "plt.ylim([0,20])\r\n",
    "plt.ylabel(\"Developed Sepsis (%)\")\r\n",
    "plt.yticks([i for i in range(0,21,2)])\r\n",
    "sns.barplot(x=list(IsSeptic_shares.keys()), y=list(IsSeptic_shares.values()))\r\n",
    "\r\n",
    "#plt.savefig(\"add2.png\", dpi=400)"
   ],
   "outputs": [
    {
     "output_type": "execute_result",
     "data": {
      "text/plain": [
       "<AxesSubplot:ylabel='Developed Sepsis (%)'>"
      ]
     },
     "metadata": {},
     "execution_count": 17
    },
    {
     "output_type": "display_data",
     "data": {
      "image/png": "[encoded data removed]",
      "text/plain": [
       "<Figure size 1296x360 with 2 Axes>"
      ]
     },
     "metadata": {}
    }
   ],
   "metadata": {
    "execution": {
     "iopub.execute_input": "2021-05-04T16:40:33.886457Z",
     "iopub.status.busy": "2021-05-04T16:40:33.885795Z",
     "iopub.status.idle": "2021-05-04T16:40:34.281036Z",
     "shell.execute_reply": "2021-05-04T16:40:34.281546Z"
    },
    "papermill": {
     "duration": 0.512332,
     "end_time": "2021-05-04T16:40:34.281741",
     "exception": false,
     "start_time": "2021-05-04T16:40:33.769409",
     "status": "completed"
    },
    "tags": []
   }
  },
  {
   "cell_type": "markdown",
   "source": [
    "Not by much, but patients treated in surgical ICU had lower probability of developing sepsis. This feature may be useful for our model."
   ],
   "metadata": {
    "papermill": {
     "duration": 0.093295,
     "end_time": "2021-05-04T16:40:34.460520",
     "exception": false,
     "start_time": "2021-05-04T16:40:34.367225",
     "status": "completed"
    },
    "tags": []
   }
  },
  {
   "cell_type": "markdown",
   "source": [
    "---"
   ],
   "metadata": {
    "papermill": {
     "duration": 0.08472,
     "end_time": "2021-05-04T16:40:34.630766",
     "exception": false,
     "start_time": "2021-05-04T16:40:34.546046",
     "status": "completed"
    },
    "tags": []
   }
  },
  {
   "cell_type": "markdown",
   "source": [
    "### Preliminary feature exclusion <br>\r\n",
    "Before we move any further with our analysis let's discuss if we want to disregard any features as irrelevant or non-representative (or both). \r\n",
    "+ **FiO2** (fraction of inspired oxygen) is missing for 82 % of the patients from the test set. The distribution of this feature also looks very unusual, perhaps indicating that this sample is quite non-representative. \r\n",
    "+ **EtCO2** (end tidal carbon dioxide) lacks for more than 95 % of the patients. This feature does not change between septic and non-septic patients and although there might be a specific reasong to measure this parameter is appear to be non-related to sepsis occurence. \r\n",
    "+ **SaO2** is similar case to **EtCO2** - lots of missing values and no apparent difference between septic and non-septic patients, we will drop this feature. \r\n",
    "+ **HospAdmTime** (hours between hospital admit and ICU admit) does not differ between positive and negative patients. Overall, most of the patients are delivered to ICU as soon as they develop a critical condition and it's probably irrelevant how long they have been present in a hospital in stable condition.\r\n",
    "+ **TroponinI** is missing in most cases (>95%) and is reported to indicate heart and kidney failure, thus we may exclude thus feature\r\n",
    "\r\n"
   ],
   "metadata": {
    "papermill": {
     "duration": 0.085394,
     "end_time": "2021-05-04T16:40:34.802114",
     "exception": false,
     "start_time": "2021-05-04T16:40:34.716720",
     "status": "completed"
    },
    "tags": []
   }
  },
  {
   "cell_type": "code",
   "execution_count": 49,
   "source": [
    "udS.head(15).T"
   ],
   "outputs": [
    {
     "output_type": "execute_result",
     "data": {
      "text/html": [
       "<div>\n",
       "<style scoped>\n",
       "    .dataframe tbody tr th:only-of-type {\n",
       "        vertical-align: middle;\n",
       "    }\n",
       "\n",
       "    .dataframe tbody tr th {\n",
       "        vertical-align: top;\n",
       "    }\n",
       "\n",
       "    .dataframe thead th {\n",
       "        text-align: right;\n",
       "    }\n",
       "</style>\n",
       "<table border=\"1\" class=\"dataframe\">\n",
       "  <thead>\n",
       "    <tr style=\"text-align: right;\">\n",
       "      <th></th>\n",
       "      <th>2</th>\n",
       "      <th>3</th>\n",
       "      <th>4</th>\n",
       "      <th>5</th>\n",
       "      <th>6</th>\n",
       "      <th>8</th>\n",
       "      <th>9</th>\n",
       "      <th>10</th>\n",
       "      <th>11</th>\n",
       "      <th>12</th>\n",
       "      <th>13</th>\n",
       "      <th>14</th>\n",
       "      <th>15</th>\n",
       "      <th>16</th>\n",
       "      <th>17</th>\n",
       "    </tr>\n",
       "  </thead>\n",
       "  <tbody>\n",
       "    <tr>\n",
       "      <th>HR</th>\n",
       "      <td>91.0</td>\n",
       "      <td>92.0</td>\n",
       "      <td>155.5</td>\n",
       "      <td>73.00</td>\n",
       "      <td>NaN</td>\n",
       "      <td>89.0</td>\n",
       "      <td>100.00</td>\n",
       "      <td>95.00</td>\n",
       "      <td>86.0</td>\n",
       "      <td>88.0</td>\n",
       "      <td>116.00</td>\n",
       "      <td>110.0</td>\n",
       "      <td>54.0</td>\n",
       "      <td>98.0</td>\n",
       "      <td>72.0</td>\n",
       "    </tr>\n",
       "    <tr>\n",
       "      <th>O2Sat</th>\n",
       "      <td>94.0</td>\n",
       "      <td>100.0</td>\n",
       "      <td>94.5</td>\n",
       "      <td>99.00</td>\n",
       "      <td>NaN</td>\n",
       "      <td>100.0</td>\n",
       "      <td>95.00</td>\n",
       "      <td>100.00</td>\n",
       "      <td>96.0</td>\n",
       "      <td>100.0</td>\n",
       "      <td>97.00</td>\n",
       "      <td>99.0</td>\n",
       "      <td>95.0</td>\n",
       "      <td>94.0</td>\n",
       "      <td>96.0</td>\n",
       "    </tr>\n",
       "    <tr>\n",
       "      <th>Temp</th>\n",
       "      <td>38.5</td>\n",
       "      <td>NaN</td>\n",
       "      <td>NaN</td>\n",
       "      <td>36.06</td>\n",
       "      <td>NaN</td>\n",
       "      <td>NaN</td>\n",
       "      <td>37.28</td>\n",
       "      <td>NaN</td>\n",
       "      <td>38.0</td>\n",
       "      <td>36.3</td>\n",
       "      <td>38.28</td>\n",
       "      <td>36.4</td>\n",
       "      <td>NaN</td>\n",
       "      <td>NaN</td>\n",
       "      <td>NaN</td>\n",
       "    </tr>\n",
       "    <tr>\n",
       "      <th>SBP</th>\n",
       "      <td>133.0</td>\n",
       "      <td>NaN</td>\n",
       "      <td>147.5</td>\n",
       "      <td>100.00</td>\n",
       "      <td>NaN</td>\n",
       "      <td>141.0</td>\n",
       "      <td>121.00</td>\n",
       "      <td>89.00</td>\n",
       "      <td>111.0</td>\n",
       "      <td>99.0</td>\n",
       "      <td>200.00</td>\n",
       "      <td>116.0</td>\n",
       "      <td>103.0</td>\n",
       "      <td>95.0</td>\n",
       "      <td>103.0</td>\n",
       "    </tr>\n",
       "    <tr>\n",
       "      <th>MAP</th>\n",
       "      <td>74.0</td>\n",
       "      <td>NaN</td>\n",
       "      <td>102.0</td>\n",
       "      <td>67.00</td>\n",
       "      <td>NaN</td>\n",
       "      <td>85.0</td>\n",
       "      <td>20.00</td>\n",
       "      <td>62.33</td>\n",
       "      <td>66.0</td>\n",
       "      <td>66.0</td>\n",
       "      <td>108.00</td>\n",
       "      <td>219.0</td>\n",
       "      <td>63.0</td>\n",
       "      <td>62.0</td>\n",
       "      <td>62.0</td>\n",
       "    </tr>\n",
       "    <tr>\n",
       "      <th>DBP</th>\n",
       "      <td>48.0</td>\n",
       "      <td>NaN</td>\n",
       "      <td>NaN</td>\n",
       "      <td>49.50</td>\n",
       "      <td>NaN</td>\n",
       "      <td>57.0</td>\n",
       "      <td>NaN</td>\n",
       "      <td>NaN</td>\n",
       "      <td>49.0</td>\n",
       "      <td>52.0</td>\n",
       "      <td>90.00</td>\n",
       "      <td>66.0</td>\n",
       "      <td>NaN</td>\n",
       "      <td>45.0</td>\n",
       "      <td>45.0</td>\n",
       "    </tr>\n",
       "    <tr>\n",
       "      <th>Resp</th>\n",
       "      <td>34.0</td>\n",
       "      <td>NaN</td>\n",
       "      <td>33.0</td>\n",
       "      <td>16.50</td>\n",
       "      <td>NaN</td>\n",
       "      <td>17.0</td>\n",
       "      <td>NaN</td>\n",
       "      <td>18.00</td>\n",
       "      <td>17.0</td>\n",
       "      <td>16.0</td>\n",
       "      <td>24.00</td>\n",
       "      <td>19.0</td>\n",
       "      <td>11.0</td>\n",
       "      <td>15.0</td>\n",
       "      <td>20.0</td>\n",
       "    </tr>\n",
       "    <tr>\n",
       "      <th>EtCO2</th>\n",
       "      <td>NaN</td>\n",
       "      <td>NaN</td>\n",
       "      <td>NaN</td>\n",
       "      <td>NaN</td>\n",
       "      <td>NaN</td>\n",
       "      <td>NaN</td>\n",
       "      <td>NaN</td>\n",
       "      <td>NaN</td>\n",
       "      <td>NaN</td>\n",
       "      <td>NaN</td>\n",
       "      <td>NaN</td>\n",
       "      <td>NaN</td>\n",
       "      <td>NaN</td>\n",
       "      <td>NaN</td>\n",
       "      <td>NaN</td>\n",
       "    </tr>\n",
       "    <tr>\n",
       "      <th>isSepsis</th>\n",
       "      <td>0.0</td>\n",
       "      <td>0.0</td>\n",
       "      <td>0.0</td>\n",
       "      <td>0.00</td>\n",
       "      <td>1.0</td>\n",
       "      <td>1.0</td>\n",
       "      <td>0.00</td>\n",
       "      <td>0.00</td>\n",
       "      <td>0.0</td>\n",
       "      <td>0.0</td>\n",
       "      <td>1.00</td>\n",
       "      <td>0.0</td>\n",
       "      <td>0.0</td>\n",
       "      <td>0.0</td>\n",
       "      <td>1.0</td>\n",
       "    </tr>\n",
       "  </tbody>\n",
       "</table>\n",
       "</div>"
      ],
      "text/plain": [
       "             2      3      4       5    6      8       9       10     11  \\\n",
       "HR         91.0   92.0  155.5   73.00  NaN   89.0  100.00   95.00   86.0   \n",
       "O2Sat      94.0  100.0   94.5   99.00  NaN  100.0   95.00  100.00   96.0   \n",
       "Temp       38.5    NaN    NaN   36.06  NaN    NaN   37.28     NaN   38.0   \n",
       "SBP       133.0    NaN  147.5  100.00  NaN  141.0  121.00   89.00  111.0   \n",
       "MAP        74.0    NaN  102.0   67.00  NaN   85.0   20.00   62.33   66.0   \n",
       "DBP        48.0    NaN    NaN   49.50  NaN   57.0     NaN     NaN   49.0   \n",
       "Resp       34.0    NaN   33.0   16.50  NaN   17.0     NaN   18.00   17.0   \n",
       "EtCO2       NaN    NaN    NaN     NaN  NaN    NaN     NaN     NaN    NaN   \n",
       "isSepsis    0.0    0.0    0.0    0.00  1.0    1.0    0.00    0.00    0.0   \n",
       "\n",
       "             12      13     14     15    16     17  \n",
       "HR         88.0  116.00  110.0   54.0  98.0   72.0  \n",
       "O2Sat     100.0   97.00   99.0   95.0  94.0   96.0  \n",
       "Temp       36.3   38.28   36.4    NaN   NaN    NaN  \n",
       "SBP        99.0  200.00  116.0  103.0  95.0  103.0  \n",
       "MAP        66.0  108.00  219.0   63.0  62.0   62.0  \n",
       "DBP        52.0   90.00   66.0    NaN  45.0   45.0  \n",
       "Resp       16.0   24.00   19.0   11.0  15.0   20.0  \n",
       "EtCO2       NaN     NaN    NaN    NaN   NaN    NaN  \n",
       "isSepsis    0.0    1.00    0.0    0.0   0.0    1.0  "
      ]
     },
     "metadata": {},
     "execution_count": 49
    }
   ],
   "metadata": {}
  },
  {
   "cell_type": "markdown",
   "source": [
    "Now that we excluded some features let's take a look if any numerical features correlate to each other:"
   ],
   "metadata": {
    "papermill": {
     "duration": 0.085762,
     "end_time": "2021-05-04T16:40:34.974197",
     "exception": false,
     "start_time": "2021-05-04T16:40:34.888435",
     "status": "completed"
    },
    "tags": []
   }
  },
  {
   "cell_type": "code",
   "execution_count": 50,
   "source": [
    "#X_train.columns\r\n",
    "correlation_features = [\"HR\", \"O2Sat\", \"Temp\", \"SBP\", \"MAP\", \"DBP\", \"Resp\", \"BaseExcess\", \"HCO3\", \"pH\", \"PaCO2\", \"AST\",\r\n",
    "                       \"BUN\", \"Alkalinephos\", \"Calcium\", \"Chloride\", \"Creatinine\", \"Bilirubin_direct\", \"Glucose\", \"Lactate\",\r\n",
    "                       \"Magnesium\", \"Phosphate\", \"Potassium\", \"Bilirubin_total\", \"Hct\", \"Hgb\", \"PTT\", \"WBC\",\r\n",
    "                       \"Fibrinogen\", \"Platelets\", \"Age\"]\r\n",
    "\r\n",
    "mat_corr = X_train[correlation_features].corr()\r\n",
    "\r\n",
    "mask = np.zeros_like(mat_corr)\r\n",
    "mask[np.triu_indices_from(mask)] = True\r\n",
    "plt.figure(figsize=(26,22))\r\n",
    "sns.heatmap(mat_corr, mask=mask, square=True, annot=True, fmt=\".2f\", center=0, linewidths=.5, cmap=\"RdBu\")\r\n",
    "\r\n",
    "#plt.savefig(\"cormat.png\", dpi=400)"
   ],
   "outputs": [
    {
     "output_type": "error",
     "ename": "KeyError",
     "evalue": "\"['Calcium', 'Potassium', 'AST', 'Creatinine', 'Bilirubin_total', 'BaseExcess', 'Chloride', 'Lactate', 'Fibrinogen', 'Age', 'pH', 'HCO3', 'BUN', 'Hgb', 'Magnesium', 'WBC', 'Glucose', 'PTT', 'Bilirubin_direct', 'Hct', 'Platelets', 'Phosphate', 'Alkalinephos', 'PaCO2'] not in index\"",
     "traceback": [
      "\u001b[1;31m---------------------------------------------------------------------------\u001b[0m",
      "\u001b[1;31mKeyError\u001b[0m                                  Traceback (most recent call last)",
      "\u001b[1;32mC:\\Users\\MUDITC~1\\AppData\\Local\\Temp/ipykernel_19900/2545614867.py\u001b[0m in \u001b[0;36m<module>\u001b[1;34m\u001b[0m\n\u001b[0;32m      5\u001b[0m                        \"Fibrinogen\", \"Platelets\", \"Age\"]\n\u001b[0;32m      6\u001b[0m \u001b[1;33m\u001b[0m\u001b[0m\n\u001b[1;32m----> 7\u001b[1;33m \u001b[0mmat_corr\u001b[0m \u001b[1;33m=\u001b[0m \u001b[0mX_train\u001b[0m\u001b[1;33m[\u001b[0m\u001b[0mcorrelation_features\u001b[0m\u001b[1;33m]\u001b[0m\u001b[1;33m.\u001b[0m\u001b[0mcorr\u001b[0m\u001b[1;33m(\u001b[0m\u001b[1;33m)\u001b[0m\u001b[1;33m\u001b[0m\u001b[1;33m\u001b[0m\u001b[0m\n\u001b[0m\u001b[0;32m      8\u001b[0m \u001b[1;33m\u001b[0m\u001b[0m\n\u001b[0;32m      9\u001b[0m \u001b[0mmask\u001b[0m \u001b[1;33m=\u001b[0m \u001b[0mnp\u001b[0m\u001b[1;33m.\u001b[0m\u001b[0mzeros_like\u001b[0m\u001b[1;33m(\u001b[0m\u001b[0mmat_corr\u001b[0m\u001b[1;33m)\u001b[0m\u001b[1;33m\u001b[0m\u001b[1;33m\u001b[0m\u001b[0m\n",
      "\u001b[1;32mC:\\ProgramData\\Miniconda3\\envs\\dash_env\\lib\\site-packages\\pandas\\core\\frame.py\u001b[0m in \u001b[0;36m__getitem__\u001b[1;34m(self, key)\u001b[0m\n\u001b[0;32m   3028\u001b[0m             \u001b[1;32mif\u001b[0m \u001b[0mis_iterator\u001b[0m\u001b[1;33m(\u001b[0m\u001b[0mkey\u001b[0m\u001b[1;33m)\u001b[0m\u001b[1;33m:\u001b[0m\u001b[1;33m\u001b[0m\u001b[1;33m\u001b[0m\u001b[0m\n\u001b[0;32m   3029\u001b[0m                 \u001b[0mkey\u001b[0m \u001b[1;33m=\u001b[0m \u001b[0mlist\u001b[0m\u001b[1;33m(\u001b[0m\u001b[0mkey\u001b[0m\u001b[1;33m)\u001b[0m\u001b[1;33m\u001b[0m\u001b[1;33m\u001b[0m\u001b[0m\n\u001b[1;32m-> 3030\u001b[1;33m             \u001b[0mindexer\u001b[0m \u001b[1;33m=\u001b[0m \u001b[0mself\u001b[0m\u001b[1;33m.\u001b[0m\u001b[0mloc\u001b[0m\u001b[1;33m.\u001b[0m\u001b[0m_get_listlike_indexer\u001b[0m\u001b[1;33m(\u001b[0m\u001b[0mkey\u001b[0m\u001b[1;33m,\u001b[0m \u001b[0maxis\u001b[0m\u001b[1;33m=\u001b[0m\u001b[1;36m1\u001b[0m\u001b[1;33m,\u001b[0m \u001b[0mraise_missing\u001b[0m\u001b[1;33m=\u001b[0m\u001b[1;32mTrue\u001b[0m\u001b[1;33m)\u001b[0m\u001b[1;33m[\u001b[0m\u001b[1;36m1\u001b[0m\u001b[1;33m]\u001b[0m\u001b[1;33m\u001b[0m\u001b[1;33m\u001b[0m\u001b[0m\n\u001b[0m\u001b[0;32m   3031\u001b[0m \u001b[1;33m\u001b[0m\u001b[0m\n\u001b[0;32m   3032\u001b[0m         \u001b[1;31m# take() does not accept boolean indexers\u001b[0m\u001b[1;33m\u001b[0m\u001b[1;33m\u001b[0m\u001b[1;33m\u001b[0m\u001b[0m\n",
      "\u001b[1;32mC:\\ProgramData\\Miniconda3\\envs\\dash_env\\lib\\site-packages\\pandas\\core\\indexing.py\u001b[0m in \u001b[0;36m_get_listlike_indexer\u001b[1;34m(self, key, axis, raise_missing)\u001b[0m\n\u001b[0;32m   1263\u001b[0m             \u001b[0mkeyarr\u001b[0m\u001b[1;33m,\u001b[0m \u001b[0mindexer\u001b[0m\u001b[1;33m,\u001b[0m \u001b[0mnew_indexer\u001b[0m \u001b[1;33m=\u001b[0m \u001b[0max\u001b[0m\u001b[1;33m.\u001b[0m\u001b[0m_reindex_non_unique\u001b[0m\u001b[1;33m(\u001b[0m\u001b[0mkeyarr\u001b[0m\u001b[1;33m)\u001b[0m\u001b[1;33m\u001b[0m\u001b[1;33m\u001b[0m\u001b[0m\n\u001b[0;32m   1264\u001b[0m \u001b[1;33m\u001b[0m\u001b[0m\n\u001b[1;32m-> 1265\u001b[1;33m         \u001b[0mself\u001b[0m\u001b[1;33m.\u001b[0m\u001b[0m_validate_read_indexer\u001b[0m\u001b[1;33m(\u001b[0m\u001b[0mkeyarr\u001b[0m\u001b[1;33m,\u001b[0m \u001b[0mindexer\u001b[0m\u001b[1;33m,\u001b[0m \u001b[0maxis\u001b[0m\u001b[1;33m,\u001b[0m \u001b[0mraise_missing\u001b[0m\u001b[1;33m=\u001b[0m\u001b[0mraise_missing\u001b[0m\u001b[1;33m)\u001b[0m\u001b[1;33m\u001b[0m\u001b[1;33m\u001b[0m\u001b[0m\n\u001b[0m\u001b[0;32m   1266\u001b[0m         \u001b[1;32mreturn\u001b[0m \u001b[0mkeyarr\u001b[0m\u001b[1;33m,\u001b[0m \u001b[0mindexer\u001b[0m\u001b[1;33m\u001b[0m\u001b[1;33m\u001b[0m\u001b[0m\n\u001b[0;32m   1267\u001b[0m \u001b[1;33m\u001b[0m\u001b[0m\n",
      "\u001b[1;32mC:\\ProgramData\\Miniconda3\\envs\\dash_env\\lib\\site-packages\\pandas\\core\\indexing.py\u001b[0m in \u001b[0;36m_validate_read_indexer\u001b[1;34m(self, key, indexer, axis, raise_missing)\u001b[0m\n\u001b[0;32m   1313\u001b[0m             \u001b[1;32mif\u001b[0m \u001b[0mraise_missing\u001b[0m\u001b[1;33m:\u001b[0m\u001b[1;33m\u001b[0m\u001b[1;33m\u001b[0m\u001b[0m\n\u001b[0;32m   1314\u001b[0m                 \u001b[0mnot_found\u001b[0m \u001b[1;33m=\u001b[0m \u001b[0mlist\u001b[0m\u001b[1;33m(\u001b[0m\u001b[0mset\u001b[0m\u001b[1;33m(\u001b[0m\u001b[0mkey\u001b[0m\u001b[1;33m)\u001b[0m \u001b[1;33m-\u001b[0m \u001b[0mset\u001b[0m\u001b[1;33m(\u001b[0m\u001b[0max\u001b[0m\u001b[1;33m)\u001b[0m\u001b[1;33m)\u001b[0m\u001b[1;33m\u001b[0m\u001b[1;33m\u001b[0m\u001b[0m\n\u001b[1;32m-> 1315\u001b[1;33m                 \u001b[1;32mraise\u001b[0m \u001b[0mKeyError\u001b[0m\u001b[1;33m(\u001b[0m\u001b[1;34mf\"{not_found} not in index\"\u001b[0m\u001b[1;33m)\u001b[0m\u001b[1;33m\u001b[0m\u001b[1;33m\u001b[0m\u001b[0m\n\u001b[0m\u001b[0;32m   1316\u001b[0m \u001b[1;33m\u001b[0m\u001b[0m\n\u001b[0;32m   1317\u001b[0m             \u001b[0mnot_found\u001b[0m \u001b[1;33m=\u001b[0m \u001b[0mkey\u001b[0m\u001b[1;33m[\u001b[0m\u001b[0mmissing_mask\u001b[0m\u001b[1;33m]\u001b[0m\u001b[1;33m\u001b[0m\u001b[1;33m\u001b[0m\u001b[0m\n",
      "\u001b[1;31mKeyError\u001b[0m: \"['Calcium', 'Potassium', 'AST', 'Creatinine', 'Bilirubin_total', 'BaseExcess', 'Chloride', 'Lactate', 'Fibrinogen', 'Age', 'pH', 'HCO3', 'BUN', 'Hgb', 'Magnesium', 'WBC', 'Glucose', 'PTT', 'Bilirubin_direct', 'Hct', 'Platelets', 'Phosphate', 'Alkalinephos', 'PaCO2'] not in index\""
     ]
    }
   ],
   "metadata": {
    "execution": {
     "iopub.execute_input": "2021-05-04T16:40:35.149181Z",
     "iopub.status.busy": "2021-05-04T16:40:35.148536Z",
     "iopub.status.idle": "2021-05-04T16:40:38.147264Z",
     "shell.execute_reply": "2021-05-04T16:40:38.147775Z"
    },
    "papermill": {
     "duration": 3.088298,
     "end_time": "2021-05-04T16:40:38.147959",
     "exception": false,
     "start_time": "2021-05-04T16:40:35.059661",
     "status": "completed"
    },
    "tags": []
   }
  },
  {
   "cell_type": "code",
   "execution_count": null,
   "source": [],
   "outputs": [],
   "metadata": {}
  },
  {
   "cell_type": "code",
   "execution_count": 51,
   "source": [
    "mat_corr[\"Bilirubin_total\"].sort_values(ascending=False)[:3]"
   ],
   "outputs": [
    {
     "output_type": "error",
     "ename": "NameError",
     "evalue": "name 'mat_corr' is not defined",
     "traceback": [
      "\u001b[1;31m---------------------------------------------------------------------------\u001b[0m",
      "\u001b[1;31mNameError\u001b[0m                                 Traceback (most recent call last)",
      "\u001b[1;32mC:\\Users\\MUDITC~1\\AppData\\Local\\Temp/ipykernel_19900/2207646046.py\u001b[0m in \u001b[0;36m<module>\u001b[1;34m\u001b[0m\n\u001b[1;32m----> 1\u001b[1;33m \u001b[0mmat_corr\u001b[0m\u001b[1;33m[\u001b[0m\u001b[1;34m\"Bilirubin_total\"\u001b[0m\u001b[1;33m]\u001b[0m\u001b[1;33m.\u001b[0m\u001b[0msort_values\u001b[0m\u001b[1;33m(\u001b[0m\u001b[0mascending\u001b[0m\u001b[1;33m=\u001b[0m\u001b[1;32mFalse\u001b[0m\u001b[1;33m)\u001b[0m\u001b[1;33m[\u001b[0m\u001b[1;33m:\u001b[0m\u001b[1;36m3\u001b[0m\u001b[1;33m]\u001b[0m\u001b[1;33m\u001b[0m\u001b[1;33m\u001b[0m\u001b[0m\n\u001b[0m",
      "\u001b[1;31mNameError\u001b[0m: name 'mat_corr' is not defined"
     ]
    }
   ],
   "metadata": {
    "execution": {
     "iopub.execute_input": "2021-05-04T16:40:38.350054Z",
     "iopub.status.busy": "2021-05-04T16:40:38.349075Z",
     "iopub.status.idle": "2021-05-04T16:40:38.353345Z",
     "shell.execute_reply": "2021-05-04T16:40:38.352749Z"
    },
    "papermill": {
     "duration": 0.107992,
     "end_time": "2021-05-04T16:40:38.353501",
     "exception": false,
     "start_time": "2021-05-04T16:40:38.245509",
     "status": "completed"
    },
    "tags": []
   }
  },
  {
   "cell_type": "code",
   "execution_count": null,
   "source": [
    "mat_corr[\"DBP\"].sort_values(ascending=False)[:3]"
   ],
   "outputs": [
    {
     "output_type": "execute_result",
     "data": {
      "text/plain": [
       "DBP    1.000000\n",
       "MAP    0.852862\n",
       "SBP    0.570960\n",
       "Name: DBP, dtype: float64"
      ]
     },
     "metadata": {},
     "execution_count": 20
    }
   ],
   "metadata": {
    "execution": {
     "iopub.execute_input": "2021-05-04T16:40:38.553238Z",
     "iopub.status.busy": "2021-05-04T16:40:38.552210Z",
     "iopub.status.idle": "2021-05-04T16:40:38.556195Z",
     "shell.execute_reply": "2021-05-04T16:40:38.556794Z"
    },
    "papermill": {
     "duration": 0.107777,
     "end_time": "2021-05-04T16:40:38.556973",
     "exception": false,
     "start_time": "2021-05-04T16:40:38.449196",
     "status": "completed"
    },
    "tags": []
   }
  },
  {
   "cell_type": "code",
   "execution_count": null,
   "source": [
    "mat_corr[\"SBP\"].sort_values(ascending=False)[:3]"
   ],
   "outputs": [
    {
     "output_type": "execute_result",
     "data": {
      "text/plain": [
       "SBP    1.000000\n",
       "MAP    0.779998\n",
       "DBP    0.570960\n",
       "Name: SBP, dtype: float64"
      ]
     },
     "metadata": {},
     "execution_count": 21
    }
   ],
   "metadata": {
    "execution": {
     "iopub.execute_input": "2021-05-04T16:40:38.759488Z",
     "iopub.status.busy": "2021-05-04T16:40:38.758511Z",
     "iopub.status.idle": "2021-05-04T16:40:38.762351Z",
     "shell.execute_reply": "2021-05-04T16:40:38.762811Z"
    },
    "papermill": {
     "duration": 0.108043,
     "end_time": "2021-05-04T16:40:38.762993",
     "exception": false,
     "start_time": "2021-05-04T16:40:38.654950",
     "status": "completed"
    },
    "tags": []
   }
  },
  {
   "cell_type": "code",
   "execution_count": null,
   "source": [
    "mat_corr[\"HCO3\"].sort_values(ascending=False)[:4]"
   ],
   "outputs": [
    {
     "output_type": "execute_result",
     "data": {
      "text/plain": [
       "HCO3          1.000000\n",
       "BaseExcess    0.840452\n",
       "PaCO2         0.584750\n",
       "pH            0.326729\n",
       "Name: HCO3, dtype: float64"
      ]
     },
     "metadata": {},
     "execution_count": 22
    }
   ],
   "metadata": {
    "execution": {
     "iopub.execute_input": "2021-05-04T16:40:38.962406Z",
     "iopub.status.busy": "2021-05-04T16:40:38.961418Z",
     "iopub.status.idle": "2021-05-04T16:40:38.969532Z",
     "shell.execute_reply": "2021-05-04T16:40:38.970078Z"
    },
    "papermill": {
     "duration": 0.109067,
     "end_time": "2021-05-04T16:40:38.970264",
     "exception": false,
     "start_time": "2021-05-04T16:40:38.861197",
     "status": "completed"
    },
    "tags": []
   }
  },
  {
   "cell_type": "code",
   "execution_count": null,
   "source": [
    "mat_corr[\"pH\"].sort_values(ascending=False)[:4]"
   ],
   "outputs": [
    {
     "output_type": "execute_result",
     "data": {
      "text/plain": [
       "pH            1.000000\n",
       "BaseExcess    0.662243\n",
       "HCO3          0.326729\n",
       "Temp          0.215224\n",
       "Name: pH, dtype: float64"
      ]
     },
     "metadata": {},
     "execution_count": 23
    }
   ],
   "metadata": {
    "execution": {
     "iopub.execute_input": "2021-05-04T16:40:39.177546Z",
     "iopub.status.busy": "2021-05-04T16:40:39.176607Z",
     "iopub.status.idle": "2021-05-04T16:40:39.181560Z",
     "shell.execute_reply": "2021-05-04T16:40:39.180865Z"
    },
    "papermill": {
     "duration": 0.110509,
     "end_time": "2021-05-04T16:40:39.181705",
     "exception": false,
     "start_time": "2021-05-04T16:40:39.071196",
     "status": "completed"
    },
    "tags": []
   }
  },
  {
   "cell_type": "code",
   "execution_count": null,
   "source": [
    "mat_corr[\"PaCO2\"].sort_values(ascending=False)[:4]"
   ],
   "outputs": [
    {
     "output_type": "execute_result",
     "data": {
      "text/plain": [
       "PaCO2         1.000000\n",
       "HCO3          0.584750\n",
       "BaseExcess    0.332045\n",
       "Phosphate     0.119146\n",
       "Name: PaCO2, dtype: float64"
      ]
     },
     "metadata": {},
     "execution_count": 24
    }
   ],
   "metadata": {
    "execution": {
     "iopub.execute_input": "2021-05-04T16:40:39.381845Z",
     "iopub.status.busy": "2021-05-04T16:40:39.381065Z",
     "iopub.status.idle": "2021-05-04T16:40:39.388055Z",
     "shell.execute_reply": "2021-05-04T16:40:39.388627Z"
    },
    "papermill": {
     "duration": 0.109565,
     "end_time": "2021-05-04T16:40:39.388805",
     "exception": false,
     "start_time": "2021-05-04T16:40:39.279240",
     "status": "completed"
    },
    "tags": []
   }
  },
  {
   "cell_type": "code",
   "execution_count": null,
   "source": [
    "mat_corr[\"Hgb\"].sort_values(ascending=False)[:3]"
   ],
   "outputs": [
    {
     "output_type": "execute_result",
     "data": {
      "text/plain": [
       "Hgb    1.000000\n",
       "Hct    0.950894\n",
       "DBP    0.252229\n",
       "Name: Hgb, dtype: float64"
      ]
     },
     "metadata": {},
     "execution_count": 25
    }
   ],
   "metadata": {
    "execution": {
     "iopub.execute_input": "2021-05-04T16:40:39.592786Z",
     "iopub.status.busy": "2021-05-04T16:40:39.592099Z",
     "iopub.status.idle": "2021-05-04T16:40:39.600022Z",
     "shell.execute_reply": "2021-05-04T16:40:39.599538Z"
    },
    "papermill": {
     "duration": 0.108998,
     "end_time": "2021-05-04T16:40:39.600173",
     "exception": false,
     "start_time": "2021-05-04T16:40:39.491175",
     "status": "completed"
    },
    "tags": []
   }
  },
  {
   "cell_type": "markdown",
   "source": [
    "+ Unsurprisingly a high correclation between **Bilirubin_direct** and **Bilirubin_total**. **Bilirubin_direct** is missing for about 96 % of patients, having another feature that highly correlates to this one enables us to exclude **Bilirubin_direct** from classification model. \n",
    "+ There is a high correlation between **DBP** (diastolic BP), **MAP** (mean arterial pressure), and **SBP** (systolic BP). Mean arterial pressure is known ([source](https://doi.org/10.1007/s00134-009-1427-2)) to be primary indicator of patient state in near septic conditions, thus, both **DBP** and **SBP** may be disregarded as **MAP** is calculated from these two features. \n",
    "+ We can notice correlation between three features - **pH**, **HCO<sub>3</sub>**, and **PaCO<sub>2</sub>**. Despite being correlated the ratio between these three features may tell us whether the patient is undergoing *acidosis* or *alkalosis* and which one it is *metabolic* or *respiratory*. Thus, it's better to leave these features and maybe combine them into some categorical feature that will state what type of acidosis/alkalosis has been developed. \n",
    "+ Lastly, hemoglobin (**Hgb**) and hematocrit (**Hct**) values happened to be highly correlated. This is to no surprise because whilst hemoglobin expresses concentration of hemoglobin in blood, hematocrit is a volume share of erytrocytes in blood. Research articles about sepsis diagnosis mostly concentrate on hemoglobin out of these two, while hematocrit is often used to asses anemia and other diseases. Let's stick with experts and leave just **Hgb**."
   ],
   "metadata": {
    "papermill": {
     "duration": 0.097896,
     "end_time": "2021-05-04T16:40:39.796939",
     "exception": false,
     "start_time": "2021-05-04T16:40:39.699043",
     "status": "completed"
    },
    "tags": []
   }
  },
  {
   "cell_type": "markdown",
   "source": [
    "---"
   ],
   "metadata": {
    "papermill": {
     "duration": 0.098274,
     "end_time": "2021-05-04T16:40:39.994679",
     "exception": false,
     "start_time": "2021-05-04T16:40:39.896405",
     "status": "completed"
    },
    "tags": []
   }
  },
  {
   "cell_type": "markdown",
   "source": [
    "Now, let's perform a chi square test. This test will show us what features are independant with the target label."
   ],
   "metadata": {
    "papermill": {
     "duration": 0.097957,
     "end_time": "2021-05-04T16:40:40.191620",
     "exception": false,
     "start_time": "2021-05-04T16:40:40.093663",
     "status": "completed"
    },
    "tags": []
   }
  },
  {
   "cell_type": "code",
   "execution_count": 52,
   "source": [
    "from sklearn.feature_selection import chi2\r\n",
    "from sklearn.impute import SimpleImputer\r\n",
    "\r\n",
    "X_train.columns\r\n",
    "chi_cols = ['HR', 'O2Sat', 'Temp', 'SBP', 'MAP', 'DBP', 'Resp', 'EtCO2', \r\n",
    "       'HCO3', 'FiO2', 'pH', 'PaCO2', 'SaO2', 'AST', 'BUN',\r\n",
    "       'Alkalinephos', 'Calcium', 'Chloride', 'Creatinine', 'Bilirubin_direct',\r\n",
    "       'Glucose', 'Lactate', 'Magnesium', 'Phosphate', 'Potassium',\r\n",
    "       'Bilirubin_total', 'TroponinI', 'Hct', 'Hgb', 'PTT', 'WBC',\r\n",
    "       'Fibrinogen', 'Platelets', 'Age', 'ICULOS']\r\n",
    "\r\n",
    "X_chi = X_train[chi_cols].copy()\r\n",
    "\r\n",
    "imputer = SimpleImputer(strategy=\"median\")\r\n",
    "X_chi[chi_cols] = imputer.fit_transform(X_chi)\r\n",
    "\r\n",
    "chis = chi2(X_chi, y_train)\r\n",
    "\r\n",
    "len(chi_cols)\r\n",
    "chis[0].reshape(len(chi_cols),1)\r\n",
    "\r\n",
    "chi_dict = {}\r\n",
    "p_dict = {}\r\n",
    "for i in range(len(chi_cols)):\r\n",
    "    chi_dict[chi_cols[i]] = chis[0][i]\r\n",
    "    p_dict[chi_cols[i]] = chis[1][i]"
   ],
   "outputs": [
    {
     "output_type": "error",
     "ename": "KeyError",
     "evalue": "\"['Calcium', 'Potassium', 'AST', 'Creatinine', 'Bilirubin_total', 'TroponinI', 'Chloride', 'Lactate', 'Fibrinogen', 'Age', 'pH', 'HCO3', 'BUN', 'Hgb', 'Magnesium', 'SaO2', 'WBC', 'Glucose', 'PTT', 'Bilirubin_direct', 'Hct', 'Platelets', 'Phosphate', 'FiO2', 'Alkalinephos', 'PaCO2', 'ICULOS'] not in index\"",
     "traceback": [
      "\u001b[1;31m---------------------------------------------------------------------------\u001b[0m",
      "\u001b[1;31mKeyError\u001b[0m                                  Traceback (most recent call last)",
      "\u001b[1;32mC:\\Users\\MUDITC~1\\AppData\\Local\\Temp/ipykernel_19900/1007514139.py\u001b[0m in \u001b[0;36m<module>\u001b[1;34m\u001b[0m\n\u001b[0;32m     10\u001b[0m        'Fibrinogen', 'Platelets', 'Age', 'ICULOS']\n\u001b[0;32m     11\u001b[0m \u001b[1;33m\u001b[0m\u001b[0m\n\u001b[1;32m---> 12\u001b[1;33m \u001b[0mX_chi\u001b[0m \u001b[1;33m=\u001b[0m \u001b[0mX_train\u001b[0m\u001b[1;33m[\u001b[0m\u001b[0mchi_cols\u001b[0m\u001b[1;33m]\u001b[0m\u001b[1;33m.\u001b[0m\u001b[0mcopy\u001b[0m\u001b[1;33m(\u001b[0m\u001b[1;33m)\u001b[0m\u001b[1;33m\u001b[0m\u001b[1;33m\u001b[0m\u001b[0m\n\u001b[0m\u001b[0;32m     13\u001b[0m \u001b[1;33m\u001b[0m\u001b[0m\n\u001b[0;32m     14\u001b[0m \u001b[0mimputer\u001b[0m \u001b[1;33m=\u001b[0m \u001b[0mSimpleImputer\u001b[0m\u001b[1;33m(\u001b[0m\u001b[0mstrategy\u001b[0m\u001b[1;33m=\u001b[0m\u001b[1;34m\"median\"\u001b[0m\u001b[1;33m)\u001b[0m\u001b[1;33m\u001b[0m\u001b[1;33m\u001b[0m\u001b[0m\n",
      "\u001b[1;32mC:\\ProgramData\\Miniconda3\\envs\\dash_env\\lib\\site-packages\\pandas\\core\\frame.py\u001b[0m in \u001b[0;36m__getitem__\u001b[1;34m(self, key)\u001b[0m\n\u001b[0;32m   3028\u001b[0m             \u001b[1;32mif\u001b[0m \u001b[0mis_iterator\u001b[0m\u001b[1;33m(\u001b[0m\u001b[0mkey\u001b[0m\u001b[1;33m)\u001b[0m\u001b[1;33m:\u001b[0m\u001b[1;33m\u001b[0m\u001b[1;33m\u001b[0m\u001b[0m\n\u001b[0;32m   3029\u001b[0m                 \u001b[0mkey\u001b[0m \u001b[1;33m=\u001b[0m \u001b[0mlist\u001b[0m\u001b[1;33m(\u001b[0m\u001b[0mkey\u001b[0m\u001b[1;33m)\u001b[0m\u001b[1;33m\u001b[0m\u001b[1;33m\u001b[0m\u001b[0m\n\u001b[1;32m-> 3030\u001b[1;33m             \u001b[0mindexer\u001b[0m \u001b[1;33m=\u001b[0m \u001b[0mself\u001b[0m\u001b[1;33m.\u001b[0m\u001b[0mloc\u001b[0m\u001b[1;33m.\u001b[0m\u001b[0m_get_listlike_indexer\u001b[0m\u001b[1;33m(\u001b[0m\u001b[0mkey\u001b[0m\u001b[1;33m,\u001b[0m \u001b[0maxis\u001b[0m\u001b[1;33m=\u001b[0m\u001b[1;36m1\u001b[0m\u001b[1;33m,\u001b[0m \u001b[0mraise_missing\u001b[0m\u001b[1;33m=\u001b[0m\u001b[1;32mTrue\u001b[0m\u001b[1;33m)\u001b[0m\u001b[1;33m[\u001b[0m\u001b[1;36m1\u001b[0m\u001b[1;33m]\u001b[0m\u001b[1;33m\u001b[0m\u001b[1;33m\u001b[0m\u001b[0m\n\u001b[0m\u001b[0;32m   3031\u001b[0m \u001b[1;33m\u001b[0m\u001b[0m\n\u001b[0;32m   3032\u001b[0m         \u001b[1;31m# take() does not accept boolean indexers\u001b[0m\u001b[1;33m\u001b[0m\u001b[1;33m\u001b[0m\u001b[1;33m\u001b[0m\u001b[0m\n",
      "\u001b[1;32mC:\\ProgramData\\Miniconda3\\envs\\dash_env\\lib\\site-packages\\pandas\\core\\indexing.py\u001b[0m in \u001b[0;36m_get_listlike_indexer\u001b[1;34m(self, key, axis, raise_missing)\u001b[0m\n\u001b[0;32m   1263\u001b[0m             \u001b[0mkeyarr\u001b[0m\u001b[1;33m,\u001b[0m \u001b[0mindexer\u001b[0m\u001b[1;33m,\u001b[0m \u001b[0mnew_indexer\u001b[0m \u001b[1;33m=\u001b[0m \u001b[0max\u001b[0m\u001b[1;33m.\u001b[0m\u001b[0m_reindex_non_unique\u001b[0m\u001b[1;33m(\u001b[0m\u001b[0mkeyarr\u001b[0m\u001b[1;33m)\u001b[0m\u001b[1;33m\u001b[0m\u001b[1;33m\u001b[0m\u001b[0m\n\u001b[0;32m   1264\u001b[0m \u001b[1;33m\u001b[0m\u001b[0m\n\u001b[1;32m-> 1265\u001b[1;33m         \u001b[0mself\u001b[0m\u001b[1;33m.\u001b[0m\u001b[0m_validate_read_indexer\u001b[0m\u001b[1;33m(\u001b[0m\u001b[0mkeyarr\u001b[0m\u001b[1;33m,\u001b[0m \u001b[0mindexer\u001b[0m\u001b[1;33m,\u001b[0m \u001b[0maxis\u001b[0m\u001b[1;33m,\u001b[0m \u001b[0mraise_missing\u001b[0m\u001b[1;33m=\u001b[0m\u001b[0mraise_missing\u001b[0m\u001b[1;33m)\u001b[0m\u001b[1;33m\u001b[0m\u001b[1;33m\u001b[0m\u001b[0m\n\u001b[0m\u001b[0;32m   1266\u001b[0m         \u001b[1;32mreturn\u001b[0m \u001b[0mkeyarr\u001b[0m\u001b[1;33m,\u001b[0m \u001b[0mindexer\u001b[0m\u001b[1;33m\u001b[0m\u001b[1;33m\u001b[0m\u001b[0m\n\u001b[0;32m   1267\u001b[0m \u001b[1;33m\u001b[0m\u001b[0m\n",
      "\u001b[1;32mC:\\ProgramData\\Miniconda3\\envs\\dash_env\\lib\\site-packages\\pandas\\core\\indexing.py\u001b[0m in \u001b[0;36m_validate_read_indexer\u001b[1;34m(self, key, indexer, axis, raise_missing)\u001b[0m\n\u001b[0;32m   1313\u001b[0m             \u001b[1;32mif\u001b[0m \u001b[0mraise_missing\u001b[0m\u001b[1;33m:\u001b[0m\u001b[1;33m\u001b[0m\u001b[1;33m\u001b[0m\u001b[0m\n\u001b[0;32m   1314\u001b[0m                 \u001b[0mnot_found\u001b[0m \u001b[1;33m=\u001b[0m \u001b[0mlist\u001b[0m\u001b[1;33m(\u001b[0m\u001b[0mset\u001b[0m\u001b[1;33m(\u001b[0m\u001b[0mkey\u001b[0m\u001b[1;33m)\u001b[0m \u001b[1;33m-\u001b[0m \u001b[0mset\u001b[0m\u001b[1;33m(\u001b[0m\u001b[0max\u001b[0m\u001b[1;33m)\u001b[0m\u001b[1;33m)\u001b[0m\u001b[1;33m\u001b[0m\u001b[1;33m\u001b[0m\u001b[0m\n\u001b[1;32m-> 1315\u001b[1;33m                 \u001b[1;32mraise\u001b[0m \u001b[0mKeyError\u001b[0m\u001b[1;33m(\u001b[0m\u001b[1;34mf\"{not_found} not in index\"\u001b[0m\u001b[1;33m)\u001b[0m\u001b[1;33m\u001b[0m\u001b[1;33m\u001b[0m\u001b[0m\n\u001b[0m\u001b[0;32m   1316\u001b[0m \u001b[1;33m\u001b[0m\u001b[0m\n\u001b[0;32m   1317\u001b[0m             \u001b[0mnot_found\u001b[0m \u001b[1;33m=\u001b[0m \u001b[0mkey\u001b[0m\u001b[1;33m[\u001b[0m\u001b[0mmissing_mask\u001b[0m\u001b[1;33m]\u001b[0m\u001b[1;33m\u001b[0m\u001b[1;33m\u001b[0m\u001b[0m\n",
      "\u001b[1;31mKeyError\u001b[0m: \"['Calcium', 'Potassium', 'AST', 'Creatinine', 'Bilirubin_total', 'TroponinI', 'Chloride', 'Lactate', 'Fibrinogen', 'Age', 'pH', 'HCO3', 'BUN', 'Hgb', 'Magnesium', 'SaO2', 'WBC', 'Glucose', 'PTT', 'Bilirubin_direct', 'Hct', 'Platelets', 'Phosphate', 'FiO2', 'Alkalinephos', 'PaCO2', 'ICULOS'] not in index\""
     ]
    }
   ],
   "metadata": {
    "execution": {
     "iopub.execute_input": "2021-05-04T16:40:40.396999Z",
     "iopub.status.busy": "2021-05-04T16:40:40.396342Z",
     "iopub.status.idle": "2021-05-04T16:40:40.907353Z",
     "shell.execute_reply": "2021-05-04T16:40:40.908318Z"
    },
    "papermill": {
     "duration": 0.619237,
     "end_time": "2021-05-04T16:40:40.908633",
     "exception": false,
     "start_time": "2021-05-04T16:40:40.289396",
     "status": "completed"
    },
    "tags": []
   }
  },
  {
   "cell_type": "code",
   "execution_count": 53,
   "source": [
    "p_dict"
   ],
   "outputs": [
    {
     "output_type": "error",
     "ename": "NameError",
     "evalue": "name 'p_dict' is not defined",
     "traceback": [
      "\u001b[1;31m---------------------------------------------------------------------------\u001b[0m",
      "\u001b[1;31mNameError\u001b[0m                                 Traceback (most recent call last)",
      "\u001b[1;32mC:\\Users\\MUDITC~1\\AppData\\Local\\Temp/ipykernel_19900/3550466909.py\u001b[0m in \u001b[0;36m<module>\u001b[1;34m\u001b[0m\n\u001b[1;32m----> 1\u001b[1;33m \u001b[0mp_dict\u001b[0m\u001b[1;33m\u001b[0m\u001b[1;33m\u001b[0m\u001b[0m\n\u001b[0m",
      "\u001b[1;31mNameError\u001b[0m: name 'p_dict' is not defined"
     ]
    }
   ],
   "metadata": {
    "execution": {
     "iopub.execute_input": "2021-05-04T16:40:41.168784Z",
     "iopub.status.busy": "2021-05-04T16:40:41.167716Z",
     "iopub.status.idle": "2021-05-04T16:40:41.171285Z",
     "shell.execute_reply": "2021-05-04T16:40:41.171880Z"
    },
    "papermill": {
     "duration": 0.108763,
     "end_time": "2021-05-04T16:40:41.172057",
     "exception": false,
     "start_time": "2021-05-04T16:40:41.063294",
     "status": "completed"
    },
    "tags": []
   }
  },
  {
   "cell_type": "markdown",
   "source": [
    "P-values represent probability of a null-hypothesis applicability to a given feature. In this case the null-hypothesis is that a feature and target label are dependant values. For feature selection we will use the most common p-value threshold - 95 %. Thus, all features with p-value higher than 0.05 violate null-hypothesis and may be disregarded. These features are: <br>\n",
    "**EtCO2**<br>\n",
    "**FiO2**<br>\n",
    "**SaO2**<br>\n",
    "**Chloride**<br>\n",
    "**Bilirubin_direct**<br>\n",
    "**Lactate**<br>\n",
    "**Magnesium**<br>\n",
    "**Phosphate**<br>\n",
    "**Potassium**<br>\n",
    "Other than that we can see that **pH** and **PaCO2** violate null-hypothesis. We mentioned that these features may predict acid-base disturbances in patients. However, since we have **BaseExcess** feature **pH** becomes rudimentary, however we can still use **PaCO2** to find out wheter a patient has metabolic or respiratory disturbance. Specifically, septic patients often develop a condition known as *Respiratory alkalosis with metabolic acidosis*."
   ],
   "metadata": {
    "papermill": {
     "duration": 0.099057,
     "end_time": "2021-05-04T16:40:41.370730",
     "exception": false,
     "start_time": "2021-05-04T16:40:41.271673",
     "status": "completed"
    },
    "tags": []
   }
  },
  {
   "cell_type": "markdown",
   "source": [
    "---"
   ],
   "metadata": {
    "papermill": {
     "duration": 0.099267,
     "end_time": "2021-05-04T16:40:41.569947",
     "exception": false,
     "start_time": "2021-05-04T16:40:41.470680",
     "status": "completed"
    },
    "tags": []
   }
  },
  {
   "cell_type": "markdown",
   "source": [
    "Let's examine some outliers. We know that patients above 90 y.o are marked as 100 y.o. This may be misleading; we may expect a difference in metabolic and immune processes between 90 y.o. and say 110 y.o. Therefore we will exclude patients older than 90 later in [feature engineering.](#FE) Other outliers were observed in **Calcium** and **PTT** features, let's check them:"
   ],
   "metadata": {
    "papermill": {
     "duration": 0.099272,
     "end_time": "2021-05-04T16:40:41.768823",
     "exception": false,
     "start_time": "2021-05-04T16:40:41.669551",
     "status": "completed"
    },
    "tags": []
   }
  },
  {
   "cell_type": "code",
   "execution_count": 54,
   "source": [
    "X_train[X_train[\"Calcium\"] < 2].head().T"
   ],
   "outputs": [
    {
     "output_type": "error",
     "ename": "KeyError",
     "evalue": "'Calcium'",
     "traceback": [
      "\u001b[1;31m---------------------------------------------------------------------------\u001b[0m",
      "\u001b[1;31mKeyError\u001b[0m                                  Traceback (most recent call last)",
      "\u001b[1;32mC:\\ProgramData\\Miniconda3\\envs\\dash_env\\lib\\site-packages\\pandas\\core\\indexes\\base.py\u001b[0m in \u001b[0;36mget_loc\u001b[1;34m(self, key, method, tolerance)\u001b[0m\n\u001b[0;32m   3079\u001b[0m             \u001b[1;32mtry\u001b[0m\u001b[1;33m:\u001b[0m\u001b[1;33m\u001b[0m\u001b[1;33m\u001b[0m\u001b[0m\n\u001b[1;32m-> 3080\u001b[1;33m                 \u001b[1;32mreturn\u001b[0m \u001b[0mself\u001b[0m\u001b[1;33m.\u001b[0m\u001b[0m_engine\u001b[0m\u001b[1;33m.\u001b[0m\u001b[0mget_loc\u001b[0m\u001b[1;33m(\u001b[0m\u001b[0mcasted_key\u001b[0m\u001b[1;33m)\u001b[0m\u001b[1;33m\u001b[0m\u001b[1;33m\u001b[0m\u001b[0m\n\u001b[0m\u001b[0;32m   3081\u001b[0m             \u001b[1;32mexcept\u001b[0m \u001b[0mKeyError\u001b[0m \u001b[1;32mas\u001b[0m \u001b[0merr\u001b[0m\u001b[1;33m:\u001b[0m\u001b[1;33m\u001b[0m\u001b[1;33m\u001b[0m\u001b[0m\n",
      "\u001b[1;32mpandas\\_libs\\index.pyx\u001b[0m in \u001b[0;36mpandas._libs.index.IndexEngine.get_loc\u001b[1;34m()\u001b[0m\n",
      "\u001b[1;32mpandas\\_libs\\index.pyx\u001b[0m in \u001b[0;36mpandas._libs.index.IndexEngine.get_loc\u001b[1;34m()\u001b[0m\n",
      "\u001b[1;32mpandas\\_libs\\hashtable_class_helper.pxi\u001b[0m in \u001b[0;36mpandas._libs.hashtable.PyObjectHashTable.get_item\u001b[1;34m()\u001b[0m\n",
      "\u001b[1;32mpandas\\_libs\\hashtable_class_helper.pxi\u001b[0m in \u001b[0;36mpandas._libs.hashtable.PyObjectHashTable.get_item\u001b[1;34m()\u001b[0m\n",
      "\u001b[1;31mKeyError\u001b[0m: 'Calcium'",
      "\nThe above exception was the direct cause of the following exception:\n",
      "\u001b[1;31mKeyError\u001b[0m                                  Traceback (most recent call last)",
      "\u001b[1;32mC:\\Users\\MUDITC~1\\AppData\\Local\\Temp/ipykernel_19900/232142405.py\u001b[0m in \u001b[0;36m<module>\u001b[1;34m\u001b[0m\n\u001b[1;32m----> 1\u001b[1;33m \u001b[0mX_train\u001b[0m\u001b[1;33m[\u001b[0m\u001b[0mX_train\u001b[0m\u001b[1;33m[\u001b[0m\u001b[1;34m\"Calcium\"\u001b[0m\u001b[1;33m]\u001b[0m \u001b[1;33m<\u001b[0m \u001b[1;36m2\u001b[0m\u001b[1;33m]\u001b[0m\u001b[1;33m.\u001b[0m\u001b[0mhead\u001b[0m\u001b[1;33m(\u001b[0m\u001b[1;33m)\u001b[0m\u001b[1;33m.\u001b[0m\u001b[0mT\u001b[0m\u001b[1;33m\u001b[0m\u001b[1;33m\u001b[0m\u001b[0m\n\u001b[0m",
      "\u001b[1;32mC:\\ProgramData\\Miniconda3\\envs\\dash_env\\lib\\site-packages\\pandas\\core\\frame.py\u001b[0m in \u001b[0;36m__getitem__\u001b[1;34m(self, key)\u001b[0m\n\u001b[0;32m   3022\u001b[0m             \u001b[1;32mif\u001b[0m \u001b[0mself\u001b[0m\u001b[1;33m.\u001b[0m\u001b[0mcolumns\u001b[0m\u001b[1;33m.\u001b[0m\u001b[0mnlevels\u001b[0m \u001b[1;33m>\u001b[0m \u001b[1;36m1\u001b[0m\u001b[1;33m:\u001b[0m\u001b[1;33m\u001b[0m\u001b[1;33m\u001b[0m\u001b[0m\n\u001b[0;32m   3023\u001b[0m                 \u001b[1;32mreturn\u001b[0m \u001b[0mself\u001b[0m\u001b[1;33m.\u001b[0m\u001b[0m_getitem_multilevel\u001b[0m\u001b[1;33m(\u001b[0m\u001b[0mkey\u001b[0m\u001b[1;33m)\u001b[0m\u001b[1;33m\u001b[0m\u001b[1;33m\u001b[0m\u001b[0m\n\u001b[1;32m-> 3024\u001b[1;33m             \u001b[0mindexer\u001b[0m \u001b[1;33m=\u001b[0m \u001b[0mself\u001b[0m\u001b[1;33m.\u001b[0m\u001b[0mcolumns\u001b[0m\u001b[1;33m.\u001b[0m\u001b[0mget_loc\u001b[0m\u001b[1;33m(\u001b[0m\u001b[0mkey\u001b[0m\u001b[1;33m)\u001b[0m\u001b[1;33m\u001b[0m\u001b[1;33m\u001b[0m\u001b[0m\n\u001b[0m\u001b[0;32m   3025\u001b[0m             \u001b[1;32mif\u001b[0m \u001b[0mis_integer\u001b[0m\u001b[1;33m(\u001b[0m\u001b[0mindexer\u001b[0m\u001b[1;33m)\u001b[0m\u001b[1;33m:\u001b[0m\u001b[1;33m\u001b[0m\u001b[1;33m\u001b[0m\u001b[0m\n\u001b[0;32m   3026\u001b[0m                 \u001b[0mindexer\u001b[0m \u001b[1;33m=\u001b[0m \u001b[1;33m[\u001b[0m\u001b[0mindexer\u001b[0m\u001b[1;33m]\u001b[0m\u001b[1;33m\u001b[0m\u001b[1;33m\u001b[0m\u001b[0m\n",
      "\u001b[1;32mC:\\ProgramData\\Miniconda3\\envs\\dash_env\\lib\\site-packages\\pandas\\core\\indexes\\base.py\u001b[0m in \u001b[0;36mget_loc\u001b[1;34m(self, key, method, tolerance)\u001b[0m\n\u001b[0;32m   3080\u001b[0m                 \u001b[1;32mreturn\u001b[0m \u001b[0mself\u001b[0m\u001b[1;33m.\u001b[0m\u001b[0m_engine\u001b[0m\u001b[1;33m.\u001b[0m\u001b[0mget_loc\u001b[0m\u001b[1;33m(\u001b[0m\u001b[0mcasted_key\u001b[0m\u001b[1;33m)\u001b[0m\u001b[1;33m\u001b[0m\u001b[1;33m\u001b[0m\u001b[0m\n\u001b[0;32m   3081\u001b[0m             \u001b[1;32mexcept\u001b[0m \u001b[0mKeyError\u001b[0m \u001b[1;32mas\u001b[0m \u001b[0merr\u001b[0m\u001b[1;33m:\u001b[0m\u001b[1;33m\u001b[0m\u001b[1;33m\u001b[0m\u001b[0m\n\u001b[1;32m-> 3082\u001b[1;33m                 \u001b[1;32mraise\u001b[0m \u001b[0mKeyError\u001b[0m\u001b[1;33m(\u001b[0m\u001b[0mkey\u001b[0m\u001b[1;33m)\u001b[0m \u001b[1;32mfrom\u001b[0m \u001b[0merr\u001b[0m\u001b[1;33m\u001b[0m\u001b[1;33m\u001b[0m\u001b[0m\n\u001b[0m\u001b[0;32m   3083\u001b[0m \u001b[1;33m\u001b[0m\u001b[0m\n\u001b[0;32m   3084\u001b[0m         \u001b[1;32mif\u001b[0m \u001b[0mtolerance\u001b[0m \u001b[1;32mis\u001b[0m \u001b[1;32mnot\u001b[0m \u001b[1;32mNone\u001b[0m\u001b[1;33m:\u001b[0m\u001b[1;33m\u001b[0m\u001b[1;33m\u001b[0m\u001b[0m\n",
      "\u001b[1;31mKeyError\u001b[0m: 'Calcium'"
     ]
    }
   ],
   "metadata": {
    "execution": {
     "iopub.execute_input": "2021-05-04T16:40:41.973922Z",
     "iopub.status.busy": "2021-05-04T16:40:41.973254Z",
     "iopub.status.idle": "2021-05-04T16:40:41.994861Z",
     "shell.execute_reply": "2021-05-04T16:40:41.995367Z"
    },
    "papermill": {
     "duration": 0.125374,
     "end_time": "2021-05-04T16:40:41.995585",
     "exception": false,
     "start_time": "2021-05-04T16:40:41.870211",
     "status": "completed"
    },
    "tags": []
   }
  },
  {
   "cell_type": "code",
   "execution_count": 55,
   "source": [
    "X_train[\"Calcium\"][X_train[\"Calcium\"] < 2].count()"
   ],
   "outputs": [
    {
     "output_type": "error",
     "ename": "KeyError",
     "evalue": "'Calcium'",
     "traceback": [
      "\u001b[1;31m---------------------------------------------------------------------------\u001b[0m",
      "\u001b[1;31mKeyError\u001b[0m                                  Traceback (most recent call last)",
      "\u001b[1;32mC:\\ProgramData\\Miniconda3\\envs\\dash_env\\lib\\site-packages\\pandas\\core\\indexes\\base.py\u001b[0m in \u001b[0;36mget_loc\u001b[1;34m(self, key, method, tolerance)\u001b[0m\n\u001b[0;32m   3079\u001b[0m             \u001b[1;32mtry\u001b[0m\u001b[1;33m:\u001b[0m\u001b[1;33m\u001b[0m\u001b[1;33m\u001b[0m\u001b[0m\n\u001b[1;32m-> 3080\u001b[1;33m                 \u001b[1;32mreturn\u001b[0m \u001b[0mself\u001b[0m\u001b[1;33m.\u001b[0m\u001b[0m_engine\u001b[0m\u001b[1;33m.\u001b[0m\u001b[0mget_loc\u001b[0m\u001b[1;33m(\u001b[0m\u001b[0mcasted_key\u001b[0m\u001b[1;33m)\u001b[0m\u001b[1;33m\u001b[0m\u001b[1;33m\u001b[0m\u001b[0m\n\u001b[0m\u001b[0;32m   3081\u001b[0m             \u001b[1;32mexcept\u001b[0m \u001b[0mKeyError\u001b[0m \u001b[1;32mas\u001b[0m \u001b[0merr\u001b[0m\u001b[1;33m:\u001b[0m\u001b[1;33m\u001b[0m\u001b[1;33m\u001b[0m\u001b[0m\n",
      "\u001b[1;32mpandas\\_libs\\index.pyx\u001b[0m in \u001b[0;36mpandas._libs.index.IndexEngine.get_loc\u001b[1;34m()\u001b[0m\n",
      "\u001b[1;32mpandas\\_libs\\index.pyx\u001b[0m in \u001b[0;36mpandas._libs.index.IndexEngine.get_loc\u001b[1;34m()\u001b[0m\n",
      "\u001b[1;32mpandas\\_libs\\hashtable_class_helper.pxi\u001b[0m in \u001b[0;36mpandas._libs.hashtable.PyObjectHashTable.get_item\u001b[1;34m()\u001b[0m\n",
      "\u001b[1;32mpandas\\_libs\\hashtable_class_helper.pxi\u001b[0m in \u001b[0;36mpandas._libs.hashtable.PyObjectHashTable.get_item\u001b[1;34m()\u001b[0m\n",
      "\u001b[1;31mKeyError\u001b[0m: 'Calcium'",
      "\nThe above exception was the direct cause of the following exception:\n",
      "\u001b[1;31mKeyError\u001b[0m                                  Traceback (most recent call last)",
      "\u001b[1;32mC:\\Users\\MUDITC~1\\AppData\\Local\\Temp/ipykernel_19900/1234061222.py\u001b[0m in \u001b[0;36m<module>\u001b[1;34m\u001b[0m\n\u001b[1;32m----> 1\u001b[1;33m \u001b[0mX_train\u001b[0m\u001b[1;33m[\u001b[0m\u001b[1;34m\"Calcium\"\u001b[0m\u001b[1;33m]\u001b[0m\u001b[1;33m[\u001b[0m\u001b[0mX_train\u001b[0m\u001b[1;33m[\u001b[0m\u001b[1;34m\"Calcium\"\u001b[0m\u001b[1;33m]\u001b[0m \u001b[1;33m<\u001b[0m \u001b[1;36m2\u001b[0m\u001b[1;33m]\u001b[0m\u001b[1;33m.\u001b[0m\u001b[0mcount\u001b[0m\u001b[1;33m(\u001b[0m\u001b[1;33m)\u001b[0m\u001b[1;33m\u001b[0m\u001b[1;33m\u001b[0m\u001b[0m\n\u001b[0m",
      "\u001b[1;32mC:\\ProgramData\\Miniconda3\\envs\\dash_env\\lib\\site-packages\\pandas\\core\\frame.py\u001b[0m in \u001b[0;36m__getitem__\u001b[1;34m(self, key)\u001b[0m\n\u001b[0;32m   3022\u001b[0m             \u001b[1;32mif\u001b[0m \u001b[0mself\u001b[0m\u001b[1;33m.\u001b[0m\u001b[0mcolumns\u001b[0m\u001b[1;33m.\u001b[0m\u001b[0mnlevels\u001b[0m \u001b[1;33m>\u001b[0m \u001b[1;36m1\u001b[0m\u001b[1;33m:\u001b[0m\u001b[1;33m\u001b[0m\u001b[1;33m\u001b[0m\u001b[0m\n\u001b[0;32m   3023\u001b[0m                 \u001b[1;32mreturn\u001b[0m \u001b[0mself\u001b[0m\u001b[1;33m.\u001b[0m\u001b[0m_getitem_multilevel\u001b[0m\u001b[1;33m(\u001b[0m\u001b[0mkey\u001b[0m\u001b[1;33m)\u001b[0m\u001b[1;33m\u001b[0m\u001b[1;33m\u001b[0m\u001b[0m\n\u001b[1;32m-> 3024\u001b[1;33m             \u001b[0mindexer\u001b[0m \u001b[1;33m=\u001b[0m \u001b[0mself\u001b[0m\u001b[1;33m.\u001b[0m\u001b[0mcolumns\u001b[0m\u001b[1;33m.\u001b[0m\u001b[0mget_loc\u001b[0m\u001b[1;33m(\u001b[0m\u001b[0mkey\u001b[0m\u001b[1;33m)\u001b[0m\u001b[1;33m\u001b[0m\u001b[1;33m\u001b[0m\u001b[0m\n\u001b[0m\u001b[0;32m   3025\u001b[0m             \u001b[1;32mif\u001b[0m \u001b[0mis_integer\u001b[0m\u001b[1;33m(\u001b[0m\u001b[0mindexer\u001b[0m\u001b[1;33m)\u001b[0m\u001b[1;33m:\u001b[0m\u001b[1;33m\u001b[0m\u001b[1;33m\u001b[0m\u001b[0m\n\u001b[0;32m   3026\u001b[0m                 \u001b[0mindexer\u001b[0m \u001b[1;33m=\u001b[0m \u001b[1;33m[\u001b[0m\u001b[0mindexer\u001b[0m\u001b[1;33m]\u001b[0m\u001b[1;33m\u001b[0m\u001b[1;33m\u001b[0m\u001b[0m\n",
      "\u001b[1;32mC:\\ProgramData\\Miniconda3\\envs\\dash_env\\lib\\site-packages\\pandas\\core\\indexes\\base.py\u001b[0m in \u001b[0;36mget_loc\u001b[1;34m(self, key, method, tolerance)\u001b[0m\n\u001b[0;32m   3080\u001b[0m                 \u001b[1;32mreturn\u001b[0m \u001b[0mself\u001b[0m\u001b[1;33m.\u001b[0m\u001b[0m_engine\u001b[0m\u001b[1;33m.\u001b[0m\u001b[0mget_loc\u001b[0m\u001b[1;33m(\u001b[0m\u001b[0mcasted_key\u001b[0m\u001b[1;33m)\u001b[0m\u001b[1;33m\u001b[0m\u001b[1;33m\u001b[0m\u001b[0m\n\u001b[0;32m   3081\u001b[0m             \u001b[1;32mexcept\u001b[0m \u001b[0mKeyError\u001b[0m \u001b[1;32mas\u001b[0m \u001b[0merr\u001b[0m\u001b[1;33m:\u001b[0m\u001b[1;33m\u001b[0m\u001b[1;33m\u001b[0m\u001b[0m\n\u001b[1;32m-> 3082\u001b[1;33m                 \u001b[1;32mraise\u001b[0m \u001b[0mKeyError\u001b[0m\u001b[1;33m(\u001b[0m\u001b[0mkey\u001b[0m\u001b[1;33m)\u001b[0m \u001b[1;32mfrom\u001b[0m \u001b[0merr\u001b[0m\u001b[1;33m\u001b[0m\u001b[1;33m\u001b[0m\u001b[0m\n\u001b[0m\u001b[0;32m   3083\u001b[0m \u001b[1;33m\u001b[0m\u001b[0m\n\u001b[0;32m   3084\u001b[0m         \u001b[1;32mif\u001b[0m \u001b[0mtolerance\u001b[0m \u001b[1;32mis\u001b[0m \u001b[1;32mnot\u001b[0m \u001b[1;32mNone\u001b[0m\u001b[1;33m:\u001b[0m\u001b[1;33m\u001b[0m\u001b[1;33m\u001b[0m\u001b[0m\n",
      "\u001b[1;31mKeyError\u001b[0m: 'Calcium'"
     ]
    }
   ],
   "metadata": {
    "execution": {
     "iopub.execute_input": "2021-05-04T16:40:42.200860Z",
     "iopub.status.busy": "2021-05-04T16:40:42.200133Z",
     "iopub.status.idle": "2021-05-04T16:40:42.206302Z",
     "shell.execute_reply": "2021-05-04T16:40:42.206845Z"
    },
    "papermill": {
     "duration": 0.110132,
     "end_time": "2021-05-04T16:40:42.207018",
     "exception": false,
     "start_time": "2021-05-04T16:40:42.096886",
     "status": "completed"
    },
    "tags": []
   }
  },
  {
   "cell_type": "code",
   "execution_count": 71,
   "source": [
    "X_train[X_train[\"PTT\"] > 150].head().T"
   ],
   "outputs": [
    {
     "output_type": "error",
     "ename": "KeyError",
     "evalue": "'PTT'",
     "traceback": [
      "\u001b[1;31m---------------------------------------------------------------------------\u001b[0m",
      "\u001b[1;31mKeyError\u001b[0m                                  Traceback (most recent call last)",
      "\u001b[1;32mC:\\ProgramData\\Miniconda3\\envs\\dash_env\\lib\\site-packages\\pandas\\core\\indexes\\base.py\u001b[0m in \u001b[0;36mget_loc\u001b[1;34m(self, key, method, tolerance)\u001b[0m\n\u001b[0;32m   3079\u001b[0m             \u001b[1;32mtry\u001b[0m\u001b[1;33m:\u001b[0m\u001b[1;33m\u001b[0m\u001b[1;33m\u001b[0m\u001b[0m\n\u001b[1;32m-> 3080\u001b[1;33m                 \u001b[1;32mreturn\u001b[0m \u001b[0mself\u001b[0m\u001b[1;33m.\u001b[0m\u001b[0m_engine\u001b[0m\u001b[1;33m.\u001b[0m\u001b[0mget_loc\u001b[0m\u001b[1;33m(\u001b[0m\u001b[0mcasted_key\u001b[0m\u001b[1;33m)\u001b[0m\u001b[1;33m\u001b[0m\u001b[1;33m\u001b[0m\u001b[0m\n\u001b[0m\u001b[0;32m   3081\u001b[0m             \u001b[1;32mexcept\u001b[0m \u001b[0mKeyError\u001b[0m \u001b[1;32mas\u001b[0m \u001b[0merr\u001b[0m\u001b[1;33m:\u001b[0m\u001b[1;33m\u001b[0m\u001b[1;33m\u001b[0m\u001b[0m\n",
      "\u001b[1;32mpandas\\_libs\\index.pyx\u001b[0m in \u001b[0;36mpandas._libs.index.IndexEngine.get_loc\u001b[1;34m()\u001b[0m\n",
      "\u001b[1;32mpandas\\_libs\\index.pyx\u001b[0m in \u001b[0;36mpandas._libs.index.IndexEngine.get_loc\u001b[1;34m()\u001b[0m\n",
      "\u001b[1;32mpandas\\_libs\\hashtable_class_helper.pxi\u001b[0m in \u001b[0;36mpandas._libs.hashtable.PyObjectHashTable.get_item\u001b[1;34m()\u001b[0m\n",
      "\u001b[1;32mpandas\\_libs\\hashtable_class_helper.pxi\u001b[0m in \u001b[0;36mpandas._libs.hashtable.PyObjectHashTable.get_item\u001b[1;34m()\u001b[0m\n",
      "\u001b[1;31mKeyError\u001b[0m: 'PTT'",
      "\nThe above exception was the direct cause of the following exception:\n",
      "\u001b[1;31mKeyError\u001b[0m                                  Traceback (most recent call last)",
      "\u001b[1;32mC:\\Users\\MUDITC~1\\AppData\\Local\\Temp/ipykernel_19900/1823745913.py\u001b[0m in \u001b[0;36m<module>\u001b[1;34m\u001b[0m\n\u001b[1;32m----> 1\u001b[1;33m \u001b[0mX_train\u001b[0m\u001b[1;33m[\u001b[0m\u001b[0mX_train\u001b[0m\u001b[1;33m[\u001b[0m\u001b[1;34m\"PTT\"\u001b[0m\u001b[1;33m]\u001b[0m \u001b[1;33m>\u001b[0m \u001b[1;36m150\u001b[0m\u001b[1;33m]\u001b[0m\u001b[1;33m.\u001b[0m\u001b[0mhead\u001b[0m\u001b[1;33m(\u001b[0m\u001b[1;33m)\u001b[0m\u001b[1;33m.\u001b[0m\u001b[0mT\u001b[0m\u001b[1;33m\u001b[0m\u001b[1;33m\u001b[0m\u001b[0m\n\u001b[0m",
      "\u001b[1;32mC:\\ProgramData\\Miniconda3\\envs\\dash_env\\lib\\site-packages\\pandas\\core\\frame.py\u001b[0m in \u001b[0;36m__getitem__\u001b[1;34m(self, key)\u001b[0m\n\u001b[0;32m   3022\u001b[0m             \u001b[1;32mif\u001b[0m \u001b[0mself\u001b[0m\u001b[1;33m.\u001b[0m\u001b[0mcolumns\u001b[0m\u001b[1;33m.\u001b[0m\u001b[0mnlevels\u001b[0m \u001b[1;33m>\u001b[0m \u001b[1;36m1\u001b[0m\u001b[1;33m:\u001b[0m\u001b[1;33m\u001b[0m\u001b[1;33m\u001b[0m\u001b[0m\n\u001b[0;32m   3023\u001b[0m                 \u001b[1;32mreturn\u001b[0m \u001b[0mself\u001b[0m\u001b[1;33m.\u001b[0m\u001b[0m_getitem_multilevel\u001b[0m\u001b[1;33m(\u001b[0m\u001b[0mkey\u001b[0m\u001b[1;33m)\u001b[0m\u001b[1;33m\u001b[0m\u001b[1;33m\u001b[0m\u001b[0m\n\u001b[1;32m-> 3024\u001b[1;33m             \u001b[0mindexer\u001b[0m \u001b[1;33m=\u001b[0m \u001b[0mself\u001b[0m\u001b[1;33m.\u001b[0m\u001b[0mcolumns\u001b[0m\u001b[1;33m.\u001b[0m\u001b[0mget_loc\u001b[0m\u001b[1;33m(\u001b[0m\u001b[0mkey\u001b[0m\u001b[1;33m)\u001b[0m\u001b[1;33m\u001b[0m\u001b[1;33m\u001b[0m\u001b[0m\n\u001b[0m\u001b[0;32m   3025\u001b[0m             \u001b[1;32mif\u001b[0m \u001b[0mis_integer\u001b[0m\u001b[1;33m(\u001b[0m\u001b[0mindexer\u001b[0m\u001b[1;33m)\u001b[0m\u001b[1;33m:\u001b[0m\u001b[1;33m\u001b[0m\u001b[1;33m\u001b[0m\u001b[0m\n\u001b[0;32m   3026\u001b[0m                 \u001b[0mindexer\u001b[0m \u001b[1;33m=\u001b[0m \u001b[1;33m[\u001b[0m\u001b[0mindexer\u001b[0m\u001b[1;33m]\u001b[0m\u001b[1;33m\u001b[0m\u001b[1;33m\u001b[0m\u001b[0m\n",
      "\u001b[1;32mC:\\ProgramData\\Miniconda3\\envs\\dash_env\\lib\\site-packages\\pandas\\core\\indexes\\base.py\u001b[0m in \u001b[0;36mget_loc\u001b[1;34m(self, key, method, tolerance)\u001b[0m\n\u001b[0;32m   3080\u001b[0m                 \u001b[1;32mreturn\u001b[0m \u001b[0mself\u001b[0m\u001b[1;33m.\u001b[0m\u001b[0m_engine\u001b[0m\u001b[1;33m.\u001b[0m\u001b[0mget_loc\u001b[0m\u001b[1;33m(\u001b[0m\u001b[0mcasted_key\u001b[0m\u001b[1;33m)\u001b[0m\u001b[1;33m\u001b[0m\u001b[1;33m\u001b[0m\u001b[0m\n\u001b[0;32m   3081\u001b[0m             \u001b[1;32mexcept\u001b[0m \u001b[0mKeyError\u001b[0m \u001b[1;32mas\u001b[0m \u001b[0merr\u001b[0m\u001b[1;33m:\u001b[0m\u001b[1;33m\u001b[0m\u001b[1;33m\u001b[0m\u001b[0m\n\u001b[1;32m-> 3082\u001b[1;33m                 \u001b[1;32mraise\u001b[0m \u001b[0mKeyError\u001b[0m\u001b[1;33m(\u001b[0m\u001b[0mkey\u001b[0m\u001b[1;33m)\u001b[0m \u001b[1;32mfrom\u001b[0m \u001b[0merr\u001b[0m\u001b[1;33m\u001b[0m\u001b[1;33m\u001b[0m\u001b[0m\n\u001b[0m\u001b[0;32m   3083\u001b[0m \u001b[1;33m\u001b[0m\u001b[0m\n\u001b[0;32m   3084\u001b[0m         \u001b[1;32mif\u001b[0m \u001b[0mtolerance\u001b[0m \u001b[1;32mis\u001b[0m \u001b[1;32mnot\u001b[0m \u001b[1;32mNone\u001b[0m\u001b[1;33m:\u001b[0m\u001b[1;33m\u001b[0m\u001b[1;33m\u001b[0m\u001b[0m\n",
      "\u001b[1;31mKeyError\u001b[0m: 'PTT'"
     ]
    }
   ],
   "metadata": {
    "execution": {
     "iopub.execute_input": "2021-05-04T16:40:42.413590Z",
     "iopub.status.busy": "2021-05-04T16:40:42.411060Z",
     "iopub.status.idle": "2021-05-04T16:40:42.434147Z",
     "shell.execute_reply": "2021-05-04T16:40:42.434633Z"
    },
    "papermill": {
     "duration": 0.127482,
     "end_time": "2021-05-04T16:40:42.434818",
     "exception": false,
     "start_time": "2021-05-04T16:40:42.307336",
     "status": "completed"
    },
    "tags": []
   }
  },
  {
   "cell_type": "code",
   "execution_count": null,
   "source": [
    "X_train[\"Calcium\"][X_train[\"PTT\"] > 150].count()"
   ],
   "outputs": [
    {
     "output_type": "execute_result",
     "data": {
      "text/plain": [
       "38"
      ]
     },
     "metadata": {},
     "execution_count": 31
    }
   ],
   "metadata": {
    "execution": {
     "iopub.execute_input": "2021-05-04T16:40:42.647577Z",
     "iopub.status.busy": "2021-05-04T16:40:42.646815Z",
     "iopub.status.idle": "2021-05-04T16:40:42.652996Z",
     "shell.execute_reply": "2021-05-04T16:40:42.652506Z"
    },
    "papermill": {
     "duration": 0.116508,
     "end_time": "2021-05-04T16:40:42.653146",
     "exception": false,
     "start_time": "2021-05-04T16:40:42.536638",
     "status": "completed"
    },
    "tags": []
   }
  },
  {
   "cell_type": "markdown",
   "source": [
    "Cursory examining don't lead to any substantial finding. The only observation worth noting is rather low temperatures recorded from patients with high **PTT**. We will not remove these observations for now."
   ],
   "metadata": {
    "papermill": {
     "duration": 0.102294,
     "end_time": "2021-05-04T16:40:42.859329",
     "exception": false,
     "start_time": "2021-05-04T16:40:42.757035",
     "status": "completed"
    },
    "tags": []
   }
  },
  {
   "cell_type": "markdown",
   "source": [
    "---"
   ],
   "metadata": {
    "papermill": {
     "duration": 0.102614,
     "end_time": "2021-05-04T16:40:43.064670",
     "exception": false,
     "start_time": "2021-05-04T16:40:42.962056",
     "status": "completed"
    },
    "tags": []
   }
  },
  {
   "cell_type": "markdown",
   "source": [
    "<a id=\"FE\"></a>\n",
    "# 2. Feature Engineering"
   ],
   "metadata": {
    "papermill": {
     "duration": 0.101615,
     "end_time": "2021-05-04T16:40:43.268809",
     "exception": false,
     "start_time": "2021-05-04T16:40:43.167194",
     "status": "completed"
    },
    "tags": []
   }
  },
  {
   "cell_type": "markdown",
   "source": [
    "Now it's time to engineer our features. First, let's make a list of features that are left after **EDA**. Expand the list below if you want to see the features, there are still quite a lot of them."
   ],
   "metadata": {
    "papermill": {
     "duration": 0.101716,
     "end_time": "2021-05-04T16:40:43.472376",
     "exception": false,
     "start_time": "2021-05-04T16:40:43.370660",
     "status": "completed"
    },
    "tags": []
   }
  },
  {
   "cell_type": "markdown",
   "source": [
    "**Vital signs (columns 1-8)** <br>\n",
    "HR - Heart rate (beats per minute); <br>\n",
    "O2Sat - Pulse oximetry (%); <br>\n",
    "Temp - Temperature (Deg C)<br>\n",
    "MAP - Mean arterial pressure (mm Hg)<br>\n",
    "Resp - Respiration rate (breaths per minute)<br>\n",
    "**Laboratory values (columns 9-34)**<br>\n",
    "BaseExcess - Measure of excess bicarbonate (mmol/L)<br>\n",
    "HCO3 - Bicarbonate (mmol/L)<br>\n",
    "pH - N/A<br>\n",
    "PaCO2 - Partial pressure of carbon dioxide from arterial blood (mm Hg)<br>\n",
    "SaO2 - Oxygen saturation from arterial blood (%)<br>\n",
    "AST - Aspartate transaminase (IU/L)<br>\n",
    "BUN - Blood urea nitrogen (mg/dL)<br>\n",
    "Alkalinephos - Alkaline phosphatase (IU/L)<br>\n",
    "Calcium - (mg/dL)<br>\n",
    "Chloride - (mmol/L)<br>\n",
    "Creatinine - (mg/dL)<br>\n",
    "Glucose - Serum glucose (mg/dL)<br>\n",
    "Lactate - Lactic acid (mg/dL)<br>\n",
    "Magnesium - (mmol/dL)<br>\n",
    "Phosphate - (mg/dL)<br>\n",
    "Potassium - (mmol/L)<br>\n",
    "Bilirubin_total - Total bilirubin (mg/dL)<br>\n",
    "Hgb - Hemoglobin (g/dL)<br>\n",
    "PTT - partial thromboplastin time (seconds)<br>\n",
    "WBC - Leukocyte count (count*10^3/µL)<br>\n",
    "Fibrinogen - (mg/dL)<br>\n",
    "Platelets - (count*10^3/µL)<br><br>\n",
    "**Demographics (columns 35-40)**<br>\n",
    "Age - Years (100 for patients 90 or above)<br>\n",
    "Gender - Female (0) or Male (1)<br>\n",
    "Unit - Administrative identifier for ICU unit<br>\n",
    "ICULOS - ICU length-of-stay (hours since ICU admit)<br><br>"
   ],
   "metadata": {
    "papermill": {
     "duration": 0.119842,
     "end_time": "2021-05-04T16:40:43.701823",
     "exception": false,
     "start_time": "2021-05-04T16:40:43.581981",
     "status": "completed"
    },
    "tags": []
   }
  },
  {
   "cell_type": "markdown",
   "source": [
    "---"
   ],
   "metadata": {
    "papermill": {
     "duration": 0.102101,
     "end_time": "2021-05-04T16:40:43.909639",
     "exception": false,
     "start_time": "2021-05-04T16:40:43.807538",
     "status": "completed"
    },
    "tags": []
   }
  },
  {
   "cell_type": "markdown",
   "source": [
    "### Age"
   ],
   "metadata": {
    "papermill": {
     "duration": 0.102058,
     "end_time": "2021-05-04T16:40:44.113877",
     "exception": false,
     "start_time": "2021-05-04T16:40:44.011819",
     "status": "completed"
    },
    "tags": []
   }
  },
  {
   "cell_type": "markdown",
   "source": [
    "Let's begin with the most obvious - **Age**. It's unlikely that a difference in one or few years will result in significantly different metabolic processes, immune responses and overall fitness. Nonetheless, we may expect a teen and a senior to have different metabolism. Thus, let's divide age into categories:"
   ],
   "metadata": {
    "papermill": {
     "duration": 0.101132,
     "end_time": "2021-05-04T16:40:44.316915",
     "exception": false,
     "start_time": "2021-05-04T16:40:44.215783",
     "status": "completed"
    },
    "tags": []
   }
  },
  {
   "cell_type": "code",
   "execution_count": 56,
   "source": [
    "# remove outliers\r\n",
    "y_train = y_train.loc[X_train[\"Age\"] <= 90]\r\n",
    "X_train = X_train.loc[X_train[\"Age\"] <= 90]\r\n",
    "\r\n",
    "y_test = y_test.loc[X_test[\"Age\"] <= 90]\r\n",
    "X_test = X_test.loc[X_test[\"Age\"] <= 90]"
   ],
   "outputs": [
    {
     "output_type": "error",
     "ename": "KeyError",
     "evalue": "'Age'",
     "traceback": [
      "\u001b[1;31m---------------------------------------------------------------------------\u001b[0m",
      "\u001b[1;31mKeyError\u001b[0m                                  Traceback (most recent call last)",
      "\u001b[1;32mC:\\ProgramData\\Miniconda3\\envs\\dash_env\\lib\\site-packages\\pandas\\core\\indexes\\base.py\u001b[0m in \u001b[0;36mget_loc\u001b[1;34m(self, key, method, tolerance)\u001b[0m\n\u001b[0;32m   3079\u001b[0m             \u001b[1;32mtry\u001b[0m\u001b[1;33m:\u001b[0m\u001b[1;33m\u001b[0m\u001b[1;33m\u001b[0m\u001b[0m\n\u001b[1;32m-> 3080\u001b[1;33m                 \u001b[1;32mreturn\u001b[0m \u001b[0mself\u001b[0m\u001b[1;33m.\u001b[0m\u001b[0m_engine\u001b[0m\u001b[1;33m.\u001b[0m\u001b[0mget_loc\u001b[0m\u001b[1;33m(\u001b[0m\u001b[0mcasted_key\u001b[0m\u001b[1;33m)\u001b[0m\u001b[1;33m\u001b[0m\u001b[1;33m\u001b[0m\u001b[0m\n\u001b[0m\u001b[0;32m   3081\u001b[0m             \u001b[1;32mexcept\u001b[0m \u001b[0mKeyError\u001b[0m \u001b[1;32mas\u001b[0m \u001b[0merr\u001b[0m\u001b[1;33m:\u001b[0m\u001b[1;33m\u001b[0m\u001b[1;33m\u001b[0m\u001b[0m\n",
      "\u001b[1;32mpandas\\_libs\\index.pyx\u001b[0m in \u001b[0;36mpandas._libs.index.IndexEngine.get_loc\u001b[1;34m()\u001b[0m\n",
      "\u001b[1;32mpandas\\_libs\\index.pyx\u001b[0m in \u001b[0;36mpandas._libs.index.IndexEngine.get_loc\u001b[1;34m()\u001b[0m\n",
      "\u001b[1;32mpandas\\_libs\\hashtable_class_helper.pxi\u001b[0m in \u001b[0;36mpandas._libs.hashtable.PyObjectHashTable.get_item\u001b[1;34m()\u001b[0m\n",
      "\u001b[1;32mpandas\\_libs\\hashtable_class_helper.pxi\u001b[0m in \u001b[0;36mpandas._libs.hashtable.PyObjectHashTable.get_item\u001b[1;34m()\u001b[0m\n",
      "\u001b[1;31mKeyError\u001b[0m: 'Age'",
      "\nThe above exception was the direct cause of the following exception:\n",
      "\u001b[1;31mKeyError\u001b[0m                                  Traceback (most recent call last)",
      "\u001b[1;32mC:\\Users\\MUDITC~1\\AppData\\Local\\Temp/ipykernel_19900/2864520498.py\u001b[0m in \u001b[0;36m<module>\u001b[1;34m\u001b[0m\n\u001b[0;32m      1\u001b[0m \u001b[1;31m# remove outliers\u001b[0m\u001b[1;33m\u001b[0m\u001b[1;33m\u001b[0m\u001b[1;33m\u001b[0m\u001b[0m\n\u001b[1;32m----> 2\u001b[1;33m \u001b[0my_train\u001b[0m \u001b[1;33m=\u001b[0m \u001b[0my_train\u001b[0m\u001b[1;33m.\u001b[0m\u001b[0mloc\u001b[0m\u001b[1;33m[\u001b[0m\u001b[0mX_train\u001b[0m\u001b[1;33m[\u001b[0m\u001b[1;34m\"Age\"\u001b[0m\u001b[1;33m]\u001b[0m \u001b[1;33m<=\u001b[0m \u001b[1;36m90\u001b[0m\u001b[1;33m]\u001b[0m\u001b[1;33m\u001b[0m\u001b[1;33m\u001b[0m\u001b[0m\n\u001b[0m\u001b[0;32m      3\u001b[0m \u001b[0mX_train\u001b[0m \u001b[1;33m=\u001b[0m \u001b[0mX_train\u001b[0m\u001b[1;33m.\u001b[0m\u001b[0mloc\u001b[0m\u001b[1;33m[\u001b[0m\u001b[0mX_train\u001b[0m\u001b[1;33m[\u001b[0m\u001b[1;34m\"Age\"\u001b[0m\u001b[1;33m]\u001b[0m \u001b[1;33m<=\u001b[0m \u001b[1;36m90\u001b[0m\u001b[1;33m]\u001b[0m\u001b[1;33m\u001b[0m\u001b[1;33m\u001b[0m\u001b[0m\n\u001b[0;32m      4\u001b[0m \u001b[1;33m\u001b[0m\u001b[0m\n\u001b[0;32m      5\u001b[0m \u001b[0my_test\u001b[0m \u001b[1;33m=\u001b[0m \u001b[0my_test\u001b[0m\u001b[1;33m.\u001b[0m\u001b[0mloc\u001b[0m\u001b[1;33m[\u001b[0m\u001b[0mX_test\u001b[0m\u001b[1;33m[\u001b[0m\u001b[1;34m\"Age\"\u001b[0m\u001b[1;33m]\u001b[0m \u001b[1;33m<=\u001b[0m \u001b[1;36m90\u001b[0m\u001b[1;33m]\u001b[0m\u001b[1;33m\u001b[0m\u001b[1;33m\u001b[0m\u001b[0m\n",
      "\u001b[1;32mC:\\ProgramData\\Miniconda3\\envs\\dash_env\\lib\\site-packages\\pandas\\core\\frame.py\u001b[0m in \u001b[0;36m__getitem__\u001b[1;34m(self, key)\u001b[0m\n\u001b[0;32m   3022\u001b[0m             \u001b[1;32mif\u001b[0m \u001b[0mself\u001b[0m\u001b[1;33m.\u001b[0m\u001b[0mcolumns\u001b[0m\u001b[1;33m.\u001b[0m\u001b[0mnlevels\u001b[0m \u001b[1;33m>\u001b[0m \u001b[1;36m1\u001b[0m\u001b[1;33m:\u001b[0m\u001b[1;33m\u001b[0m\u001b[1;33m\u001b[0m\u001b[0m\n\u001b[0;32m   3023\u001b[0m                 \u001b[1;32mreturn\u001b[0m \u001b[0mself\u001b[0m\u001b[1;33m.\u001b[0m\u001b[0m_getitem_multilevel\u001b[0m\u001b[1;33m(\u001b[0m\u001b[0mkey\u001b[0m\u001b[1;33m)\u001b[0m\u001b[1;33m\u001b[0m\u001b[1;33m\u001b[0m\u001b[0m\n\u001b[1;32m-> 3024\u001b[1;33m             \u001b[0mindexer\u001b[0m \u001b[1;33m=\u001b[0m \u001b[0mself\u001b[0m\u001b[1;33m.\u001b[0m\u001b[0mcolumns\u001b[0m\u001b[1;33m.\u001b[0m\u001b[0mget_loc\u001b[0m\u001b[1;33m(\u001b[0m\u001b[0mkey\u001b[0m\u001b[1;33m)\u001b[0m\u001b[1;33m\u001b[0m\u001b[1;33m\u001b[0m\u001b[0m\n\u001b[0m\u001b[0;32m   3025\u001b[0m             \u001b[1;32mif\u001b[0m \u001b[0mis_integer\u001b[0m\u001b[1;33m(\u001b[0m\u001b[0mindexer\u001b[0m\u001b[1;33m)\u001b[0m\u001b[1;33m:\u001b[0m\u001b[1;33m\u001b[0m\u001b[1;33m\u001b[0m\u001b[0m\n\u001b[0;32m   3026\u001b[0m                 \u001b[0mindexer\u001b[0m \u001b[1;33m=\u001b[0m \u001b[1;33m[\u001b[0m\u001b[0mindexer\u001b[0m\u001b[1;33m]\u001b[0m\u001b[1;33m\u001b[0m\u001b[1;33m\u001b[0m\u001b[0m\n",
      "\u001b[1;32mC:\\ProgramData\\Miniconda3\\envs\\dash_env\\lib\\site-packages\\pandas\\core\\indexes\\base.py\u001b[0m in \u001b[0;36mget_loc\u001b[1;34m(self, key, method, tolerance)\u001b[0m\n\u001b[0;32m   3080\u001b[0m                 \u001b[1;32mreturn\u001b[0m \u001b[0mself\u001b[0m\u001b[1;33m.\u001b[0m\u001b[0m_engine\u001b[0m\u001b[1;33m.\u001b[0m\u001b[0mget_loc\u001b[0m\u001b[1;33m(\u001b[0m\u001b[0mcasted_key\u001b[0m\u001b[1;33m)\u001b[0m\u001b[1;33m\u001b[0m\u001b[1;33m\u001b[0m\u001b[0m\n\u001b[0;32m   3081\u001b[0m             \u001b[1;32mexcept\u001b[0m \u001b[0mKeyError\u001b[0m \u001b[1;32mas\u001b[0m \u001b[0merr\u001b[0m\u001b[1;33m:\u001b[0m\u001b[1;33m\u001b[0m\u001b[1;33m\u001b[0m\u001b[0m\n\u001b[1;32m-> 3082\u001b[1;33m                 \u001b[1;32mraise\u001b[0m \u001b[0mKeyError\u001b[0m\u001b[1;33m(\u001b[0m\u001b[0mkey\u001b[0m\u001b[1;33m)\u001b[0m \u001b[1;32mfrom\u001b[0m \u001b[0merr\u001b[0m\u001b[1;33m\u001b[0m\u001b[1;33m\u001b[0m\u001b[0m\n\u001b[0m\u001b[0;32m   3083\u001b[0m \u001b[1;33m\u001b[0m\u001b[0m\n\u001b[0;32m   3084\u001b[0m         \u001b[1;32mif\u001b[0m \u001b[0mtolerance\u001b[0m \u001b[1;32mis\u001b[0m \u001b[1;32mnot\u001b[0m \u001b[1;32mNone\u001b[0m\u001b[1;33m:\u001b[0m\u001b[1;33m\u001b[0m\u001b[1;33m\u001b[0m\u001b[0m\n",
      "\u001b[1;31mKeyError\u001b[0m: 'Age'"
     ]
    }
   ],
   "metadata": {
    "execution": {
     "iopub.execute_input": "2021-05-04T16:40:44.575104Z",
     "iopub.status.busy": "2021-05-04T16:40:44.574414Z",
     "iopub.status.idle": "2021-05-04T16:40:44.586297Z",
     "shell.execute_reply": "2021-05-04T16:40:44.585623Z"
    },
    "papermill": {
     "duration": 0.168049,
     "end_time": "2021-05-04T16:40:44.586457",
     "exception": false,
     "start_time": "2021-05-04T16:40:44.418408",
     "status": "completed"
    },
    "tags": []
   }
  },
  {
   "cell_type": "code",
   "execution_count": null,
   "source": [
    "def discretizateAge(data):\r\n",
    "    # teen, youth, adult, senior\r\n",
    "    bins = [13, 18, 30, 60, np.inf]\r\n",
    "    data = np.digitize(data, bins=bins)\r\n",
    "    data = data.reshape(len(data), 1)\r\n",
    "    return data\r\n",
    "\r\n",
    "DiscretizateAge = FunctionTransformer(discretizateAge)\r\n",
    "DiscretizateAge.fit_transform(X_train[\"Age\"]).shape"
   ],
   "outputs": [
    {
     "output_type": "execute_result",
     "data": {
      "text/plain": [
       "(32360, 1)"
      ]
     },
     "metadata": {},
     "execution_count": 33
    }
   ],
   "metadata": {
    "execution": {
     "iopub.execute_input": "2021-05-04T16:40:44.795686Z",
     "iopub.status.busy": "2021-05-04T16:40:44.794971Z",
     "iopub.status.idle": "2021-05-04T16:40:44.803965Z",
     "shell.execute_reply": "2021-05-04T16:40:44.803430Z"
    },
    "papermill": {
     "duration": 0.114448,
     "end_time": "2021-05-04T16:40:44.804120",
     "exception": false,
     "start_time": "2021-05-04T16:40:44.689672",
     "status": "completed"
    },
    "tags": []
   }
  },
  {
   "cell_type": "code",
   "execution_count": null,
   "source": [
    "age_pipeline = Pipeline([\r\n",
    "    (\"imputer\", SimpleImputer(strategy=\"median\")),\r\n",
    "    (\"discretizator\", DiscretizateAge)\r\n",
    "])\r\n",
    "\r\n",
    "age_pipeline.fit_transform(X_train[[\"Age\"]]).shape"
   ],
   "outputs": [
    {
     "output_type": "execute_result",
     "data": {
      "text/plain": [
       "(32360, 1)"
      ]
     },
     "metadata": {},
     "execution_count": 34
    }
   ],
   "metadata": {
    "execution": {
     "iopub.execute_input": "2021-05-04T16:40:45.020290Z",
     "iopub.status.busy": "2021-05-04T16:40:45.019635Z",
     "iopub.status.idle": "2021-05-04T16:40:45.031284Z",
     "shell.execute_reply": "2021-05-04T16:40:45.030732Z"
    },
    "papermill": {
     "duration": 0.124004,
     "end_time": "2021-05-04T16:40:45.031460",
     "exception": false,
     "start_time": "2021-05-04T16:40:44.907456",
     "status": "completed"
    },
    "tags": []
   }
  },
  {
   "cell_type": "code",
   "execution_count": null,
   "source": [
    "CombineAllUnits = FunctionTransformer(CombineUnits)\r\n",
    "\r\n",
    "units = [\"Unit1\", \"Unit2\"]\r\n",
    "\r\n",
    "units_pipeline = Pipeline([\r\n",
    "    (\"combine\", CombineAllUnits),\r\n",
    "    (\"encoder\", OneHotEncoder(sparse=False))\r\n",
    "])\r\n",
    "\r\n",
    "units_pipeline.fit_transform(X_train[units]).shape"
   ],
   "outputs": [
    {
     "output_type": "execute_result",
     "data": {
      "text/plain": [
       "(32360, 3)"
      ]
     },
     "metadata": {},
     "execution_count": 35
    }
   ],
   "metadata": {
    "execution": {
     "iopub.execute_input": "2021-05-04T16:40:45.247681Z",
     "iopub.status.busy": "2021-05-04T16:40:45.246897Z",
     "iopub.status.idle": "2021-05-04T16:40:45.278887Z",
     "shell.execute_reply": "2021-05-04T16:40:45.278295Z"
    },
    "papermill": {
     "duration": 0.143116,
     "end_time": "2021-05-04T16:40:45.279045",
     "exception": false,
     "start_time": "2021-05-04T16:40:45.135929",
     "status": "completed"
    },
    "tags": []
   }
  },
  {
   "cell_type": "code",
   "execution_count": null,
   "source": [
    "acidbase_features = [\"BaseExcess\", \"PaCO2\"]\r\n",
    "\r\n",
    "def isAcidBaseDisturb(cols):\r\n",
    "    cols = np.c_[cols, np.zeros(len(cols))]\r\n",
    "    cols[:,2][(cols[:,0] < -2) & (cols[:,1] < 40)] = 1\r\n",
    "    col = cols[:,2].reshape(len(cols), 1)\r\n",
    "    return col\r\n",
    "\r\n",
    "FindAcidosis = FunctionTransformer(isAcidBaseDisturb)\r\n",
    "FindAcidosis.fit_transform(X_train[acidbase_features])"
   ],
   "outputs": [
    {
     "output_type": "execute_result",
     "data": {
      "text/plain": [
       "array([[0.],\n",
       "       [0.],\n",
       "       [0.],\n",
       "       ...,\n",
       "       [0.],\n",
       "       [0.],\n",
       "       [0.]])"
      ]
     },
     "metadata": {},
     "execution_count": 36
    }
   ],
   "metadata": {
    "execution": {
     "iopub.execute_input": "2021-05-04T16:40:45.496710Z",
     "iopub.status.busy": "2021-05-04T16:40:45.495984Z",
     "iopub.status.idle": "2021-05-04T16:40:45.502593Z",
     "shell.execute_reply": "2021-05-04T16:40:45.501927Z"
    },
    "papermill": {
     "duration": 0.119206,
     "end_time": "2021-05-04T16:40:45.502736",
     "exception": false,
     "start_time": "2021-05-04T16:40:45.383530",
     "status": "completed"
    },
    "tags": []
   }
  },
  {
   "cell_type": "code",
   "execution_count": null,
   "source": [
    "acidbase_pipeline = Pipeline([\r\n",
    "    (\"imputer\", SimpleImputer(strategy=\"median\")),\r\n",
    "    (\"acidosis\", FindAcidosis)\r\n",
    "])\r\n",
    "\r\n",
    "acidbase_pipeline.fit_transform(X_train[acidbase_features]).shape"
   ],
   "outputs": [
    {
     "output_type": "execute_result",
     "data": {
      "text/plain": [
       "(32360, 1)"
      ]
     },
     "metadata": {},
     "execution_count": 37
    }
   ],
   "metadata": {
    "execution": {
     "iopub.execute_input": "2021-05-04T16:40:45.720554Z",
     "iopub.status.busy": "2021-05-04T16:40:45.719533Z",
     "iopub.status.idle": "2021-05-04T16:40:45.734056Z",
     "shell.execute_reply": "2021-05-04T16:40:45.733516Z"
    },
    "papermill": {
     "duration": 0.127253,
     "end_time": "2021-05-04T16:40:45.734196",
     "exception": false,
     "start_time": "2021-05-04T16:40:45.606943",
     "status": "completed"
    },
    "tags": []
   }
  },
  {
   "cell_type": "code",
   "execution_count": 70,
   "source": [
    "num_features = [\"HR\", \"O2Sat\", \"Temp\", \"MAP\", \"Resp\", \"AST\", \"BUN\",\r\n",
    "                \"Alkalinephos\", \"Calcium\", \"Creatinine\", \"Glucose\", \"Bilirubin_total\", \r\n",
    "                \"Hgb\", \"PTT\", \"WBC\", \"Fibrinogen\", \"Platelets\", \"ICULOS\"]\r\n",
    "\r\n",
    "num_pipeline = Pipeline([\r\n",
    "    (\"imputer\", SimpleImputer(strategy=\"median\")),\r\n",
    "    (\"scaler\", StandardScaler())\r\n",
    "])\r\n",
    "\r\n",
    "num_pipeline.fit_transform(X_train[num_features]).shape"
   ],
   "outputs": [
    {
     "output_type": "error",
     "ename": "KeyError",
     "evalue": "\"['Creatinine', 'BUN', 'Bilirubin_total', 'Hgb', 'Calcium', 'Alkalinephos', 'WBC', 'Glucose', 'PTT', 'AST', 'Fibrinogen', 'ICULOS', 'Platelets'] not in index\"",
     "traceback": [
      "\u001b[1;31m---------------------------------------------------------------------------\u001b[0m",
      "\u001b[1;31mKeyError\u001b[0m                                  Traceback (most recent call last)",
      "\u001b[1;32mC:\\Users\\MUDITC~1\\AppData\\Local\\Temp/ipykernel_19900/3315624714.py\u001b[0m in \u001b[0;36m<module>\u001b[1;34m\u001b[0m\n\u001b[0;32m      8\u001b[0m ])\n\u001b[0;32m      9\u001b[0m \u001b[1;33m\u001b[0m\u001b[0m\n\u001b[1;32m---> 10\u001b[1;33m \u001b[0mnum_pipeline\u001b[0m\u001b[1;33m.\u001b[0m\u001b[0mfit_transform\u001b[0m\u001b[1;33m(\u001b[0m\u001b[0mX_train\u001b[0m\u001b[1;33m[\u001b[0m\u001b[0mnum_features\u001b[0m\u001b[1;33m]\u001b[0m\u001b[1;33m)\u001b[0m\u001b[1;33m.\u001b[0m\u001b[0mshape\u001b[0m\u001b[1;33m\u001b[0m\u001b[1;33m\u001b[0m\u001b[0m\n\u001b[0m",
      "\u001b[1;32mC:\\ProgramData\\Miniconda3\\envs\\dash_env\\lib\\site-packages\\pandas\\core\\frame.py\u001b[0m in \u001b[0;36m__getitem__\u001b[1;34m(self, key)\u001b[0m\n\u001b[0;32m   3028\u001b[0m             \u001b[1;32mif\u001b[0m \u001b[0mis_iterator\u001b[0m\u001b[1;33m(\u001b[0m\u001b[0mkey\u001b[0m\u001b[1;33m)\u001b[0m\u001b[1;33m:\u001b[0m\u001b[1;33m\u001b[0m\u001b[1;33m\u001b[0m\u001b[0m\n\u001b[0;32m   3029\u001b[0m                 \u001b[0mkey\u001b[0m \u001b[1;33m=\u001b[0m \u001b[0mlist\u001b[0m\u001b[1;33m(\u001b[0m\u001b[0mkey\u001b[0m\u001b[1;33m)\u001b[0m\u001b[1;33m\u001b[0m\u001b[1;33m\u001b[0m\u001b[0m\n\u001b[1;32m-> 3030\u001b[1;33m             \u001b[0mindexer\u001b[0m \u001b[1;33m=\u001b[0m \u001b[0mself\u001b[0m\u001b[1;33m.\u001b[0m\u001b[0mloc\u001b[0m\u001b[1;33m.\u001b[0m\u001b[0m_get_listlike_indexer\u001b[0m\u001b[1;33m(\u001b[0m\u001b[0mkey\u001b[0m\u001b[1;33m,\u001b[0m \u001b[0maxis\u001b[0m\u001b[1;33m=\u001b[0m\u001b[1;36m1\u001b[0m\u001b[1;33m,\u001b[0m \u001b[0mraise_missing\u001b[0m\u001b[1;33m=\u001b[0m\u001b[1;32mTrue\u001b[0m\u001b[1;33m)\u001b[0m\u001b[1;33m[\u001b[0m\u001b[1;36m1\u001b[0m\u001b[1;33m]\u001b[0m\u001b[1;33m\u001b[0m\u001b[1;33m\u001b[0m\u001b[0m\n\u001b[0m\u001b[0;32m   3031\u001b[0m \u001b[1;33m\u001b[0m\u001b[0m\n\u001b[0;32m   3032\u001b[0m         \u001b[1;31m# take() does not accept boolean indexers\u001b[0m\u001b[1;33m\u001b[0m\u001b[1;33m\u001b[0m\u001b[1;33m\u001b[0m\u001b[0m\n",
      "\u001b[1;32mC:\\ProgramData\\Miniconda3\\envs\\dash_env\\lib\\site-packages\\pandas\\core\\indexing.py\u001b[0m in \u001b[0;36m_get_listlike_indexer\u001b[1;34m(self, key, axis, raise_missing)\u001b[0m\n\u001b[0;32m   1263\u001b[0m             \u001b[0mkeyarr\u001b[0m\u001b[1;33m,\u001b[0m \u001b[0mindexer\u001b[0m\u001b[1;33m,\u001b[0m \u001b[0mnew_indexer\u001b[0m \u001b[1;33m=\u001b[0m \u001b[0max\u001b[0m\u001b[1;33m.\u001b[0m\u001b[0m_reindex_non_unique\u001b[0m\u001b[1;33m(\u001b[0m\u001b[0mkeyarr\u001b[0m\u001b[1;33m)\u001b[0m\u001b[1;33m\u001b[0m\u001b[1;33m\u001b[0m\u001b[0m\n\u001b[0;32m   1264\u001b[0m \u001b[1;33m\u001b[0m\u001b[0m\n\u001b[1;32m-> 1265\u001b[1;33m         \u001b[0mself\u001b[0m\u001b[1;33m.\u001b[0m\u001b[0m_validate_read_indexer\u001b[0m\u001b[1;33m(\u001b[0m\u001b[0mkeyarr\u001b[0m\u001b[1;33m,\u001b[0m \u001b[0mindexer\u001b[0m\u001b[1;33m,\u001b[0m \u001b[0maxis\u001b[0m\u001b[1;33m,\u001b[0m \u001b[0mraise_missing\u001b[0m\u001b[1;33m=\u001b[0m\u001b[0mraise_missing\u001b[0m\u001b[1;33m)\u001b[0m\u001b[1;33m\u001b[0m\u001b[1;33m\u001b[0m\u001b[0m\n\u001b[0m\u001b[0;32m   1266\u001b[0m         \u001b[1;32mreturn\u001b[0m \u001b[0mkeyarr\u001b[0m\u001b[1;33m,\u001b[0m \u001b[0mindexer\u001b[0m\u001b[1;33m\u001b[0m\u001b[1;33m\u001b[0m\u001b[0m\n\u001b[0;32m   1267\u001b[0m \u001b[1;33m\u001b[0m\u001b[0m\n",
      "\u001b[1;32mC:\\ProgramData\\Miniconda3\\envs\\dash_env\\lib\\site-packages\\pandas\\core\\indexing.py\u001b[0m in \u001b[0;36m_validate_read_indexer\u001b[1;34m(self, key, indexer, axis, raise_missing)\u001b[0m\n\u001b[0;32m   1313\u001b[0m             \u001b[1;32mif\u001b[0m \u001b[0mraise_missing\u001b[0m\u001b[1;33m:\u001b[0m\u001b[1;33m\u001b[0m\u001b[1;33m\u001b[0m\u001b[0m\n\u001b[0;32m   1314\u001b[0m                 \u001b[0mnot_found\u001b[0m \u001b[1;33m=\u001b[0m \u001b[0mlist\u001b[0m\u001b[1;33m(\u001b[0m\u001b[0mset\u001b[0m\u001b[1;33m(\u001b[0m\u001b[0mkey\u001b[0m\u001b[1;33m)\u001b[0m \u001b[1;33m-\u001b[0m \u001b[0mset\u001b[0m\u001b[1;33m(\u001b[0m\u001b[0max\u001b[0m\u001b[1;33m)\u001b[0m\u001b[1;33m)\u001b[0m\u001b[1;33m\u001b[0m\u001b[1;33m\u001b[0m\u001b[0m\n\u001b[1;32m-> 1315\u001b[1;33m                 \u001b[1;32mraise\u001b[0m \u001b[0mKeyError\u001b[0m\u001b[1;33m(\u001b[0m\u001b[1;34mf\"{not_found} not in index\"\u001b[0m\u001b[1;33m)\u001b[0m\u001b[1;33m\u001b[0m\u001b[1;33m\u001b[0m\u001b[0m\n\u001b[0m\u001b[0;32m   1316\u001b[0m \u001b[1;33m\u001b[0m\u001b[0m\n\u001b[0;32m   1317\u001b[0m             \u001b[0mnot_found\u001b[0m \u001b[1;33m=\u001b[0m \u001b[0mkey\u001b[0m\u001b[1;33m[\u001b[0m\u001b[0mmissing_mask\u001b[0m\u001b[1;33m]\u001b[0m\u001b[1;33m\u001b[0m\u001b[1;33m\u001b[0m\u001b[0m\n",
      "\u001b[1;31mKeyError\u001b[0m: \"['Creatinine', 'BUN', 'Bilirubin_total', 'Hgb', 'Calcium', 'Alkalinephos', 'WBC', 'Glucose', 'PTT', 'AST', 'Fibrinogen', 'ICULOS', 'Platelets'] not in index\""
     ]
    }
   ],
   "metadata": {
    "execution": {
     "iopub.execute_input": "2021-05-04T16:40:45.957010Z",
     "iopub.status.busy": "2021-05-04T16:40:45.956316Z",
     "iopub.status.idle": "2021-05-04T16:40:46.050394Z",
     "shell.execute_reply": "2021-05-04T16:40:46.049727Z"
    },
    "papermill": {
     "duration": 0.21079,
     "end_time": "2021-05-04T16:40:46.050559",
     "exception": false,
     "start_time": "2021-05-04T16:40:45.839769",
     "status": "completed"
    },
    "tags": []
   }
  },
  {
   "cell_type": "code",
   "execution_count": null,
   "source": [
    "gender_pipeline = Pipeline([\r\n",
    "    (\"imputer\", SimpleImputer(strategy=\"most_frequent\")),\r\n",
    "    (\"encoder\", OrdinalEncoder())\r\n",
    "])\r\n",
    "\r\n",
    "gender_pipeline.fit_transform(X_train[[\"Gender\"]])"
   ],
   "outputs": [
    {
     "output_type": "execute_result",
     "data": {
      "text/plain": [
       "array([[0.],\n",
       "       [1.],\n",
       "       [1.],\n",
       "       ...,\n",
       "       [0.],\n",
       "       [0.],\n",
       "       [0.]])"
      ]
     },
     "metadata": {},
     "execution_count": 39
    }
   ],
   "metadata": {
    "execution": {
     "iopub.execute_input": "2021-05-04T16:40:46.279334Z",
     "iopub.status.busy": "2021-05-04T16:40:46.278677Z",
     "iopub.status.idle": "2021-05-04T16:40:46.302350Z",
     "shell.execute_reply": "2021-05-04T16:40:46.301817Z"
    },
    "papermill": {
     "duration": 0.145743,
     "end_time": "2021-05-04T16:40:46.302507",
     "exception": false,
     "start_time": "2021-05-04T16:40:46.156764",
     "status": "completed"
    },
    "tags": []
   }
  },
  {
   "cell_type": "code",
   "execution_count": 58,
   "source": [
    "preprocessing_pipeline = ColumnTransformer([\r\n",
    "    (\"numbers\", num_pipeline, num_features),\r\n",
    "    (\"acidbase\", acidbase_pipeline, acidbase_features),\r\n",
    "    (\"age\", age_pipeline, [\"Age\"]),\r\n",
    "    (\"units\", units_pipeline, units),\r\n",
    "    (\"gender\", gender_pipeline, [\"Gender\"])\r\n",
    "], verbose=True)\r\n",
    "\r\n",
    "preprocessing_pipeline.fit_transform(X_train).shape"
   ],
   "outputs": [
    {
     "output_type": "error",
     "ename": "NameError",
     "evalue": "name 'num_pipeline' is not defined",
     "traceback": [
      "\u001b[1;31m---------------------------------------------------------------------------\u001b[0m",
      "\u001b[1;31mNameError\u001b[0m                                 Traceback (most recent call last)",
      "\u001b[1;32mC:\\Users\\MUDITC~1\\AppData\\Local\\Temp/ipykernel_19900/3942929888.py\u001b[0m in \u001b[0;36m<module>\u001b[1;34m\u001b[0m\n\u001b[0;32m      1\u001b[0m preprocessing_pipeline = ColumnTransformer([\n\u001b[1;32m----> 2\u001b[1;33m     \u001b[1;33m(\u001b[0m\u001b[1;34m\"numbers\"\u001b[0m\u001b[1;33m,\u001b[0m \u001b[0mnum_pipeline\u001b[0m\u001b[1;33m,\u001b[0m \u001b[0mnum_features\u001b[0m\u001b[1;33m)\u001b[0m\u001b[1;33m,\u001b[0m\u001b[1;33m\u001b[0m\u001b[1;33m\u001b[0m\u001b[0m\n\u001b[0m\u001b[0;32m      3\u001b[0m     \u001b[1;33m(\u001b[0m\u001b[1;34m\"acidbase\"\u001b[0m\u001b[1;33m,\u001b[0m \u001b[0macidbase_pipeline\u001b[0m\u001b[1;33m,\u001b[0m \u001b[0macidbase_features\u001b[0m\u001b[1;33m)\u001b[0m\u001b[1;33m,\u001b[0m\u001b[1;33m\u001b[0m\u001b[1;33m\u001b[0m\u001b[0m\n\u001b[0;32m      4\u001b[0m     \u001b[1;33m(\u001b[0m\u001b[1;34m\"age\"\u001b[0m\u001b[1;33m,\u001b[0m \u001b[0mage_pipeline\u001b[0m\u001b[1;33m,\u001b[0m \u001b[1;33m[\u001b[0m\u001b[1;34m\"Age\"\u001b[0m\u001b[1;33m]\u001b[0m\u001b[1;33m)\u001b[0m\u001b[1;33m,\u001b[0m\u001b[1;33m\u001b[0m\u001b[1;33m\u001b[0m\u001b[0m\n\u001b[0;32m      5\u001b[0m     \u001b[1;33m(\u001b[0m\u001b[1;34m\"units\"\u001b[0m\u001b[1;33m,\u001b[0m \u001b[0munits_pipeline\u001b[0m\u001b[1;33m,\u001b[0m \u001b[0munits\u001b[0m\u001b[1;33m)\u001b[0m\u001b[1;33m,\u001b[0m\u001b[1;33m\u001b[0m\u001b[1;33m\u001b[0m\u001b[0m\n",
      "\u001b[1;31mNameError\u001b[0m: name 'num_pipeline' is not defined"
     ]
    }
   ],
   "metadata": {
    "execution": {
     "iopub.execute_input": "2021-05-04T16:40:46.517715Z",
     "iopub.status.busy": "2021-05-04T16:40:46.517009Z",
     "iopub.status.idle": "2021-05-04T16:40:46.703901Z",
     "shell.execute_reply": "2021-05-04T16:40:46.703335Z"
    },
    "papermill": {
     "duration": 0.295961,
     "end_time": "2021-05-04T16:40:46.704071",
     "exception": false,
     "start_time": "2021-05-04T16:40:46.408110",
     "status": "completed"
    },
    "tags": []
   }
  },
  {
   "cell_type": "markdown",
   "source": [
    "---"
   ],
   "metadata": {
    "papermill": {
     "duration": 0.108135,
     "end_time": "2021-05-04T16:40:46.919809",
     "exception": false,
     "start_time": "2021-05-04T16:40:46.811674",
     "status": "completed"
    },
    "tags": []
   }
  },
  {
   "cell_type": "markdown",
   "source": [
    "<a id=\"MS\"></a>\n",
    "# 3. Model Selection"
   ],
   "metadata": {
    "papermill": {
     "duration": 0.106333,
     "end_time": "2021-05-04T16:40:47.133640",
     "exception": false,
     "start_time": "2021-05-04T16:40:47.027307",
     "status": "completed"
    },
    "tags": []
   }
  },
  {
   "cell_type": "markdown",
   "source": [
    "Before we train our model we have to select an appropriate metric. If we recall that just 7% of all patients in our dataset had sepsis we should give a higher value to false negatives (penalizing our model for predicting all 0s), thus a good metric would be *f1 score* :), which is defined as:<br>"
   ],
   "metadata": {
    "papermill": {
     "duration": 0.106019,
     "end_time": "2021-05-04T16:40:47.346272",
     "exception": false,
     "start_time": "2021-05-04T16:40:47.240253",
     "status": "completed"
    },
    "tags": []
   }
  },
  {
   "cell_type": "markdown",
   "source": [
    "$$ f_{1} = 2 \\cdot \\frac{recall \\cdot precision}{recall + precision} $$"
   ],
   "metadata": {
    "papermill": {
     "duration": 0.107658,
     "end_time": "2021-05-04T16:40:47.560362",
     "exception": false,
     "start_time": "2021-05-04T16:40:47.452704",
     "status": "completed"
    },
    "tags": []
   }
  },
  {
   "cell_type": "code",
   "execution_count": 57,
   "source": [
    "X_train = preprocessing_pipeline.fit_transform(X_train)\r\n",
    "\r\n",
    "X_test = preprocessing_pipeline.fit_transform(X_test)"
   ],
   "outputs": [
    {
     "output_type": "error",
     "ename": "NameError",
     "evalue": "name 'preprocessing_pipeline' is not defined",
     "traceback": [
      "\u001b[1;31m---------------------------------------------------------------------------\u001b[0m",
      "\u001b[1;31mNameError\u001b[0m                                 Traceback (most recent call last)",
      "\u001b[1;32mC:\\Users\\MUDITC~1\\AppData\\Local\\Temp/ipykernel_19900/3860774633.py\u001b[0m in \u001b[0;36m<module>\u001b[1;34m\u001b[0m\n\u001b[1;32m----> 1\u001b[1;33m \u001b[0mX_train\u001b[0m \u001b[1;33m=\u001b[0m \u001b[0mpreprocessing_pipeline\u001b[0m\u001b[1;33m.\u001b[0m\u001b[0mfit_transform\u001b[0m\u001b[1;33m(\u001b[0m\u001b[0mX_train\u001b[0m\u001b[1;33m)\u001b[0m\u001b[1;33m\u001b[0m\u001b[1;33m\u001b[0m\u001b[0m\n\u001b[0m\u001b[0;32m      2\u001b[0m \u001b[1;33m\u001b[0m\u001b[0m\n\u001b[0;32m      3\u001b[0m \u001b[0mX_test\u001b[0m \u001b[1;33m=\u001b[0m \u001b[0mpreprocessing_pipeline\u001b[0m\u001b[1;33m.\u001b[0m\u001b[0mfit_transform\u001b[0m\u001b[1;33m(\u001b[0m\u001b[0mX_test\u001b[0m\u001b[1;33m)\u001b[0m\u001b[1;33m\u001b[0m\u001b[1;33m\u001b[0m\u001b[0m\n",
      "\u001b[1;31mNameError\u001b[0m: name 'preprocessing_pipeline' is not defined"
     ]
    }
   ],
   "metadata": {
    "execution": {
     "iopub.execute_input": "2021-05-04T16:40:47.789286Z",
     "iopub.status.busy": "2021-05-04T16:40:47.788542Z",
     "iopub.status.idle": "2021-05-04T16:40:48.016570Z",
     "shell.execute_reply": "2021-05-04T16:40:48.015998Z"
    },
    "papermill": {
     "duration": 0.345572,
     "end_time": "2021-05-04T16:40:48.016722",
     "exception": false,
     "start_time": "2021-05-04T16:40:47.671150",
     "status": "completed"
    },
    "tags": []
   }
  },
  {
   "cell_type": "code",
   "execution_count": null,
   "source": [
    "logreg = LogisticRegression(verbose=1)\r\n",
    "logreg.fit(X_train, y_train)\r\n",
    "cv_logreg = cross_validate(logreg, X_train, y_train, cv=3, scoring=\"f1\", return_train_score=True)\r\n",
    "cv_logreg"
   ],
   "outputs": [
    {
     "output_type": "stream",
     "name": "stderr",
     "text": [
      "[Parallel(n_jobs=1)]: Using backend SequentialBackend with 1 concurrent workers.\n",
      "[Parallel(n_jobs=1)]: Done   1 out of   1 | elapsed:    0.4s finished\n",
      "[Parallel(n_jobs=1)]: Using backend SequentialBackend with 1 concurrent workers.\n",
      "[Parallel(n_jobs=1)]: Done   1 out of   1 | elapsed:    0.3s finished\n",
      "[Parallel(n_jobs=1)]: Using backend SequentialBackend with 1 concurrent workers.\n",
      "[Parallel(n_jobs=1)]: Done   1 out of   1 | elapsed:    0.3s finished\n",
      "[Parallel(n_jobs=1)]: Using backend SequentialBackend with 1 concurrent workers.\n",
      "[Parallel(n_jobs=1)]: Done   1 out of   1 | elapsed:    0.3s finished\n"
     ]
    },
    {
     "output_type": "execute_result",
     "data": {
      "text/plain": [
       "{'fit_time': array([0.28175497, 0.26120138, 0.27458763]),\n",
       " 'score_time': array([0.01054072, 0.01087904, 0.00991917]),\n",
       " 'test_score': array([0.48979592, 0.51141553, 0.50819672]),\n",
       " 'train_score': array([0.50434783, 0.50890818, 0.50664224])}"
      ]
     },
     "metadata": {},
     "execution_count": 42
    }
   ],
   "metadata": {
    "execution": {
     "iopub.execute_input": "2021-05-04T16:40:48.236486Z",
     "iopub.status.busy": "2021-05-04T16:40:48.235799Z",
     "iopub.status.idle": "2021-05-04T16:40:49.597034Z",
     "shell.execute_reply": "2021-05-04T16:40:49.598006Z"
    },
    "papermill": {
     "duration": 1.474617,
     "end_time": "2021-05-04T16:40:49.598287",
     "exception": false,
     "start_time": "2021-05-04T16:40:48.123670",
     "status": "completed"
    },
    "tags": []
   }
  },
  {
   "cell_type": "code",
   "execution_count": null,
   "source": [
    "from sklearn.neighbors import KNeighborsClassifier\r\n",
    "\r\n",
    "knn = KNeighborsClassifier(n_neighbors=50)\r\n",
    "knn.fit(X_train, y_train)\r\n",
    "cv_knn = cross_validate(knn, X_train, y_train, cv=3, scoring=\"f1\", return_train_score=True)\r\n",
    "cv_knn"
   ],
   "outputs": [
    {
     "output_type": "execute_result",
     "data": {
      "text/plain": [
       "{'fit_time': array([0.00494337, 0.0044136 , 0.00433421]),\n",
       " 'score_time': array([5.68921375, 5.07034993, 5.4776516 ]),\n",
       " 'test_score': array([0.48628193, 0.48725212, 0.46878002]),\n",
       " 'train_score': array([0.47659981, 0.48193916, 0.49362907])}"
      ]
     },
     "metadata": {},
     "execution_count": 43
    }
   ],
   "metadata": {
    "execution": {
     "iopub.execute_input": "2021-05-04T16:40:49.876260Z",
     "iopub.status.busy": "2021-05-04T16:40:49.875438Z",
     "iopub.status.idle": "2021-05-04T16:41:38.177539Z",
     "shell.execute_reply": "2021-05-04T16:41:38.178196Z"
    },
    "papermill": {
     "duration": 48.424872,
     "end_time": "2021-05-04T16:41:38.178389",
     "exception": false,
     "start_time": "2021-05-04T16:40:49.753517",
     "status": "completed"
    },
    "tags": []
   }
  },
  {
   "cell_type": "code",
   "execution_count": null,
   "source": [
    "from sklearn.ensemble import RandomForestClassifier\r\n",
    "\r\n",
    "rf = RandomForestClassifier(n_estimators=10, verbose=1)\r\n",
    "cv_rf = cross_validate(rf, X_train, y_train, cv=3, scoring=\"f1\", return_train_score=True)\r\n",
    "cv_rf"
   ],
   "outputs": [
    {
     "output_type": "stream",
     "name": "stderr",
     "text": [
      "[Parallel(n_jobs=1)]: Using backend SequentialBackend with 1 concurrent workers.\n",
      "[Parallel(n_jobs=1)]: Done  10 out of  10 | elapsed:    0.4s finished\n",
      "[Parallel(n_jobs=1)]: Using backend SequentialBackend with 1 concurrent workers.\n",
      "[Parallel(n_jobs=1)]: Done  10 out of  10 | elapsed:    0.0s finished\n",
      "[Parallel(n_jobs=1)]: Using backend SequentialBackend with 1 concurrent workers.\n",
      "[Parallel(n_jobs=1)]: Done  10 out of  10 | elapsed:    0.0s finished\n",
      "[Parallel(n_jobs=1)]: Using backend SequentialBackend with 1 concurrent workers.\n",
      "[Parallel(n_jobs=1)]: Done  10 out of  10 | elapsed:    0.3s finished\n",
      "[Parallel(n_jobs=1)]: Using backend SequentialBackend with 1 concurrent workers.\n",
      "[Parallel(n_jobs=1)]: Done  10 out of  10 | elapsed:    0.0s finished\n",
      "[Parallel(n_jobs=1)]: Using backend SequentialBackend with 1 concurrent workers.\n",
      "[Parallel(n_jobs=1)]: Done  10 out of  10 | elapsed:    0.0s finished\n",
      "[Parallel(n_jobs=1)]: Using backend SequentialBackend with 1 concurrent workers.\n",
      "[Parallel(n_jobs=1)]: Done  10 out of  10 | elapsed:    0.3s finished\n",
      "[Parallel(n_jobs=1)]: Using backend SequentialBackend with 1 concurrent workers.\n",
      "[Parallel(n_jobs=1)]: Done  10 out of  10 | elapsed:    0.0s finished\n",
      "[Parallel(n_jobs=1)]: Using backend SequentialBackend with 1 concurrent workers.\n",
      "[Parallel(n_jobs=1)]: Done  10 out of  10 | elapsed:    0.0s finished\n"
     ]
    },
    {
     "output_type": "execute_result",
     "data": {
      "text/plain": [
       "{'fit_time': array([0.36084008, 0.35085106, 0.33956528]),\n",
       " 'score_time': array([0.02391124, 0.02306557, 0.02347994]),\n",
       " 'test_score': array([0.74315322, 0.75334324, 0.72067901]),\n",
       " 'train_score': array([0.96194226, 0.96797386, 0.96247531])}"
      ]
     },
     "metadata": {},
     "execution_count": 44
    }
   ],
   "metadata": {
    "execution": {
     "iopub.execute_input": "2021-05-04T16:41:38.401147Z",
     "iopub.status.busy": "2021-05-04T16:41:38.400465Z",
     "iopub.status.idle": "2021-05-04T16:41:39.744817Z",
     "shell.execute_reply": "2021-05-04T16:41:39.745463Z"
    },
    "papermill": {
     "duration": 1.457722,
     "end_time": "2021-05-04T16:41:39.745636",
     "exception": false,
     "start_time": "2021-05-04T16:41:38.287914",
     "status": "completed"
    },
    "tags": []
   }
  },
  {
   "cell_type": "code",
   "execution_count": 59,
   "source": [
    "from xgboost import XGBClassifier\r\n",
    "\r\n",
    "xgboost = XGBClassifier(n_estimators=150, use_label_encoder=False, scale_pos_weight=12, eval_metric=\"aucpr\", verbosity=1, disable_default_eval_metric=1)\r\n",
    "cv_xgboost = cross_validate(xgboost, X_train, y_train, cv=3, scoring=\"f1\", return_train_score=True, verbose=1)\r\n",
    "cv_xgboost"
   ],
   "outputs": [
    {
     "output_type": "stream",
     "name": "stderr",
     "text": [
      "[Parallel(n_jobs=1)]: Using backend SequentialBackend with 1 concurrent workers.\n",
      "[Parallel(n_jobs=1)]: Done   3 out of   3 | elapsed:    7.5s finished\n"
     ]
    },
    {
     "output_type": "execute_result",
     "data": {
      "text/plain": [
       "{'fit_time': array([2.73651576, 2.09099817, 2.17000341]),\n",
       " 'score_time': array([0.06299782, 0.06499767, 0.0639987 ]),\n",
       " 'test_score': array([0.24932542, 0.2429078 , 0.24      ]),\n",
       " 'train_score': array([0.28555829, 0.30001494, 0.29109776])}"
      ]
     },
     "metadata": {},
     "execution_count": 59
    }
   ],
   "metadata": {
    "execution": {
     "iopub.execute_input": "2021-05-04T16:41:39.980174Z",
     "iopub.status.busy": "2021-05-04T16:41:39.979322Z",
     "iopub.status.idle": "2021-05-04T16:41:46.675044Z",
     "shell.execute_reply": "2021-05-04T16:41:46.675819Z"
    },
    "papermill": {
     "duration": 6.815178,
     "end_time": "2021-05-04T16:41:46.676058",
     "exception": false,
     "start_time": "2021-05-04T16:41:39.860880",
     "status": "completed"
    },
    "tags": []
   }
  },
  {
   "cell_type": "code",
   "execution_count": 60,
   "source": [
    "nn = MLPClassifier(max_iter=5000, hidden_layer_sizes=(50,50,50,50), verbose=0, learning_rate=\"adaptive\")\r\n",
    "cv_nn = cross_validate(nn, X_train, y_train, cv=3, scoring=\"f1\", return_train_score=True, verbose=1)\r\n",
    "cv_nn"
   ],
   "outputs": [
    {
     "output_type": "stream",
     "name": "stderr",
     "text": [
      "[Parallel(n_jobs=1)]: Using backend SequentialBackend with 1 concurrent workers.\n",
      "C:\\ProgramData\\Miniconda3\\envs\\dash_env\\lib\\site-packages\\sklearn\\model_selection\\_validation.py:536: FitFailedWarning: Estimator fit failed. The score on this train-test partition for these parameters will be set to nan. Details: \n",
      "ValueError: Input contains NaN, infinity or a value too large for dtype('float64').\n",
      "\n",
      "  FitFailedWarning)\n",
      "C:\\ProgramData\\Miniconda3\\envs\\dash_env\\lib\\site-packages\\sklearn\\model_selection\\_validation.py:536: FitFailedWarning: Estimator fit failed. The score on this train-test partition for these parameters will be set to nan. Details: \n",
      "ValueError: Input contains NaN, infinity or a value too large for dtype('float64').\n",
      "\n",
      "  FitFailedWarning)\n",
      "C:\\ProgramData\\Miniconda3\\envs\\dash_env\\lib\\site-packages\\sklearn\\model_selection\\_validation.py:536: FitFailedWarning: Estimator fit failed. The score on this train-test partition for these parameters will be set to nan. Details: \n",
      "ValueError: Input contains NaN, infinity or a value too large for dtype('float64').\n",
      "\n",
      "  FitFailedWarning)\n",
      "[Parallel(n_jobs=1)]: Done   3 out of   3 | elapsed:    0.0s finished\n"
     ]
    },
    {
     "output_type": "execute_result",
     "data": {
      "text/plain": [
       "{'fit_time': array([0.00399518, 0.00800943, 0.00700593]),\n",
       " 'score_time': array([0., 0., 0.]),\n",
       " 'test_score': array([nan, nan, nan]),\n",
       " 'train_score': array([nan, nan, nan])}"
      ]
     },
     "metadata": {},
     "execution_count": 60
    }
   ],
   "metadata": {
    "execution": {
     "iopub.execute_input": "2021-05-04T16:41:46.905463Z",
     "iopub.status.busy": "2021-05-04T16:41:46.904788Z",
     "iopub.status.idle": "2021-05-04T16:44:29.729455Z",
     "shell.execute_reply": "2021-05-04T16:44:29.728909Z"
    },
    "papermill": {
     "duration": 162.941287,
     "end_time": "2021-05-04T16:44:29.729617",
     "exception": false,
     "start_time": "2021-05-04T16:41:46.788330",
     "status": "completed"
    },
    "tags": []
   }
  },
  {
   "cell_type": "markdown",
   "source": [
    "It's evident that a simple logistic regression unit and k-means clustering underfit the data, while both ensemble models and neural network overfit."
   ],
   "metadata": {
    "papermill": {
     "duration": 0.114833,
     "end_time": "2021-05-04T16:44:29.958379",
     "exception": false,
     "start_time": "2021-05-04T16:44:29.843546",
     "status": "completed"
    },
    "tags": []
   }
  },
  {
   "cell_type": "markdown",
   "source": [
    "<a id=\"FTSM\"></a>\n",
    "# 4. Tunning model's hyperparameters"
   ],
   "metadata": {
    "papermill": {
     "duration": 0.114347,
     "end_time": "2021-05-04T16:44:30.188020",
     "exception": false,
     "start_time": "2021-05-04T16:44:30.073673",
     "status": "completed"
    },
    "tags": []
   }
  },
  {
   "cell_type": "code",
   "execution_count": 61,
   "source": [
    "params = {\"n_estimators\": [150, 200],\"max_delta_step\": [0.1], \"subsample\": [None, 0.5, 1], \"reg_lambda\": [1, 1.1], \"alpha\": [0, 0.1]}"
   ],
   "outputs": [],
   "metadata": {
    "execution": {
     "iopub.execute_input": "2021-05-04T16:44:30.425737Z",
     "iopub.status.busy": "2021-05-04T16:44:30.424618Z",
     "iopub.status.idle": "2021-05-04T16:44:30.427181Z",
     "shell.execute_reply": "2021-05-04T16:44:30.427806Z"
    },
    "papermill": {
     "duration": 0.124372,
     "end_time": "2021-05-04T16:44:30.427994",
     "exception": false,
     "start_time": "2021-05-04T16:44:30.303622",
     "status": "completed"
    },
    "tags": []
   }
  },
  {
   "cell_type": "code",
   "execution_count": 62,
   "source": [
    "from sklearn.model_selection import GridSearchCV\r\n",
    "\r\n",
    "grid_search = GridSearchCV(estimator=xgboost, param_grid=params, verbose=2, scoring=\"f1\", cv=2)\r\n",
    "grid_search = grid_search.fit(X_train, y_train)"
   ],
   "outputs": [
    {
     "output_type": "stream",
     "name": "stderr",
     "text": [
      "[Parallel(n_jobs=1)]: Using backend SequentialBackend with 1 concurrent workers.\n",
      "C:\\ProgramData\\Miniconda3\\envs\\dash_env\\lib\\site-packages\\sklearn\\model_selection\\_validation.py:536: FitFailedWarning: Estimator fit failed. The score on this train-test partition for these parameters will be set to nan. Details: \n",
      "xgboost.core.XGBoostError: Invalid Parameter format for subsample expect float but value='None'\n",
      "\n",
      "  FitFailedWarning)\n",
      "[Parallel(n_jobs=1)]: Done   1 out of   1 | elapsed:    0.0s remaining:    0.0s\n"
     ]
    },
    {
     "output_type": "stream",
     "name": "stdout",
     "text": [
      "Fitting 2 folds for each of 24 candidates, totalling 48 fits\n",
      "[CV] alpha=0, max_delta_step=0.1, n_estimators=150, reg_lambda=1, subsample=None \n",
      "[CV]  alpha=0, max_delta_step=0.1, n_estimators=150, reg_lambda=1, subsample=None, total=   0.0s\n",
      "[CV] alpha=0, max_delta_step=0.1, n_estimators=150, reg_lambda=1, subsample=None \n",
      "[CV]  alpha=0, max_delta_step=0.1, n_estimators=150, reg_lambda=1, subsample=None, total=   0.0s\n",
      "[CV] alpha=0, max_delta_step=0.1, n_estimators=150, reg_lambda=1, subsample=0.5 \n",
      "[CV]  alpha=0, max_delta_step=0.1, n_estimators=150, reg_lambda=1, subsample=0.5, total=   2.4s\n",
      "[CV] alpha=0, max_delta_step=0.1, n_estimators=150, reg_lambda=1, subsample=0.5 \n",
      "[CV]  alpha=0, max_delta_step=0.1, n_estimators=150, reg_lambda=1, subsample=0.5, total=   2.4s\n",
      "[CV] alpha=0, max_delta_step=0.1, n_estimators=150, reg_lambda=1, subsample=1 \n",
      "[CV]  alpha=0, max_delta_step=0.1, n_estimators=150, reg_lambda=1, subsample=1, total=   1.8s\n",
      "[CV] alpha=0, max_delta_step=0.1, n_estimators=150, reg_lambda=1, subsample=1 \n",
      "[CV]  alpha=0, max_delta_step=0.1, n_estimators=150, reg_lambda=1, subsample=1, total=   1.9s\n",
      "[CV] alpha=0, max_delta_step=0.1, n_estimators=150, reg_lambda=1.1, subsample=None \n",
      "[CV]  alpha=0, max_delta_step=0.1, n_estimators=150, reg_lambda=1.1, subsample=None, total=   0.0s\n",
      "[CV] alpha=0, max_delta_step=0.1, n_estimators=150, reg_lambda=1.1, subsample=None \n",
      "[CV]  alpha=0, max_delta_step=0.1, n_estimators=150, reg_lambda=1.1, subsample=None, total=   0.0s\n",
      "[CV] alpha=0, max_delta_step=0.1, n_estimators=150, reg_lambda=1.1, subsample=0.5 \n",
      "[CV]  alpha=0, max_delta_step=0.1, n_estimators=150, reg_lambda=1.1, subsample=0.5, total=   2.4s\n",
      "[CV] alpha=0, max_delta_step=0.1, n_estimators=150, reg_lambda=1.1, subsample=0.5 \n",
      "[CV]  alpha=0, max_delta_step=0.1, n_estimators=150, reg_lambda=1.1, subsample=0.5, total=   2.4s\n",
      "[CV] alpha=0, max_delta_step=0.1, n_estimators=150, reg_lambda=1.1, subsample=1 \n",
      "[CV]  alpha=0, max_delta_step=0.1, n_estimators=150, reg_lambda=1.1, subsample=1, total=   1.9s\n",
      "[CV] alpha=0, max_delta_step=0.1, n_estimators=150, reg_lambda=1.1, subsample=1 \n",
      "[CV]  alpha=0, max_delta_step=0.1, n_estimators=150, reg_lambda=1.1, subsample=1, total=   2.3s\n",
      "[CV] alpha=0, max_delta_step=0.1, n_estimators=200, reg_lambda=1, subsample=None \n",
      "[CV]  alpha=0, max_delta_step=0.1, n_estimators=200, reg_lambda=1, subsample=None, total=   0.0s\n",
      "[CV] alpha=0, max_delta_step=0.1, n_estimators=200, reg_lambda=1, subsample=None \n",
      "[CV]  alpha=0, max_delta_step=0.1, n_estimators=200, reg_lambda=1, subsample=None, total=   0.0s\n",
      "[CV] alpha=0, max_delta_step=0.1, n_estimators=200, reg_lambda=1, subsample=0.5 \n",
      "[CV]  alpha=0, max_delta_step=0.1, n_estimators=200, reg_lambda=1, subsample=0.5, total=   3.9s\n",
      "[CV] alpha=0, max_delta_step=0.1, n_estimators=200, reg_lambda=1, subsample=0.5 \n",
      "[CV]  alpha=0, max_delta_step=0.1, n_estimators=200, reg_lambda=1, subsample=0.5, total=   3.2s\n",
      "[CV] alpha=0, max_delta_step=0.1, n_estimators=200, reg_lambda=1, subsample=1 \n",
      "[CV]  alpha=0, max_delta_step=0.1, n_estimators=200, reg_lambda=1, subsample=1, total=   2.4s\n",
      "[CV] alpha=0, max_delta_step=0.1, n_estimators=200, reg_lambda=1, subsample=1 \n",
      "[CV]  alpha=0, max_delta_step=0.1, n_estimators=200, reg_lambda=1, subsample=1, total=   2.6s\n",
      "[CV] alpha=0, max_delta_step=0.1, n_estimators=200, reg_lambda=1.1, subsample=None \n",
      "[CV]  alpha=0, max_delta_step=0.1, n_estimators=200, reg_lambda=1.1, subsample=None, total=   0.0s\n",
      "[CV] alpha=0, max_delta_step=0.1, n_estimators=200, reg_lambda=1.1, subsample=None \n",
      "[CV]  alpha=0, max_delta_step=0.1, n_estimators=200, reg_lambda=1.1, subsample=None, total=   0.0s\n",
      "[CV] alpha=0, max_delta_step=0.1, n_estimators=200, reg_lambda=1.1, subsample=0.5 \n",
      "[CV]  alpha=0, max_delta_step=0.1, n_estimators=200, reg_lambda=1.1, subsample=0.5, total=   3.1s\n",
      "[CV] alpha=0, max_delta_step=0.1, n_estimators=200, reg_lambda=1.1, subsample=0.5 \n",
      "[CV]  alpha=0, max_delta_step=0.1, n_estimators=200, reg_lambda=1.1, subsample=0.5, total=   3.1s\n",
      "[CV] alpha=0, max_delta_step=0.1, n_estimators=200, reg_lambda=1.1, subsample=1 \n",
      "[CV]  alpha=0, max_delta_step=0.1, n_estimators=200, reg_lambda=1.1, subsample=1, total=   2.6s\n",
      "[CV] alpha=0, max_delta_step=0.1, n_estimators=200, reg_lambda=1.1, subsample=1 \n",
      "[CV]  alpha=0, max_delta_step=0.1, n_estimators=200, reg_lambda=1.1, subsample=1, total=   2.5s\n",
      "[CV] alpha=0.1, max_delta_step=0.1, n_estimators=150, reg_lambda=1, subsample=None \n",
      "[CV]  alpha=0.1, max_delta_step=0.1, n_estimators=150, reg_lambda=1, subsample=None, total=   0.0s\n",
      "[CV] alpha=0.1, max_delta_step=0.1, n_estimators=150, reg_lambda=1, subsample=None \n",
      "[CV]  alpha=0.1, max_delta_step=0.1, n_estimators=150, reg_lambda=1, subsample=None, total=   0.0s\n",
      "[CV] alpha=0.1, max_delta_step=0.1, n_estimators=150, reg_lambda=1, subsample=0.5 \n",
      "[CV]  alpha=0.1, max_delta_step=0.1, n_estimators=150, reg_lambda=1, subsample=0.5, total=   2.4s\n",
      "[CV] alpha=0.1, max_delta_step=0.1, n_estimators=150, reg_lambda=1, subsample=0.5 \n",
      "[CV]  alpha=0.1, max_delta_step=0.1, n_estimators=150, reg_lambda=1, subsample=0.5, total=   2.4s\n",
      "[CV] alpha=0.1, max_delta_step=0.1, n_estimators=150, reg_lambda=1, subsample=1 \n",
      "[CV]  alpha=0.1, max_delta_step=0.1, n_estimators=150, reg_lambda=1, subsample=1, total=   1.9s\n",
      "[CV] alpha=0.1, max_delta_step=0.1, n_estimators=150, reg_lambda=1, subsample=1 \n",
      "[CV]  alpha=0.1, max_delta_step=0.1, n_estimators=150, reg_lambda=1, subsample=1, total=   2.1s\n",
      "[CV] alpha=0.1, max_delta_step=0.1, n_estimators=150, reg_lambda=1.1, subsample=None \n",
      "[CV]  alpha=0.1, max_delta_step=0.1, n_estimators=150, reg_lambda=1.1, subsample=None, total=   0.0s\n",
      "[CV] alpha=0.1, max_delta_step=0.1, n_estimators=150, reg_lambda=1.1, subsample=None \n",
      "[CV]  alpha=0.1, max_delta_step=0.1, n_estimators=150, reg_lambda=1.1, subsample=None, total=   0.0s\n",
      "[CV] alpha=0.1, max_delta_step=0.1, n_estimators=150, reg_lambda=1.1, subsample=0.5 \n",
      "[CV]  alpha=0.1, max_delta_step=0.1, n_estimators=150, reg_lambda=1.1, subsample=0.5, total=   2.4s\n",
      "[CV] alpha=0.1, max_delta_step=0.1, n_estimators=150, reg_lambda=1.1, subsample=0.5 \n",
      "[CV]  alpha=0.1, max_delta_step=0.1, n_estimators=150, reg_lambda=1.1, subsample=0.5, total=   2.5s\n",
      "[CV] alpha=0.1, max_delta_step=0.1, n_estimators=150, reg_lambda=1.1, subsample=1 \n",
      "[CV]  alpha=0.1, max_delta_step=0.1, n_estimators=150, reg_lambda=1.1, subsample=1, total=   2.0s\n",
      "[CV] alpha=0.1, max_delta_step=0.1, n_estimators=150, reg_lambda=1.1, subsample=1 \n",
      "[CV]  alpha=0.1, max_delta_step=0.1, n_estimators=150, reg_lambda=1.1, subsample=1, total=   2.0s\n",
      "[CV] alpha=0.1, max_delta_step=0.1, n_estimators=200, reg_lambda=1, subsample=None \n",
      "[CV]  alpha=0.1, max_delta_step=0.1, n_estimators=200, reg_lambda=1, subsample=None, total=   0.0s\n",
      "[CV] alpha=0.1, max_delta_step=0.1, n_estimators=200, reg_lambda=1, subsample=None \n",
      "[CV]  alpha=0.1, max_delta_step=0.1, n_estimators=200, reg_lambda=1, subsample=None, total=   0.0s\n",
      "[CV] alpha=0.1, max_delta_step=0.1, n_estimators=200, reg_lambda=1, subsample=0.5 \n",
      "[CV]  alpha=0.1, max_delta_step=0.1, n_estimators=200, reg_lambda=1, subsample=0.5, total=   3.1s\n",
      "[CV] alpha=0.1, max_delta_step=0.1, n_estimators=200, reg_lambda=1, subsample=0.5 \n",
      "[CV]  alpha=0.1, max_delta_step=0.1, n_estimators=200, reg_lambda=1, subsample=0.5, total=   3.3s\n",
      "[CV] alpha=0.1, max_delta_step=0.1, n_estimators=200, reg_lambda=1, subsample=1 \n",
      "[CV]  alpha=0.1, max_delta_step=0.1, n_estimators=200, reg_lambda=1, subsample=1, total=   2.6s\n",
      "[CV] alpha=0.1, max_delta_step=0.1, n_estimators=200, reg_lambda=1, subsample=1 \n",
      "[CV]  alpha=0.1, max_delta_step=0.1, n_estimators=200, reg_lambda=1, subsample=1, total=   2.7s\n",
      "[CV] alpha=0.1, max_delta_step=0.1, n_estimators=200, reg_lambda=1.1, subsample=None \n",
      "[CV]  alpha=0.1, max_delta_step=0.1, n_estimators=200, reg_lambda=1.1, subsample=None, total=   0.0s\n",
      "[CV] alpha=0.1, max_delta_step=0.1, n_estimators=200, reg_lambda=1.1, subsample=None \n",
      "[CV]  alpha=0.1, max_delta_step=0.1, n_estimators=200, reg_lambda=1.1, subsample=None, total=   0.0s\n",
      "[CV] alpha=0.1, max_delta_step=0.1, n_estimators=200, reg_lambda=1.1, subsample=0.5 \n",
      "[CV]  alpha=0.1, max_delta_step=0.1, n_estimators=200, reg_lambda=1.1, subsample=0.5, total=   3.4s\n",
      "[CV] alpha=0.1, max_delta_step=0.1, n_estimators=200, reg_lambda=1.1, subsample=0.5 \n",
      "[CV]  alpha=0.1, max_delta_step=0.1, n_estimators=200, reg_lambda=1.1, subsample=0.5, total=   3.2s\n",
      "[CV] alpha=0.1, max_delta_step=0.1, n_estimators=200, reg_lambda=1.1, subsample=1 \n",
      "[CV]  alpha=0.1, max_delta_step=0.1, n_estimators=200, reg_lambda=1.1, subsample=1, total=   2.7s\n",
      "[CV] alpha=0.1, max_delta_step=0.1, n_estimators=200, reg_lambda=1.1, subsample=1 \n",
      "[CV]  alpha=0.1, max_delta_step=0.1, n_estimators=200, reg_lambda=1.1, subsample=1, total=   2.5s\n"
     ]
    },
    {
     "output_type": "stream",
     "name": "stderr",
     "text": [
      "[Parallel(n_jobs=1)]: Done  48 out of  48 | elapsed:  1.4min finished\n"
     ]
    }
   ],
   "metadata": {
    "collapsed": true,
    "execution": {
     "iopub.execute_input": "2021-05-04T16:44:30.661550Z",
     "iopub.status.busy": "2021-05-04T16:44:30.660578Z",
     "iopub.status.idle": "2021-05-04T16:46:18.990148Z",
     "shell.execute_reply": "2021-05-04T16:46:18.991127Z"
    },
    "jupyter": {
     "outputs_hidden": true
    },
    "papermill": {
     "duration": 108.44873,
     "end_time": "2021-05-04T16:46:18.991322",
     "exception": false,
     "start_time": "2021-05-04T16:44:30.542592",
     "status": "completed"
    },
    "tags": []
   }
  },
  {
   "cell_type": "code",
   "execution_count": 63,
   "source": [
    "grid_search.best_score_"
   ],
   "outputs": [
    {
     "output_type": "execute_result",
     "data": {
      "text/plain": [
       "0.24015418133065192"
      ]
     },
     "metadata": {},
     "execution_count": 63
    }
   ],
   "metadata": {
    "execution": {
     "iopub.execute_input": "2021-05-04T16:46:19.254417Z",
     "iopub.status.busy": "2021-05-04T16:46:19.253671Z",
     "iopub.status.idle": "2021-05-04T16:46:19.257597Z",
     "shell.execute_reply": "2021-05-04T16:46:19.257065Z"
    },
    "papermill": {
     "duration": 0.138088,
     "end_time": "2021-05-04T16:46:19.257739",
     "exception": false,
     "start_time": "2021-05-04T16:46:19.119651",
     "status": "completed"
    },
    "tags": []
   }
  },
  {
   "cell_type": "code",
   "execution_count": 64,
   "source": [
    "grid_search.best_params_"
   ],
   "outputs": [
    {
     "output_type": "execute_result",
     "data": {
      "text/plain": [
       "{'alpha': 0,\n",
       " 'max_delta_step': 0.1,\n",
       " 'n_estimators': 200,\n",
       " 'reg_lambda': 1.1,\n",
       " 'subsample': 1}"
      ]
     },
     "metadata": {},
     "execution_count": 64
    }
   ],
   "metadata": {
    "execution": {
     "iopub.execute_input": "2021-05-04T16:46:19.518642Z",
     "iopub.status.busy": "2021-05-04T16:46:19.517991Z",
     "iopub.status.idle": "2021-05-04T16:46:19.522982Z",
     "shell.execute_reply": "2021-05-04T16:46:19.523476Z"
    },
    "papermill": {
     "duration": 0.137405,
     "end_time": "2021-05-04T16:46:19.523653",
     "exception": false,
     "start_time": "2021-05-04T16:46:19.386248",
     "status": "completed"
    },
    "tags": []
   }
  },
  {
   "cell_type": "code",
   "execution_count": 65,
   "source": [
    "from sklearn.metrics import plot_confusion_matrix\r\n",
    "\r\n",
    "xgboost = XGBClassifier(**grid_search.best_params_, use_label_encoder=False, scale_pos_weight=12, eval_metric=\"aucpr\", verbosity=1, disable_default_eval_metric=1)\r\n",
    "xgboost.fit(X_train, y_train)"
   ],
   "outputs": [
    {
     "output_type": "execute_result",
     "data": {
      "text/plain": [
       "XGBClassifier(alpha=0, base_score=0.5, booster='gbtree', colsample_bylevel=1,\n",
       "              colsample_bynode=1, colsample_bytree=1,\n",
       "              disable_default_eval_metric=1, eval_metric='aucpr', gamma=0,\n",
       "              learning_rate=0.1, max_delta_step=0.1, max_depth=3,\n",
       "              min_child_weight=1, missing=None, n_estimators=200, n_jobs=1,\n",
       "              nthread=None, objective='binary:logistic', random_state=0,\n",
       "              reg_alpha=0, reg_lambda=1.1, scale_pos_weight=12, seed=None,\n",
       "              silent=None, subsample=1, use_label_encoder=False, verbosity=1)"
      ]
     },
     "metadata": {},
     "execution_count": 65
    }
   ],
   "metadata": {
    "execution": {
     "iopub.execute_input": "2021-05-04T16:46:19.790303Z",
     "iopub.status.busy": "2021-05-04T16:46:19.789606Z",
     "iopub.status.idle": "2021-05-04T16:46:24.631176Z",
     "shell.execute_reply": "2021-05-04T16:46:24.630079Z"
    },
    "papermill": {
     "duration": 4.97801,
     "end_time": "2021-05-04T16:46:24.631329",
     "exception": false,
     "start_time": "2021-05-04T16:46:19.653319",
     "status": "completed"
    },
    "tags": []
   }
  },
  {
   "cell_type": "code",
   "execution_count": 66,
   "source": [
    "fig, ax = plt.subplots(figsize=(6, 6))\r\n",
    "plot_confusion_matrix(xgboost, X_test, y_test, cmap=\"Blues\", ax=ax)\r\n",
    "plt.savefig(\"conf.png\", dpi=400)"
   ],
   "outputs": [
    {
     "output_type": "display_data",
     "data": {
      "image/png": "[encoded data removed]",
      "text/plain": [
       "<Figure size 432x432 with 2 Axes>"
      ]
     },
     "metadata": {
      "needs_background": "light"
     }
    }
   ],
   "metadata": {
    "execution": {
     "iopub.execute_input": "2021-05-04T16:46:24.934875Z",
     "iopub.status.busy": "2021-05-04T16:46:24.933993Z",
     "iopub.status.idle": "2021-05-04T16:46:25.650906Z",
     "shell.execute_reply": "2021-05-04T16:46:25.651542Z"
    },
    "papermill": {
     "duration": 0.88356,
     "end_time": "2021-05-04T16:46:25.651716",
     "exception": false,
     "start_time": "2021-05-04T16:46:24.768156",
     "status": "completed"
    },
    "tags": []
   }
  },
  {
   "cell_type": "code",
   "execution_count": 67,
   "source": [
    "y_pred = xgboost.predict(X_test)"
   ],
   "outputs": [],
   "metadata": {
    "execution": {
     "iopub.execute_input": "2021-05-04T16:46:25.919426Z",
     "iopub.status.busy": "2021-05-04T16:46:25.918381Z",
     "iopub.status.idle": "2021-05-04T16:46:25.932679Z",
     "shell.execute_reply": "2021-05-04T16:46:25.933266Z"
    },
    "papermill": {
     "duration": 0.150001,
     "end_time": "2021-05-04T16:46:25.933485",
     "exception": false,
     "start_time": "2021-05-04T16:46:25.783484",
     "status": "completed"
    },
    "tags": []
   }
  },
  {
   "cell_type": "code",
   "execution_count": 68,
   "source": [
    "from sklearn.metrics import recall_score\r\n",
    "\r\n",
    "\r\n",
    "print(recall_score(y_test, y_pred))\r\n",
    "print(f1_score(y_test, y_pred))"
   ],
   "outputs": [
    {
     "output_type": "stream",
     "name": "stdout",
     "text": [
      "0.6382978723404256\n",
      "0.25917926565874727\n"
     ]
    }
   ],
   "metadata": {
    "execution": {
     "iopub.execute_input": "2021-05-04T16:46:26.204809Z",
     "iopub.status.busy": "2021-05-04T16:46:26.204144Z",
     "iopub.status.idle": "2021-05-04T16:46:26.213913Z",
     "shell.execute_reply": "2021-05-04T16:46:26.213390Z"
    },
    "papermill": {
     "duration": 0.146014,
     "end_time": "2021-05-04T16:46:26.214063",
     "exception": false,
     "start_time": "2021-05-04T16:46:26.068049",
     "status": "completed"
    },
    "tags": []
   }
  },
  {
   "cell_type": "code",
   "execution_count": 69,
   "source": [
    "import pickle\r\n",
    "pickle.dump(xgboost, open(\"xgboost.pkl\",\"wb\"))\r\n"
   ],
   "outputs": [],
   "metadata": {}
  },
  {
   "cell_type": "markdown",
   "source": [],
   "metadata": {
    "papermill": {
     "duration": 0.131117,
     "end_time": "2021-05-04T16:46:26.475890",
     "exception": false,
     "start_time": "2021-05-04T16:46:26.344773",
     "status": "completed"
    },
    "tags": []
   }
  }
 ],
 "metadata": {
  "kernelspec": {
   "name": "python3",
   "display_name": "Python 3.7.7 64-bit (conda)"
  },
  "language_info": {
   "codemirror_mode": {
    "name": "ipython",
    "version": 3
   },
   "file_extension": ".py",
   "mimetype": "text/x-python",
   "name": "python",
   "nbconvert_exporter": "python",
   "pygments_lexer": "ipython3",
   "version": "3.7.7"
  },
  "papermill": {
   "default_parameters": {},
   "duration": 397.538719,
   "end_time": "2021-05-04T16:46:27.366497",
   "environment_variables": {},
   "exception": null,
   "input_path": "__notebook__.ipynb",
   "output_path": "__notebook__.ipynb",
   "parameters": {},
   "start_time": "2021-05-04T16:39:49.827778",
   "version": "2.3.2"
  },
  "interpreter": {
   "hash": "026325e6850b575d7429cb4b11bd4b524cbbc95132acc579243ec825bdc054ef"
  }
 },
 "nbformat": 4,
 "nbformat_minor": 5
}